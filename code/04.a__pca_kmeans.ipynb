{
 "cells": [
  {
   "cell_type": "markdown",
   "metadata": {
    "toc": true
   },
   "source": [
    "<h1>Table of Contents<span class=\"tocSkip\"></span></h1>\n",
    "<div class=\"toc\"><ul class=\"toc-item\"><li><span><a href=\"#Setup\" data-toc-modified-id=\"Setup-1\"><span class=\"toc-item-num\">1&nbsp;&nbsp;</span>Setup</a></span></li><li><span><a href=\"#Preprocessing\" data-toc-modified-id=\"Preprocessing-2\"><span class=\"toc-item-num\">2&nbsp;&nbsp;</span>Preprocessing</a></span><ul class=\"toc-item\"><li><span><a href=\"#Retrieve-local-descriptor\" data-toc-modified-id=\"Retrieve-local-descriptor-2.1\"><span class=\"toc-item-num\">2.1&nbsp;&nbsp;</span>Retrieve local descriptor</a></span></li><li><span><a href=\"#Segmentation-(menus)\" data-toc-modified-id=\"Segmentation-(menus)-2.2\"><span class=\"toc-item-num\">2.2&nbsp;&nbsp;</span>Segmentation (menus)</a></span><ul class=\"toc-item\"><li><span><a href=\"#Food-Menu-Info\" data-toc-modified-id=\"Food-Menu-Info-2.2.1\"><span class=\"toc-item-num\">2.2.1&nbsp;&nbsp;</span>Food Menu Info</a></span></li><li><span><a href=\"#Drink-Menu-Info\" data-toc-modified-id=\"Drink-Menu-Info-2.2.2\"><span class=\"toc-item-num\">2.2.2&nbsp;&nbsp;</span>Drink Menu Info</a></span></li></ul></li><li><span><a href=\"#Map-how-many-images-in-the-category-we-have\" data-toc-modified-id=\"Map-how-many-images-in-the-category-we-have-2.3\"><span class=\"toc-item-num\">2.3&nbsp;&nbsp;</span>Map how many images in the category we have</a></span><ul class=\"toc-item\"><li><span><a href=\"#Drink-Menu\" data-toc-modified-id=\"Drink-Menu-2.3.1\"><span class=\"toc-item-num\">2.3.1&nbsp;&nbsp;</span>Drink Menu</a></span></li></ul></li><li><span><a href=\"#Image-Augmentation\" data-toc-modified-id=\"Image-Augmentation-2.4\"><span class=\"toc-item-num\">2.4&nbsp;&nbsp;</span>Image Augmentation</a></span></li></ul></li><li><span><a href=\"#Feature-Engineering\" data-toc-modified-id=\"Feature-Engineering-3\"><span class=\"toc-item-num\">3&nbsp;&nbsp;</span>Feature Engineering</a></span><ul class=\"toc-item\"><li><span><a href=\"#PCA\" data-toc-modified-id=\"PCA-3.1\"><span class=\"toc-item-num\">3.1&nbsp;&nbsp;</span>PCA</a></span><ul class=\"toc-item\"><li><span><a href=\"#Select-the-PCA-component-number-(through-variance-%)\" data-toc-modified-id=\"Select-the-PCA-component-number-(through-variance-%)-3.1.1\"><span class=\"toc-item-num\">3.1.1&nbsp;&nbsp;</span>Select the PCA component number (through variance %)</a></span></li></ul></li><li><span><a href=\"#Generate-different-PCA-sets\" data-toc-modified-id=\"Generate-different-PCA-sets-3.2\"><span class=\"toc-item-num\">3.2&nbsp;&nbsp;</span>Generate different PCA sets</a></span></li></ul></li><li><span><a href=\"#Model\" data-toc-modified-id=\"Model-4\"><span class=\"toc-item-num\">4&nbsp;&nbsp;</span>Model</a></span><ul class=\"toc-item\"><li><span><a href=\"#The-elbow-method\" data-toc-modified-id=\"The-elbow-method-4.1\"><span class=\"toc-item-num\">4.1&nbsp;&nbsp;</span>The elbow method</a></span></li></ul></li><li><span><a href=\"#Feature-matching\" data-toc-modified-id=\"Feature-matching-5\"><span class=\"toc-item-num\">5&nbsp;&nbsp;</span>Feature matching</a></span></li></ul></div>"
   ]
  },
  {
   "cell_type": "markdown",
   "metadata": {
    "id": "101cYVFdK8N6"
   },
   "source": [
    "# Setup"
   ]
  },
  {
   "cell_type": "code",
   "execution_count": null,
   "metadata": {
    "ExecuteTime": {
     "end_time": "2022-06-30T01:37:18.784054Z",
     "start_time": "2022-06-30T01:37:18.671353Z"
    }
   },
   "outputs": [],
   "source": [
    "!/home/hui/anaconda3/envs/ml/lib/python3.10/site-packages/pip -V"
   ]
  },
  {
   "cell_type": "code",
   "execution_count": null,
   "metadata": {
    "ExecuteTime": {
     "end_time": "2022-06-30T01:37:19.790007Z",
     "start_time": "2022-06-30T01:37:19.249194Z"
    },
    "colab": {
     "base_uri": "https://localhost:8080/"
    },
    "id": "UO7FbXMSE03v",
    "outputId": "bbab0a2b-4bff-468c-a9ae-b1dba0ecaf18"
   },
   "outputs": [],
   "source": [
    "# setup to see the execution time in each cell\n",
    "\n",
    "!/home/hui/anaconda3/envs/ml/lib/python3.10/site-packages/pip install ipython-autotime\n",
    "!/home/hui/anaconda3/envs/ml/lib/python3.10/site-packages/pip install directory_structure\n",
    "!/home/hui/anaconda3/envs/ml/lib/python3.10/site-packages/pip install handcalcs\n",
    "!/home/hui/anaconda3/envs/ml/lib/python3.10/site-packages/pip install pytz\n",
    "!/home/hui/anaconda3/envs/ml/lib/python3.10/site-packages/pip install skimage\n",
    "# !/home/hui/anaconda3/envs/ml/lib/python3.10/site-packages/pip install opencv-contrib-python==4.4.0.44\n",
    "# %load_ext autotime"
   ]
  },
  {
   "cell_type": "code",
   "execution_count": 1,
   "metadata": {
    "ExecuteTime": {
     "end_time": "2022-07-05T03:58:32.806950Z",
     "start_time": "2022-07-05T03:58:30.851534Z"
    },
    "colab": {
     "base_uri": "https://localhost:8080/"
    },
    "id": "e64TGJZPHJaJ",
    "outputId": "404be46e-c88f-47aa-adaf-5ed6356ae13b"
   },
   "outputs": [],
   "source": [
    "import pandas as pd\n",
    "import os\n",
    "import random\n",
    "import glob\n",
    "import PIL\n",
    "from PIL import Image\n",
    "import numpy as np\n",
    "from numpy import mean\n",
    "# import cupy as cp\n",
    "import matplotlib.pyplot as plt\n",
    "import matplotlib.image as mpimg\n",
    "import cv2\n",
    "# from google.colab.patches import cv2_imshow\n",
    "# from directory_structure import Tree\n",
    "import shutil\n",
    "# import handcalcs.render\n",
    "import pickle\n",
    "\n",
    "import matplotlib.pyplot as plt\n",
    "# from skimage import draw\n",
    "\n",
    "from sklearn.decomposition import PCA\n",
    "from sklearn.cluster import KMeans\n",
    "# from cuml.cluster import KMeans"
   ]
  },
  {
   "cell_type": "code",
   "execution_count": 2,
   "metadata": {
    "ExecuteTime": {
     "end_time": "2022-07-05T03:58:32.811254Z",
     "start_time": "2022-07-05T03:58:32.808236Z"
    },
    "colab": {
     "base_uri": "https://localhost:8080/"
    },
    "id": "GSmlrTFFDQcG",
    "outputId": "1f8edcc0-98c9-4522-c9cc-e68c7c066c72"
   },
   "outputs": [
    {
     "name": "stdout",
     "output_type": "stream",
     "text": [
      "4.5.5\n"
     ]
    }
   ],
   "source": [
    "print (cv2.__version__)"
   ]
  },
  {
   "cell_type": "markdown",
   "metadata": {
    "id": "Z2l4xfg5K-G5"
   },
   "source": [
    "# Preprocessing"
   ]
  },
  {
   "cell_type": "markdown",
   "metadata": {},
   "source": [
    "Use this if you are using Google Colab."
   ]
  },
  {
   "cell_type": "code",
   "execution_count": 3,
   "metadata": {
    "ExecuteTime": {
     "end_time": "2022-07-05T03:58:32.814588Z",
     "start_time": "2022-07-05T03:58:32.812644Z"
    },
    "colab": {
     "base_uri": "https://localhost:8080/"
    },
    "id": "lfdjbNrKKNPL",
    "outputId": "a782f00f-5293-4e68-ce36-567618fc3cda"
   },
   "outputs": [],
   "source": [
    "# from google.colab import drive\n",
    "# drive.mount('/content/drive')"
   ]
  },
  {
   "cell_type": "code",
   "execution_count": 4,
   "metadata": {
    "ExecuteTime": {
     "end_time": "2022-07-05T03:58:32.819103Z",
     "start_time": "2022-07-05T03:58:32.816239Z"
    },
    "colab": {
     "base_uri": "https://localhost:8080/"
    },
    "id": "NbZ8Rn6_KlfN",
    "outputId": "bb1282bb-e5c4-467d-bdba-64622c586d2e"
   },
   "outputs": [],
   "source": [
    "# replace the dir if needed\n",
    "\n",
    "ROOT_DIR = \"/home/hui/Projects/g5/datasets\"  # Henry's dir\n",
    "# ROOT_DIR = \"/content/drive/MyDrive/Project - G5/Dataset/\"    #Lejia's dir\n",
    "# ROOT_DIR = \"/content/drive/MyDrive/Project - G5/Dataset/\" #Nan's dir\n",
    "# ROOT_DIR = \"/content/drive/MyDrive/Project - G5/Dataset\"\n",
    "\n",
    "SAVE_DE_DIR = ROOT_DIR + \"/descriptors\"\n",
    "RESIZE_DIR = ROOT_DIR + \"/augmentation/resize\"\n",
    "\n",
    "MENU_FOOD = ROOT_DIR + \"/MeetFresh_menu_food_2.csv\"\n",
    "MENU_DRINK = ROOT_DIR + \"/MeetFresh_menu_drink_2.csv\""
   ]
  },
  {
   "cell_type": "markdown",
   "metadata": {},
   "source": [
    "## Retrieve local descriptor"
   ]
  },
  {
   "cell_type": "code",
   "execution_count": 5,
   "metadata": {
    "ExecuteTime": {
     "end_time": "2022-07-05T03:58:32.824900Z",
     "start_time": "2022-07-05T03:58:32.820980Z"
    }
   },
   "outputs": [],
   "source": [
    "def retrieve_stored_descriptor(product_name: str):\n",
    "    # retrieve a stored local descriptor based on given name\n",
    "    try:\n",
    "        file_path = SAVE_DE_DIR + \"/\" + product_name + \".txt\"\n",
    "        file = open(file_path, 'rb')\n",
    "        descriptor = pickle.load(file)\n",
    "        file.close()\n",
    "        return descriptor\n",
    "    except FileNotFoundError:\n",
    "        print(\"Wrong file name or path\")\n",
    "        return None\n",
    "    except e:\n",
    "        print(\"Error due to: {}\".format(e))\n",
    "        return None"
   ]
  },
  {
   "cell_type": "markdown",
   "metadata": {},
   "source": [
    "## Segmentation (menus)"
   ]
  },
  {
   "cell_type": "code",
   "execution_count": 6,
   "metadata": {
    "ExecuteTime": {
     "end_time": "2022-07-05T03:58:32.838516Z",
     "start_time": "2022-07-05T03:58:32.826304Z"
    }
   },
   "outputs": [],
   "source": [
    "df_food = pd.read_csv(MENU_FOOD, skiprows=1)\n",
    "df_drink = pd.read_csv(MENU_DRINK, skiprows=1)"
   ]
  },
  {
   "cell_type": "code",
   "execution_count": 101,
   "metadata": {
    "ExecuteTime": {
     "end_time": "2022-07-05T16:15:46.560329Z",
     "start_time": "2022-07-05T16:15:46.554134Z"
    }
   },
   "outputs": [
    {
     "data": {
      "text/plain": [
       "0     False\n",
       "1     False\n",
       "2     False\n",
       "3     False\n",
       "4     False\n",
       "5     False\n",
       "6     False\n",
       "7     False\n",
       "8     False\n",
       "9     False\n",
       "10    False\n",
       "11    False\n",
       "12    False\n",
       "13    False\n",
       "14    False\n",
       "15    False\n",
       "16    False\n",
       "17    False\n",
       "18    False\n",
       "19    False\n",
       "20     True\n",
       "21    False\n",
       "22    False\n",
       "23    False\n",
       "24    False\n",
       "25    False\n",
       "26    False\n",
       "27    False\n",
       "28    False\n",
       "29    False\n",
       "30    False\n",
       "31    False\n",
       "32    False\n",
       "33    False\n",
       "34    False\n",
       "35    False\n",
       "36    False\n",
       "37    False\n",
       "38    False\n",
       "39    False\n",
       "40    False\n",
       "41    False\n",
       "42    False\n",
       "43    False\n",
       "44    False\n",
       "45    False\n",
       "46    False\n",
       "Name: Item Name (ENG), dtype: bool"
      ]
     },
     "execution_count": 101,
     "metadata": {},
     "output_type": "execute_result"
    }
   ],
   "source": [
    "df_drink[\"Item Name (ENG)\"] == \"Black Sugar Boba Fresh MIlk\""
   ]
  },
  {
   "cell_type": "markdown",
   "metadata": {},
   "source": [
    "### Food Menu Info"
   ]
  },
  {
   "cell_type": "code",
   "execution_count": 7,
   "metadata": {
    "ExecuteTime": {
     "end_time": "2022-07-05T03:58:32.847388Z",
     "start_time": "2022-07-05T03:58:32.839652Z"
    }
   },
   "outputs": [
    {
     "data": {
      "text/plain": [
       "Index(['Item ID', 'Menu Category', 'Item Name (CHN)', 'Item Name (ENG)', 'Hot',\n",
       "       'Cold', 'Size', 'Kcal', 'Egg Allergen', 'Peanut Allergen', 'Top Seller',\n",
       "       'Seasonal', 'Taro Balls', 'Taro Paste', 'Potaro Balls', 'Boba',\n",
       "       'Shaved Ice', 'Grass Jelly', 'Grass Jelly Shaved Ice', 'Ice Cream',\n",
       "       'Sesame Rice Balls', 'Rice Balls', 'Taro', 'Red Beans', 'Peanuts',\n",
       "       'Melon Jelly', 'Red Bean Soup', 'Mini Q', 'Grass Jelly Soup',\n",
       "       'Almond Flakes', 'Almond Pudding', 'Almond Soup', 'Caramel Pudding',\n",
       "       'Q Mochi', 'Black Sugar Boba', 'Milk Tea Sauce', 'Strawberry', 'Mango',\n",
       "       'Egg Waffle', 'Matcha Egg Waffle', 'Chocolate Egg Waffle',\n",
       "       'Chocolate Chips', 'Matcha Red Bean', 'Mixed Nuts',\n",
       "       'Chocolate Wafer Rolls', 'Chocolate Syrup'],\n",
       "      dtype='object')"
      ]
     },
     "execution_count": 7,
     "metadata": {},
     "output_type": "execute_result"
    }
   ],
   "source": [
    "df_food.columns"
   ]
  },
  {
   "cell_type": "code",
   "execution_count": 8,
   "metadata": {
    "ExecuteTime": {
     "end_time": "2022-07-05T03:58:32.953059Z",
     "start_time": "2022-07-05T03:58:32.935528Z"
    }
   },
   "outputs": [
    {
     "data": {
      "text/plain": [
       "Tofu Pudding        18\n",
       "Shaved Ice          16\n",
       "Small Bites          8\n",
       "Egg Waffle           7\n",
       "Signature Series     6\n",
       "Create Your Own      5\n",
       "Name: Menu Category, dtype: int64"
      ]
     },
     "execution_count": 8,
     "metadata": {},
     "output_type": "execute_result"
    }
   ],
   "source": [
    "df_food[\"Menu Category\"].value_counts()"
   ]
  },
  {
   "cell_type": "code",
   "execution_count": 9,
   "metadata": {
    "ExecuteTime": {
     "end_time": "2022-07-05T03:58:33.135467Z",
     "start_time": "2022-07-05T03:58:33.119477Z"
    }
   },
   "outputs": [
    {
     "data": {
      "text/plain": [
       "6"
      ]
     },
     "execution_count": 9,
     "metadata": {},
     "output_type": "execute_result"
    }
   ],
   "source": [
    "len(df_food[\"Menu Category\"].unique())"
   ]
  },
  {
   "cell_type": "markdown",
   "metadata": {},
   "source": [
    "### Drink Menu Info"
   ]
  },
  {
   "cell_type": "code",
   "execution_count": 10,
   "metadata": {
    "ExecuteTime": {
     "end_time": "2022-07-05T03:58:33.875233Z",
     "start_time": "2022-07-05T03:58:33.871387Z"
    }
   },
   "outputs": [
    {
     "data": {
      "text/plain": [
       "Index(['Item ID', 'Menu Category', 'Item Name (CHN)', 'Item Name (ENG)', 'Hot',\n",
       "       'Cold', 'Kcal', 'Full Sugar', 'Half Sugar', 'No Sugar', 'Fixed Sugar',\n",
       "       'Black Tea', 'Green Tea', 'Oolong Tea', 'Jin Xuan Oolong', 'Herbal Tea',\n",
       "       'Winter Melon Tea', 'Almond Drink', 'Fresh Milk', 'Milk', 'Boba',\n",
       "       'Taro Paste', 'Black Sugar Boba', 'Grass Jelly', 'Pudding', 'Mini Q',\n",
       "       'Lychee Jelly', 'Melon Jelly', 'Mango', 'Mixed Fruit', 'Strawberry',\n",
       "       'Fluffly Creamer', 'Lemon', 'Passion Fuit', 'Orange', 'Red Bean Soup',\n",
       "       'Hot Grass Jelly', 'Top Seller', 'Peanut'],\n",
       "      dtype='object')"
      ]
     },
     "execution_count": 10,
     "metadata": {},
     "output_type": "execute_result"
    }
   ],
   "source": [
    "df_drink.columns"
   ]
  },
  {
   "cell_type": "code",
   "execution_count": 11,
   "metadata": {
    "ExecuteTime": {
     "end_time": "2022-07-05T03:58:34.052118Z",
     "start_time": "2022-07-05T03:58:34.047765Z"
    }
   },
   "outputs": [
    {
     "data": {
      "text/plain": [
       "Milk Teas            10\n",
       "Fluffy                7\n",
       "Fruit Series          7\n",
       "Winter Melon Teas     6\n",
       "Teas                  4\n",
       "Herbal Teas           4\n",
       "Fresh Milk            4\n",
       "Slush                 4\n",
       "Almond Drink          1\n",
       "Name: Menu Category, dtype: int64"
      ]
     },
     "execution_count": 11,
     "metadata": {},
     "output_type": "execute_result"
    }
   ],
   "source": [
    "df_drink[\"Menu Category\"].value_counts()"
   ]
  },
  {
   "cell_type": "code",
   "execution_count": 12,
   "metadata": {
    "ExecuteTime": {
     "end_time": "2022-07-05T03:58:35.705481Z",
     "start_time": "2022-07-05T03:58:35.702213Z"
    }
   },
   "outputs": [
    {
     "data": {
      "text/plain": [
       "9"
      ]
     },
     "execution_count": 12,
     "metadata": {},
     "output_type": "execute_result"
    }
   ],
   "source": [
    "len(df_drink[\"Menu Category\"].unique())"
   ]
  },
  {
   "cell_type": "markdown",
   "metadata": {},
   "source": [
    "## Map how many images in the category we have\n",
    "\n",
    "### Drink Menu"
   ]
  },
  {
   "cell_type": "code",
   "execution_count": 117,
   "metadata": {
    "ExecuteTime": {
     "end_time": "2022-07-05T17:17:41.143117Z",
     "start_time": "2022-07-05T17:17:41.100105Z"
    }
   },
   "outputs": [
    {
     "name": "stdout",
     "output_type": "stream",
     "text": [
      "{'Almond Drink': 1, 'Herbal Teas': 3, 'Milk Teas': 10, 'Winter Melon Teas': 6, 'Teas': 4, 'Fruit Series': 4, 'Fluffy': 7, 'Slush': 4, 'Fresh Milk': 3}\n"
     ]
    }
   ],
   "source": [
    "org_dir = ROOT_DIR + \"/cv2\"\n",
    "org_files = os.listdir(org_dir)\n",
    "\n",
    "unique_list = list()\n",
    "\n",
    "for item in org_files:\n",
    "    temp_df = df_drink.loc[(df_drink[\"Item Name (ENG)\"] == item.split(\".\")[0])]\n",
    "    # print(\"Name: {} ==> {}\".format(item, temp_df[\"Menu Category\"]))\n",
    "    if len(temp_df[\"Menu Category\"].values) > 0:\n",
    "        unique_list.append(temp_df[\"Menu Category\"].values[0])\n",
    "    # break\n",
    "\n",
    "    \n",
    "print(dict((x,unique_list.count(x)) for x in set(unique_list)))"
   ]
  },
  {
   "cell_type": "markdown",
   "metadata": {},
   "source": [
    "## Image Augmentation\n",
    "\n",
    "Some of the images are not in the same size (pixel), therefore, we need to perform image augmentation (resize and do not preserve aspect ratio) in order to have all images in the same pixel size (width and height)."
   ]
  },
  {
   "cell_type": "code",
   "execution_count": 15,
   "metadata": {
    "ExecuteTime": {
     "end_time": "2022-07-05T04:04:30.901125Z",
     "start_time": "2022-07-05T04:04:28.859368Z"
    }
   },
   "outputs": [
    {
     "name": "stderr",
     "output_type": "stream",
     "text": [
      "Corrupt JPEG data: 1 extraneous bytes before marker 0xd9\n"
     ]
    },
    {
     "name": "stdout",
     "output_type": "stream",
     "text": [
      ">>> All jobs done!\n"
     ]
    }
   ],
   "source": [
    "def resize_image(img, w, h):\n",
    "    # resize while do not preserve aspect ratio\n",
    "    return cv2.resize(img, (w, h), interpolation=cv2.INTER_AREA)\n",
    "\n",
    "img_dir = ROOT_DIR + \"/cv2\"\n",
    "img_files = os.listdir(img_dir)\n",
    "\n",
    "if not os.path.exists(RESIZE_DIR):\n",
    "    os.makedirs(RESIZE_DIR)\n",
    "\n",
    "for img in img_files:\n",
    "    # print(img)\n",
    "    image = cv2.imread(img_dir + \"/\" + img)\n",
    "    resized_img = resize_image(image, 256, 256)\n",
    "    cv2.imwrite(RESIZE_DIR+\"/\"+str(img), resized_img)\n",
    "\n",
    "print(\">>> All jobs done!\")"
   ]
  },
  {
   "cell_type": "markdown",
   "metadata": {},
   "source": [
    "# Feature Engineering\n",
    "\n",
    "## PCA"
   ]
  },
  {
   "cell_type": "code",
   "execution_count": 43,
   "metadata": {
    "ExecuteTime": {
     "end_time": "2022-07-05T04:50:01.453673Z",
     "start_time": "2022-07-05T04:50:01.364093Z"
    }
   },
   "outputs": [
    {
     "name": "stdout",
     "output_type": "stream",
     "text": [
      ">>> All jobs done!\n"
     ]
    }
   ],
   "source": [
    "imgs_files = os.listdir(RESIZE_DIR)\n",
    "\n",
    "x = list()\n",
    "\n",
    "for img in imgs_files:\n",
    "    # retrieve the img data\n",
    "    img_ = cv2.imread(RESIZE_DIR + \"/\" + img)\n",
    "    \n",
    "    # apply flatten\n",
    "    x.append(np.array(img_).flatten())\n",
    "#     x.append(np.array(img_))\n",
    "\n",
    "x = np.array(x)\n",
    "\n",
    "print(\">>> All jobs done!\")"
   ]
  },
  {
   "cell_type": "code",
   "execution_count": 44,
   "metadata": {
    "ExecuteTime": {
     "end_time": "2022-07-05T04:50:02.579475Z",
     "start_time": "2022-07-05T04:50:02.576368Z"
    }
   },
   "outputs": [
    {
     "data": {
      "text/plain": [
       "(196608,)"
      ]
     },
     "execution_count": 44,
     "metadata": {},
     "output_type": "execute_result"
    }
   ],
   "source": [
    "x[0].shape"
   ]
  },
  {
   "cell_type": "code",
   "execution_count": 31,
   "metadata": {
    "ExecuteTime": {
     "end_time": "2022-07-05T04:42:28.085030Z",
     "start_time": "2022-07-05T04:42:27.997930Z"
    }
   },
   "outputs": [
    {
     "name": "stdout",
     "output_type": "stream",
     "text": [
      "Original image size: (2234, 2355, 3)\n"
     ]
    }
   ],
   "source": [
    "img_dir = ROOT_DIR + \"/cv2\"\n",
    "org_files = os.listdir(img_dir)\n",
    "\n",
    "org_img = cv2.imread(img_dir + \"/\" + org_files[0])\n",
    "print(\"Original image size: {}\".format(org_img.shape))"
   ]
  },
  {
   "cell_type": "code",
   "execution_count": 28,
   "metadata": {
    "ExecuteTime": {
     "end_time": "2022-07-05T04:30:40.361867Z",
     "start_time": "2022-07-05T04:30:40.358155Z"
    }
   },
   "outputs": [
    {
     "name": "stdout",
     "output_type": "stream",
     "text": [
      "Original image size: (256, 256, 3)\n"
     ]
    }
   ],
   "source": [
    "resize_files = os.listdir(RESIZE_DIR)\n",
    "                        \n",
    "org_img = cv2.imread(RESIZE_DIR + \"/\" + resize_files[0])\n",
    "print(\"Original image size: {}\".format(org_img.shape))"
   ]
  },
  {
   "cell_type": "code",
   "execution_count": 33,
   "metadata": {
    "ExecuteTime": {
     "end_time": "2022-07-05T04:43:04.579670Z",
     "start_time": "2022-07-05T04:43:04.575634Z"
    }
   },
   "outputs": [
    {
     "data": {
      "text/plain": [
       "(2234, 2355, 3)"
      ]
     },
     "execution_count": 33,
     "metadata": {},
     "output_type": "execute_result"
    }
   ],
   "source": [
    "x[0].shape"
   ]
  },
  {
   "cell_type": "code",
   "execution_count": 21,
   "metadata": {
    "ExecuteTime": {
     "end_time": "2022-07-05T04:05:18.353722Z",
     "start_time": "2022-07-05T04:05:18.351650Z"
    }
   },
   "outputs": [],
   "source": [
    "# counter = 0\n",
    "\n",
    "# for i in x:\n",
    "#     print(\"{} ==> {}\".format(counter, len(i)))\n",
    "#     counter += 1"
   ]
  },
  {
   "cell_type": "code",
   "execution_count": 34,
   "metadata": {
    "ExecuteTime": {
     "end_time": "2022-07-05T03:54:48.744352Z",
     "start_time": "2022-07-05T03:54:24.758443Z"
    }
   },
   "outputs": [],
   "source": [
    "# x_stack = [desc for img in x for desc in img]\n",
    "# x_ = np.array(x_stack)\n",
    "# x_ = x_.reshape(1, -1)"
   ]
  },
  {
   "cell_type": "code",
   "execution_count": 45,
   "metadata": {
    "ExecuteTime": {
     "end_time": "2022-07-05T04:50:12.387347Z",
     "start_time": "2022-07-05T04:50:06.953453Z"
    }
   },
   "outputs": [],
   "source": [
    "pca = PCA()\n",
    "\n",
    "x_pca = pca.fit_transform(x)"
   ]
  },
  {
   "cell_type": "code",
   "execution_count": 46,
   "metadata": {
    "ExecuteTime": {
     "end_time": "2022-07-05T04:50:17.243935Z",
     "start_time": "2022-07-05T04:50:17.148971Z"
    }
   },
   "outputs": [],
   "source": [
    "import matplotlib.pyplot as plt\n",
    "import plotly.express as px"
   ]
  },
  {
   "cell_type": "code",
   "execution_count": 47,
   "metadata": {
    "ExecuteTime": {
     "end_time": "2022-07-05T04:50:17.566825Z",
     "start_time": "2022-07-05T04:50:17.563644Z"
    }
   },
   "outputs": [
    {
     "name": "stdout",
     "output_type": "stream",
     "text": [
      "X shape after PCA: (92, 92)\n"
     ]
    }
   ],
   "source": [
    "# print(\"Original X test shape: {}\".format(np.array(x_test).shape))\n",
    "print(\"X shape after PCA: {}\".format(x_pca.shape))"
   ]
  },
  {
   "cell_type": "code",
   "execution_count": 48,
   "metadata": {
    "ExecuteTime": {
     "end_time": "2022-07-05T04:50:18.503217Z",
     "start_time": "2022-07-05T04:50:18.500403Z"
    }
   },
   "outputs": [
    {
     "name": "stdout",
     "output_type": "stream",
     "text": [
      "X shape after PCA: (1, 8464)\n"
     ]
    }
   ],
   "source": [
    "x_pca_ = x_pca.reshape(1, -1)\n",
    "print(\"X shape after PCA: {}\".format(x_pca_.shape))"
   ]
  },
  {
   "cell_type": "code",
   "execution_count": 49,
   "metadata": {
    "ExecuteTime": {
     "end_time": "2022-07-05T04:50:21.159382Z",
     "start_time": "2022-07-05T04:50:21.156284Z"
    }
   },
   "outputs": [
    {
     "name": "stdout",
     "output_type": "stream",
     "text": [
      "[0.2456 0.3529 0.4423 0.5154 0.571  0.6225 0.6528 0.678  0.6981 0.7177\n",
      " 0.7354 0.752  0.7654 0.7781 0.7902 0.8007 0.8104 0.8199 0.8288 0.8373\n",
      " 0.8451 0.8528 0.8599 0.8666 0.873  0.8793 0.885  0.8905 0.8957 0.9008\n",
      " 0.9057 0.9104 0.915  0.9196 0.9238 0.9279 0.9319 0.9357 0.9393 0.9426\n",
      " 0.9458 0.9489 0.9519 0.9547 0.9573 0.9597 0.962  0.9643 0.9664 0.9686\n",
      " 0.9706 0.9726 0.9745 0.9762 0.9779 0.9794 0.9808 0.9822 0.9834 0.9845\n",
      " 0.9856 0.9866 0.9876 0.9884 0.9892 0.9901 0.9909 0.9916 0.9923 0.993\n",
      " 0.9936 0.9943 0.9949 0.9954 0.996  0.9965 0.9969 0.9973 0.9977 0.9981\n",
      " 0.9984 0.9988 0.999  0.9993 0.9995 0.9997 0.9999 0.9999 1.     1.\n",
      " 1.     1.    ]\n"
     ]
    }
   ],
   "source": [
    "exp_var_cumul = np.cumsum(pca.explained_variance_ratio_)\n",
    "exp_var_cumul_round = np.round_(exp_var_cumul, decimals = 4)\n",
    "print(exp_var_cumul_round)"
   ]
  },
  {
   "cell_type": "code",
   "execution_count": 50,
   "metadata": {
    "ExecuteTime": {
     "end_time": "2022-07-05T04:50:22.951570Z",
     "start_time": "2022-07-05T04:50:22.949226Z"
    }
   },
   "outputs": [],
   "source": [
    "# get a list of # of components\n",
    "num_comp = range(1, exp_var_cumul_round.shape[0] + 1)\n",
    "\n",
    "per_var = np.round(pca.explained_variance_ratio_* 100, decimals=1)"
   ]
  },
  {
   "cell_type": "code",
   "execution_count": 52,
   "metadata": {
    "ExecuteTime": {
     "end_time": "2022-07-05T14:34:34.001086Z",
     "start_time": "2022-07-05T14:34:33.961249Z"
    }
   },
   "outputs": [
    {
     "data": {
      "application/vnd.plotly.v1+json": {
       "config": {
        "plotlyServerURL": "https://plot.ly"
       },
       "data": [
        {
         "hovertemplate": "# Components=%{x}<br>Cumulative Explained Variance=%{y}<extra></extra>",
         "legendgroup": "",
         "line": {
          "color": "#636efa",
          "dash": "solid"
         },
         "marker": {
          "symbol": "circle"
         },
         "mode": "lines",
         "name": "",
         "orientation": "v",
         "showlegend": false,
         "type": "scatter",
         "x": [
          1,
          2,
          3,
          4,
          5,
          6,
          7,
          8,
          9,
          10,
          11,
          12,
          13,
          14,
          15,
          16,
          17,
          18,
          19,
          20,
          21,
          22,
          23,
          24,
          25,
          26,
          27,
          28,
          29,
          30,
          31,
          32,
          33,
          34,
          35,
          36,
          37,
          38,
          39,
          40,
          41,
          42,
          43,
          44,
          45,
          46,
          47,
          48,
          49,
          50,
          51,
          52,
          53,
          54,
          55,
          56,
          57,
          58,
          59,
          60,
          61,
          62,
          63,
          64,
          65,
          66,
          67,
          68,
          69,
          70,
          71,
          72,
          73,
          74,
          75,
          76,
          77,
          78,
          79,
          80,
          81,
          82,
          83,
          84,
          85,
          86,
          87,
          88,
          89,
          90,
          91,
          92
         ],
         "xaxis": "x",
         "y": [
          0.2456,
          0.3529,
          0.4423,
          0.5154,
          0.571,
          0.6225,
          0.6528,
          0.678,
          0.6981,
          0.7177,
          0.7354,
          0.752,
          0.7654,
          0.7781,
          0.7902,
          0.8007,
          0.8104,
          0.8199,
          0.8288,
          0.8373,
          0.8451,
          0.8528,
          0.8599,
          0.8666,
          0.873,
          0.8793,
          0.885,
          0.8905,
          0.8957,
          0.9008,
          0.9057,
          0.9104,
          0.915,
          0.9196,
          0.9238,
          0.9279,
          0.9319,
          0.9357,
          0.9393,
          0.9426,
          0.9458,
          0.9489,
          0.9519,
          0.9547,
          0.9573,
          0.9597,
          0.962,
          0.9643,
          0.9664,
          0.9686,
          0.9706,
          0.9726,
          0.9745,
          0.9762,
          0.9779,
          0.9794,
          0.9808,
          0.9822,
          0.9834,
          0.9845,
          0.9856,
          0.9866,
          0.9876,
          0.9884,
          0.9892,
          0.9901,
          0.9909,
          0.9916,
          0.9923,
          0.993,
          0.9936,
          0.9943,
          0.9949,
          0.9954,
          0.996,
          0.9965,
          0.9969,
          0.9973,
          0.9977,
          0.9981,
          0.9984,
          0.9988,
          0.999,
          0.9993,
          0.9995,
          0.9997,
          0.9999,
          0.9999,
          1,
          1,
          1,
          1
         ],
         "yaxis": "y"
        }
       ],
       "layout": {
        "legend": {
         "tracegroupgap": 0
        },
        "template": {
         "data": {
          "bar": [
           {
            "error_x": {
             "color": "#2a3f5f"
            },
            "error_y": {
             "color": "#2a3f5f"
            },
            "marker": {
             "line": {
              "color": "#E5ECF6",
              "width": 0.5
             },
             "pattern": {
              "fillmode": "overlay",
              "size": 10,
              "solidity": 0.2
             }
            },
            "type": "bar"
           }
          ],
          "barpolar": [
           {
            "marker": {
             "line": {
              "color": "#E5ECF6",
              "width": 0.5
             },
             "pattern": {
              "fillmode": "overlay",
              "size": 10,
              "solidity": 0.2
             }
            },
            "type": "barpolar"
           }
          ],
          "carpet": [
           {
            "aaxis": {
             "endlinecolor": "#2a3f5f",
             "gridcolor": "white",
             "linecolor": "white",
             "minorgridcolor": "white",
             "startlinecolor": "#2a3f5f"
            },
            "baxis": {
             "endlinecolor": "#2a3f5f",
             "gridcolor": "white",
             "linecolor": "white",
             "minorgridcolor": "white",
             "startlinecolor": "#2a3f5f"
            },
            "type": "carpet"
           }
          ],
          "choropleth": [
           {
            "colorbar": {
             "outlinewidth": 0,
             "ticks": ""
            },
            "type": "choropleth"
           }
          ],
          "contour": [
           {
            "colorbar": {
             "outlinewidth": 0,
             "ticks": ""
            },
            "colorscale": [
             [
              0,
              "#0d0887"
             ],
             [
              0.1111111111111111,
              "#46039f"
             ],
             [
              0.2222222222222222,
              "#7201a8"
             ],
             [
              0.3333333333333333,
              "#9c179e"
             ],
             [
              0.4444444444444444,
              "#bd3786"
             ],
             [
              0.5555555555555556,
              "#d8576b"
             ],
             [
              0.6666666666666666,
              "#ed7953"
             ],
             [
              0.7777777777777778,
              "#fb9f3a"
             ],
             [
              0.8888888888888888,
              "#fdca26"
             ],
             [
              1,
              "#f0f921"
             ]
            ],
            "type": "contour"
           }
          ],
          "contourcarpet": [
           {
            "colorbar": {
             "outlinewidth": 0,
             "ticks": ""
            },
            "type": "contourcarpet"
           }
          ],
          "heatmap": [
           {
            "colorbar": {
             "outlinewidth": 0,
             "ticks": ""
            },
            "colorscale": [
             [
              0,
              "#0d0887"
             ],
             [
              0.1111111111111111,
              "#46039f"
             ],
             [
              0.2222222222222222,
              "#7201a8"
             ],
             [
              0.3333333333333333,
              "#9c179e"
             ],
             [
              0.4444444444444444,
              "#bd3786"
             ],
             [
              0.5555555555555556,
              "#d8576b"
             ],
             [
              0.6666666666666666,
              "#ed7953"
             ],
             [
              0.7777777777777778,
              "#fb9f3a"
             ],
             [
              0.8888888888888888,
              "#fdca26"
             ],
             [
              1,
              "#f0f921"
             ]
            ],
            "type": "heatmap"
           }
          ],
          "heatmapgl": [
           {
            "colorbar": {
             "outlinewidth": 0,
             "ticks": ""
            },
            "colorscale": [
             [
              0,
              "#0d0887"
             ],
             [
              0.1111111111111111,
              "#46039f"
             ],
             [
              0.2222222222222222,
              "#7201a8"
             ],
             [
              0.3333333333333333,
              "#9c179e"
             ],
             [
              0.4444444444444444,
              "#bd3786"
             ],
             [
              0.5555555555555556,
              "#d8576b"
             ],
             [
              0.6666666666666666,
              "#ed7953"
             ],
             [
              0.7777777777777778,
              "#fb9f3a"
             ],
             [
              0.8888888888888888,
              "#fdca26"
             ],
             [
              1,
              "#f0f921"
             ]
            ],
            "type": "heatmapgl"
           }
          ],
          "histogram": [
           {
            "marker": {
             "pattern": {
              "fillmode": "overlay",
              "size": 10,
              "solidity": 0.2
             }
            },
            "type": "histogram"
           }
          ],
          "histogram2d": [
           {
            "colorbar": {
             "outlinewidth": 0,
             "ticks": ""
            },
            "colorscale": [
             [
              0,
              "#0d0887"
             ],
             [
              0.1111111111111111,
              "#46039f"
             ],
             [
              0.2222222222222222,
              "#7201a8"
             ],
             [
              0.3333333333333333,
              "#9c179e"
             ],
             [
              0.4444444444444444,
              "#bd3786"
             ],
             [
              0.5555555555555556,
              "#d8576b"
             ],
             [
              0.6666666666666666,
              "#ed7953"
             ],
             [
              0.7777777777777778,
              "#fb9f3a"
             ],
             [
              0.8888888888888888,
              "#fdca26"
             ],
             [
              1,
              "#f0f921"
             ]
            ],
            "type": "histogram2d"
           }
          ],
          "histogram2dcontour": [
           {
            "colorbar": {
             "outlinewidth": 0,
             "ticks": ""
            },
            "colorscale": [
             [
              0,
              "#0d0887"
             ],
             [
              0.1111111111111111,
              "#46039f"
             ],
             [
              0.2222222222222222,
              "#7201a8"
             ],
             [
              0.3333333333333333,
              "#9c179e"
             ],
             [
              0.4444444444444444,
              "#bd3786"
             ],
             [
              0.5555555555555556,
              "#d8576b"
             ],
             [
              0.6666666666666666,
              "#ed7953"
             ],
             [
              0.7777777777777778,
              "#fb9f3a"
             ],
             [
              0.8888888888888888,
              "#fdca26"
             ],
             [
              1,
              "#f0f921"
             ]
            ],
            "type": "histogram2dcontour"
           }
          ],
          "mesh3d": [
           {
            "colorbar": {
             "outlinewidth": 0,
             "ticks": ""
            },
            "type": "mesh3d"
           }
          ],
          "parcoords": [
           {
            "line": {
             "colorbar": {
              "outlinewidth": 0,
              "ticks": ""
             }
            },
            "type": "parcoords"
           }
          ],
          "pie": [
           {
            "automargin": true,
            "type": "pie"
           }
          ],
          "scatter": [
           {
            "fillpattern": {
             "fillmode": "overlay",
             "size": 10,
             "solidity": 0.2
            },
            "type": "scatter"
           }
          ],
          "scatter3d": [
           {
            "line": {
             "colorbar": {
              "outlinewidth": 0,
              "ticks": ""
             }
            },
            "marker": {
             "colorbar": {
              "outlinewidth": 0,
              "ticks": ""
             }
            },
            "type": "scatter3d"
           }
          ],
          "scattercarpet": [
           {
            "marker": {
             "colorbar": {
              "outlinewidth": 0,
              "ticks": ""
             }
            },
            "type": "scattercarpet"
           }
          ],
          "scattergeo": [
           {
            "marker": {
             "colorbar": {
              "outlinewidth": 0,
              "ticks": ""
             }
            },
            "type": "scattergeo"
           }
          ],
          "scattergl": [
           {
            "marker": {
             "colorbar": {
              "outlinewidth": 0,
              "ticks": ""
             }
            },
            "type": "scattergl"
           }
          ],
          "scattermapbox": [
           {
            "marker": {
             "colorbar": {
              "outlinewidth": 0,
              "ticks": ""
             }
            },
            "type": "scattermapbox"
           }
          ],
          "scatterpolar": [
           {
            "marker": {
             "colorbar": {
              "outlinewidth": 0,
              "ticks": ""
             }
            },
            "type": "scatterpolar"
           }
          ],
          "scatterpolargl": [
           {
            "marker": {
             "colorbar": {
              "outlinewidth": 0,
              "ticks": ""
             }
            },
            "type": "scatterpolargl"
           }
          ],
          "scatterternary": [
           {
            "marker": {
             "colorbar": {
              "outlinewidth": 0,
              "ticks": ""
             }
            },
            "type": "scatterternary"
           }
          ],
          "surface": [
           {
            "colorbar": {
             "outlinewidth": 0,
             "ticks": ""
            },
            "colorscale": [
             [
              0,
              "#0d0887"
             ],
             [
              0.1111111111111111,
              "#46039f"
             ],
             [
              0.2222222222222222,
              "#7201a8"
             ],
             [
              0.3333333333333333,
              "#9c179e"
             ],
             [
              0.4444444444444444,
              "#bd3786"
             ],
             [
              0.5555555555555556,
              "#d8576b"
             ],
             [
              0.6666666666666666,
              "#ed7953"
             ],
             [
              0.7777777777777778,
              "#fb9f3a"
             ],
             [
              0.8888888888888888,
              "#fdca26"
             ],
             [
              1,
              "#f0f921"
             ]
            ],
            "type": "surface"
           }
          ],
          "table": [
           {
            "cells": {
             "fill": {
              "color": "#EBF0F8"
             },
             "line": {
              "color": "white"
             }
            },
            "header": {
             "fill": {
              "color": "#C8D4E3"
             },
             "line": {
              "color": "white"
             }
            },
            "type": "table"
           }
          ]
         },
         "layout": {
          "annotationdefaults": {
           "arrowcolor": "#2a3f5f",
           "arrowhead": 0,
           "arrowwidth": 1
          },
          "autotypenumbers": "strict",
          "coloraxis": {
           "colorbar": {
            "outlinewidth": 0,
            "ticks": ""
           }
          },
          "colorscale": {
           "diverging": [
            [
             0,
             "#8e0152"
            ],
            [
             0.1,
             "#c51b7d"
            ],
            [
             0.2,
             "#de77ae"
            ],
            [
             0.3,
             "#f1b6da"
            ],
            [
             0.4,
             "#fde0ef"
            ],
            [
             0.5,
             "#f7f7f7"
            ],
            [
             0.6,
             "#e6f5d0"
            ],
            [
             0.7,
             "#b8e186"
            ],
            [
             0.8,
             "#7fbc41"
            ],
            [
             0.9,
             "#4d9221"
            ],
            [
             1,
             "#276419"
            ]
           ],
           "sequential": [
            [
             0,
             "#0d0887"
            ],
            [
             0.1111111111111111,
             "#46039f"
            ],
            [
             0.2222222222222222,
             "#7201a8"
            ],
            [
             0.3333333333333333,
             "#9c179e"
            ],
            [
             0.4444444444444444,
             "#bd3786"
            ],
            [
             0.5555555555555556,
             "#d8576b"
            ],
            [
             0.6666666666666666,
             "#ed7953"
            ],
            [
             0.7777777777777778,
             "#fb9f3a"
            ],
            [
             0.8888888888888888,
             "#fdca26"
            ],
            [
             1,
             "#f0f921"
            ]
           ],
           "sequentialminus": [
            [
             0,
             "#0d0887"
            ],
            [
             0.1111111111111111,
             "#46039f"
            ],
            [
             0.2222222222222222,
             "#7201a8"
            ],
            [
             0.3333333333333333,
             "#9c179e"
            ],
            [
             0.4444444444444444,
             "#bd3786"
            ],
            [
             0.5555555555555556,
             "#d8576b"
            ],
            [
             0.6666666666666666,
             "#ed7953"
            ],
            [
             0.7777777777777778,
             "#fb9f3a"
            ],
            [
             0.8888888888888888,
             "#fdca26"
            ],
            [
             1,
             "#f0f921"
            ]
           ]
          },
          "colorway": [
           "#636efa",
           "#EF553B",
           "#00cc96",
           "#ab63fa",
           "#FFA15A",
           "#19d3f3",
           "#FF6692",
           "#B6E880",
           "#FF97FF",
           "#FECB52"
          ],
          "font": {
           "color": "#2a3f5f"
          },
          "geo": {
           "bgcolor": "white",
           "lakecolor": "white",
           "landcolor": "#E5ECF6",
           "showlakes": true,
           "showland": true,
           "subunitcolor": "white"
          },
          "hoverlabel": {
           "align": "left"
          },
          "hovermode": "closest",
          "mapbox": {
           "style": "light"
          },
          "paper_bgcolor": "white",
          "plot_bgcolor": "#E5ECF6",
          "polar": {
           "angularaxis": {
            "gridcolor": "white",
            "linecolor": "white",
            "ticks": ""
           },
           "bgcolor": "#E5ECF6",
           "radialaxis": {
            "gridcolor": "white",
            "linecolor": "white",
            "ticks": ""
           }
          },
          "scene": {
           "xaxis": {
            "backgroundcolor": "#E5ECF6",
            "gridcolor": "white",
            "gridwidth": 2,
            "linecolor": "white",
            "showbackground": true,
            "ticks": "",
            "zerolinecolor": "white"
           },
           "yaxis": {
            "backgroundcolor": "#E5ECF6",
            "gridcolor": "white",
            "gridwidth": 2,
            "linecolor": "white",
            "showbackground": true,
            "ticks": "",
            "zerolinecolor": "white"
           },
           "zaxis": {
            "backgroundcolor": "#E5ECF6",
            "gridcolor": "white",
            "gridwidth": 2,
            "linecolor": "white",
            "showbackground": true,
            "ticks": "",
            "zerolinecolor": "white"
           }
          },
          "shapedefaults": {
           "line": {
            "color": "#2a3f5f"
           }
          },
          "ternary": {
           "aaxis": {
            "gridcolor": "white",
            "linecolor": "white",
            "ticks": ""
           },
           "baxis": {
            "gridcolor": "white",
            "linecolor": "white",
            "ticks": ""
           },
           "bgcolor": "#E5ECF6",
           "caxis": {
            "gridcolor": "white",
            "linecolor": "white",
            "ticks": ""
           }
          },
          "title": {
           "x": 0.05
          },
          "xaxis": {
           "automargin": true,
           "gridcolor": "white",
           "linecolor": "white",
           "ticks": "",
           "title": {
            "standoff": 15
           },
           "zerolinecolor": "white",
           "zerolinewidth": 2
          },
          "yaxis": {
           "automargin": true,
           "gridcolor": "white",
           "linecolor": "white",
           "ticks": "",
           "title": {
            "standoff": 15
           },
           "zerolinecolor": "white",
           "zerolinewidth": 2
          }
         }
        },
        "title": {
         "text": "# of components V.S. variance"
        },
        "xaxis": {
         "anchor": "y",
         "domain": [
          0,
          1
         ],
         "title": {
          "text": "# Components"
         }
        },
        "yaxis": {
         "anchor": "x",
         "domain": [
          0,
          1
         ],
         "title": {
          "text": "Cumulative Explained Variance"
         }
        }
       }
      },
      "text/html": [
       "<div>                            <div id=\"06692e11-412d-4911-9462-709e9457567b\" class=\"plotly-graph-div\" style=\"height:525px; width:100%;\"></div>            <script type=\"text/javascript\">                require([\"plotly\"], function(Plotly) {                    window.PLOTLYENV=window.PLOTLYENV || {};                                    if (document.getElementById(\"06692e11-412d-4911-9462-709e9457567b\")) {                    Plotly.newPlot(                        \"06692e11-412d-4911-9462-709e9457567b\",                        [{\"hovertemplate\":\"# Components=%{x}<br>Cumulative Explained Variance=%{y}<extra></extra>\",\"legendgroup\":\"\",\"line\":{\"color\":\"#636efa\",\"dash\":\"solid\"},\"marker\":{\"symbol\":\"circle\"},\"mode\":\"lines\",\"name\":\"\",\"orientation\":\"v\",\"showlegend\":false,\"x\":[1,2,3,4,5,6,7,8,9,10,11,12,13,14,15,16,17,18,19,20,21,22,23,24,25,26,27,28,29,30,31,32,33,34,35,36,37,38,39,40,41,42,43,44,45,46,47,48,49,50,51,52,53,54,55,56,57,58,59,60,61,62,63,64,65,66,67,68,69,70,71,72,73,74,75,76,77,78,79,80,81,82,83,84,85,86,87,88,89,90,91,92],\"xaxis\":\"x\",\"y\":[0.2456,0.3529,0.4423,0.5154,0.571,0.6225,0.6528,0.678,0.6981,0.7177,0.7354,0.752,0.7654,0.7781,0.7902,0.8007,0.8104,0.8199,0.8288,0.8373,0.8451,0.8528,0.8599,0.8666,0.873,0.8793,0.885,0.8905,0.8957,0.9008,0.9057,0.9104,0.915,0.9196,0.9238,0.9279,0.9319,0.9357,0.9393,0.9426,0.9458,0.9489,0.9519,0.9547,0.9573,0.9597,0.962,0.9643,0.9664,0.9686,0.9706,0.9726,0.9745,0.9762,0.9779,0.9794,0.9808,0.9822,0.9834,0.9845,0.9856,0.9866,0.9876,0.9884,0.9892,0.9901,0.9909,0.9916,0.9923,0.993,0.9936,0.9943,0.9949,0.9954,0.996,0.9965,0.9969,0.9973,0.9977,0.9981,0.9984,0.9988,0.999,0.9993,0.9995,0.9997,0.9999,0.9999,1.0,1.0,1.0,1.0],\"yaxis\":\"y\",\"type\":\"scatter\"}],                        {\"template\":{\"data\":{\"histogram2dcontour\":[{\"type\":\"histogram2dcontour\",\"colorbar\":{\"outlinewidth\":0,\"ticks\":\"\"},\"colorscale\":[[0.0,\"#0d0887\"],[0.1111111111111111,\"#46039f\"],[0.2222222222222222,\"#7201a8\"],[0.3333333333333333,\"#9c179e\"],[0.4444444444444444,\"#bd3786\"],[0.5555555555555556,\"#d8576b\"],[0.6666666666666666,\"#ed7953\"],[0.7777777777777778,\"#fb9f3a\"],[0.8888888888888888,\"#fdca26\"],[1.0,\"#f0f921\"]]}],\"choropleth\":[{\"type\":\"choropleth\",\"colorbar\":{\"outlinewidth\":0,\"ticks\":\"\"}}],\"histogram2d\":[{\"type\":\"histogram2d\",\"colorbar\":{\"outlinewidth\":0,\"ticks\":\"\"},\"colorscale\":[[0.0,\"#0d0887\"],[0.1111111111111111,\"#46039f\"],[0.2222222222222222,\"#7201a8\"],[0.3333333333333333,\"#9c179e\"],[0.4444444444444444,\"#bd3786\"],[0.5555555555555556,\"#d8576b\"],[0.6666666666666666,\"#ed7953\"],[0.7777777777777778,\"#fb9f3a\"],[0.8888888888888888,\"#fdca26\"],[1.0,\"#f0f921\"]]}],\"heatmap\":[{\"type\":\"heatmap\",\"colorbar\":{\"outlinewidth\":0,\"ticks\":\"\"},\"colorscale\":[[0.0,\"#0d0887\"],[0.1111111111111111,\"#46039f\"],[0.2222222222222222,\"#7201a8\"],[0.3333333333333333,\"#9c179e\"],[0.4444444444444444,\"#bd3786\"],[0.5555555555555556,\"#d8576b\"],[0.6666666666666666,\"#ed7953\"],[0.7777777777777778,\"#fb9f3a\"],[0.8888888888888888,\"#fdca26\"],[1.0,\"#f0f921\"]]}],\"heatmapgl\":[{\"type\":\"heatmapgl\",\"colorbar\":{\"outlinewidth\":0,\"ticks\":\"\"},\"colorscale\":[[0.0,\"#0d0887\"],[0.1111111111111111,\"#46039f\"],[0.2222222222222222,\"#7201a8\"],[0.3333333333333333,\"#9c179e\"],[0.4444444444444444,\"#bd3786\"],[0.5555555555555556,\"#d8576b\"],[0.6666666666666666,\"#ed7953\"],[0.7777777777777778,\"#fb9f3a\"],[0.8888888888888888,\"#fdca26\"],[1.0,\"#f0f921\"]]}],\"contourcarpet\":[{\"type\":\"contourcarpet\",\"colorbar\":{\"outlinewidth\":0,\"ticks\":\"\"}}],\"contour\":[{\"type\":\"contour\",\"colorbar\":{\"outlinewidth\":0,\"ticks\":\"\"},\"colorscale\":[[0.0,\"#0d0887\"],[0.1111111111111111,\"#46039f\"],[0.2222222222222222,\"#7201a8\"],[0.3333333333333333,\"#9c179e\"],[0.4444444444444444,\"#bd3786\"],[0.5555555555555556,\"#d8576b\"],[0.6666666666666666,\"#ed7953\"],[0.7777777777777778,\"#fb9f3a\"],[0.8888888888888888,\"#fdca26\"],[1.0,\"#f0f921\"]]}],\"surface\":[{\"type\":\"surface\",\"colorbar\":{\"outlinewidth\":0,\"ticks\":\"\"},\"colorscale\":[[0.0,\"#0d0887\"],[0.1111111111111111,\"#46039f\"],[0.2222222222222222,\"#7201a8\"],[0.3333333333333333,\"#9c179e\"],[0.4444444444444444,\"#bd3786\"],[0.5555555555555556,\"#d8576b\"],[0.6666666666666666,\"#ed7953\"],[0.7777777777777778,\"#fb9f3a\"],[0.8888888888888888,\"#fdca26\"],[1.0,\"#f0f921\"]]}],\"mesh3d\":[{\"type\":\"mesh3d\",\"colorbar\":{\"outlinewidth\":0,\"ticks\":\"\"}}],\"scatter\":[{\"fillpattern\":{\"fillmode\":\"overlay\",\"size\":10,\"solidity\":0.2},\"type\":\"scatter\"}],\"parcoords\":[{\"type\":\"parcoords\",\"line\":{\"colorbar\":{\"outlinewidth\":0,\"ticks\":\"\"}}}],\"scatterpolargl\":[{\"type\":\"scatterpolargl\",\"marker\":{\"colorbar\":{\"outlinewidth\":0,\"ticks\":\"\"}}}],\"bar\":[{\"error_x\":{\"color\":\"#2a3f5f\"},\"error_y\":{\"color\":\"#2a3f5f\"},\"marker\":{\"line\":{\"color\":\"#E5ECF6\",\"width\":0.5},\"pattern\":{\"fillmode\":\"overlay\",\"size\":10,\"solidity\":0.2}},\"type\":\"bar\"}],\"scattergeo\":[{\"type\":\"scattergeo\",\"marker\":{\"colorbar\":{\"outlinewidth\":0,\"ticks\":\"\"}}}],\"scatterpolar\":[{\"type\":\"scatterpolar\",\"marker\":{\"colorbar\":{\"outlinewidth\":0,\"ticks\":\"\"}}}],\"histogram\":[{\"marker\":{\"pattern\":{\"fillmode\":\"overlay\",\"size\":10,\"solidity\":0.2}},\"type\":\"histogram\"}],\"scattergl\":[{\"type\":\"scattergl\",\"marker\":{\"colorbar\":{\"outlinewidth\":0,\"ticks\":\"\"}}}],\"scatter3d\":[{\"type\":\"scatter3d\",\"line\":{\"colorbar\":{\"outlinewidth\":0,\"ticks\":\"\"}},\"marker\":{\"colorbar\":{\"outlinewidth\":0,\"ticks\":\"\"}}}],\"scattermapbox\":[{\"type\":\"scattermapbox\",\"marker\":{\"colorbar\":{\"outlinewidth\":0,\"ticks\":\"\"}}}],\"scatterternary\":[{\"type\":\"scatterternary\",\"marker\":{\"colorbar\":{\"outlinewidth\":0,\"ticks\":\"\"}}}],\"scattercarpet\":[{\"type\":\"scattercarpet\",\"marker\":{\"colorbar\":{\"outlinewidth\":0,\"ticks\":\"\"}}}],\"carpet\":[{\"aaxis\":{\"endlinecolor\":\"#2a3f5f\",\"gridcolor\":\"white\",\"linecolor\":\"white\",\"minorgridcolor\":\"white\",\"startlinecolor\":\"#2a3f5f\"},\"baxis\":{\"endlinecolor\":\"#2a3f5f\",\"gridcolor\":\"white\",\"linecolor\":\"white\",\"minorgridcolor\":\"white\",\"startlinecolor\":\"#2a3f5f\"},\"type\":\"carpet\"}],\"table\":[{\"cells\":{\"fill\":{\"color\":\"#EBF0F8\"},\"line\":{\"color\":\"white\"}},\"header\":{\"fill\":{\"color\":\"#C8D4E3\"},\"line\":{\"color\":\"white\"}},\"type\":\"table\"}],\"barpolar\":[{\"marker\":{\"line\":{\"color\":\"#E5ECF6\",\"width\":0.5},\"pattern\":{\"fillmode\":\"overlay\",\"size\":10,\"solidity\":0.2}},\"type\":\"barpolar\"}],\"pie\":[{\"automargin\":true,\"type\":\"pie\"}]},\"layout\":{\"autotypenumbers\":\"strict\",\"colorway\":[\"#636efa\",\"#EF553B\",\"#00cc96\",\"#ab63fa\",\"#FFA15A\",\"#19d3f3\",\"#FF6692\",\"#B6E880\",\"#FF97FF\",\"#FECB52\"],\"font\":{\"color\":\"#2a3f5f\"},\"hovermode\":\"closest\",\"hoverlabel\":{\"align\":\"left\"},\"paper_bgcolor\":\"white\",\"plot_bgcolor\":\"#E5ECF6\",\"polar\":{\"bgcolor\":\"#E5ECF6\",\"angularaxis\":{\"gridcolor\":\"white\",\"linecolor\":\"white\",\"ticks\":\"\"},\"radialaxis\":{\"gridcolor\":\"white\",\"linecolor\":\"white\",\"ticks\":\"\"}},\"ternary\":{\"bgcolor\":\"#E5ECF6\",\"aaxis\":{\"gridcolor\":\"white\",\"linecolor\":\"white\",\"ticks\":\"\"},\"baxis\":{\"gridcolor\":\"white\",\"linecolor\":\"white\",\"ticks\":\"\"},\"caxis\":{\"gridcolor\":\"white\",\"linecolor\":\"white\",\"ticks\":\"\"}},\"coloraxis\":{\"colorbar\":{\"outlinewidth\":0,\"ticks\":\"\"}},\"colorscale\":{\"sequential\":[[0.0,\"#0d0887\"],[0.1111111111111111,\"#46039f\"],[0.2222222222222222,\"#7201a8\"],[0.3333333333333333,\"#9c179e\"],[0.4444444444444444,\"#bd3786\"],[0.5555555555555556,\"#d8576b\"],[0.6666666666666666,\"#ed7953\"],[0.7777777777777778,\"#fb9f3a\"],[0.8888888888888888,\"#fdca26\"],[1.0,\"#f0f921\"]],\"sequentialminus\":[[0.0,\"#0d0887\"],[0.1111111111111111,\"#46039f\"],[0.2222222222222222,\"#7201a8\"],[0.3333333333333333,\"#9c179e\"],[0.4444444444444444,\"#bd3786\"],[0.5555555555555556,\"#d8576b\"],[0.6666666666666666,\"#ed7953\"],[0.7777777777777778,\"#fb9f3a\"],[0.8888888888888888,\"#fdca26\"],[1.0,\"#f0f921\"]],\"diverging\":[[0,\"#8e0152\"],[0.1,\"#c51b7d\"],[0.2,\"#de77ae\"],[0.3,\"#f1b6da\"],[0.4,\"#fde0ef\"],[0.5,\"#f7f7f7\"],[0.6,\"#e6f5d0\"],[0.7,\"#b8e186\"],[0.8,\"#7fbc41\"],[0.9,\"#4d9221\"],[1,\"#276419\"]]},\"xaxis\":{\"gridcolor\":\"white\",\"linecolor\":\"white\",\"ticks\":\"\",\"title\":{\"standoff\":15},\"zerolinecolor\":\"white\",\"automargin\":true,\"zerolinewidth\":2},\"yaxis\":{\"gridcolor\":\"white\",\"linecolor\":\"white\",\"ticks\":\"\",\"title\":{\"standoff\":15},\"zerolinecolor\":\"white\",\"automargin\":true,\"zerolinewidth\":2},\"scene\":{\"xaxis\":{\"backgroundcolor\":\"#E5ECF6\",\"gridcolor\":\"white\",\"linecolor\":\"white\",\"showbackground\":true,\"ticks\":\"\",\"zerolinecolor\":\"white\",\"gridwidth\":2},\"yaxis\":{\"backgroundcolor\":\"#E5ECF6\",\"gridcolor\":\"white\",\"linecolor\":\"white\",\"showbackground\":true,\"ticks\":\"\",\"zerolinecolor\":\"white\",\"gridwidth\":2},\"zaxis\":{\"backgroundcolor\":\"#E5ECF6\",\"gridcolor\":\"white\",\"linecolor\":\"white\",\"showbackground\":true,\"ticks\":\"\",\"zerolinecolor\":\"white\",\"gridwidth\":2}},\"shapedefaults\":{\"line\":{\"color\":\"#2a3f5f\"}},\"annotationdefaults\":{\"arrowcolor\":\"#2a3f5f\",\"arrowhead\":0,\"arrowwidth\":1},\"geo\":{\"bgcolor\":\"white\",\"landcolor\":\"#E5ECF6\",\"subunitcolor\":\"white\",\"showland\":true,\"showlakes\":true,\"lakecolor\":\"white\"},\"title\":{\"x\":0.05},\"mapbox\":{\"style\":\"light\"}}},\"xaxis\":{\"anchor\":\"y\",\"domain\":[0.0,1.0],\"title\":{\"text\":\"# Components\"}},\"yaxis\":{\"anchor\":\"x\",\"domain\":[0.0,1.0],\"title\":{\"text\":\"Cumulative Explained Variance\"}},\"legend\":{\"tracegroupgap\":0},\"title\":{\"text\":\"# of components V.S. variance\"}},                        {\"responsive\": true}                    ).then(function(){\n",
       "                            \n",
       "var gd = document.getElementById('06692e11-412d-4911-9462-709e9457567b');\n",
       "var x = new MutationObserver(function (mutations, observer) {{\n",
       "        var display = window.getComputedStyle(gd).display;\n",
       "        if (!display || display === 'none') {{\n",
       "            console.log([gd, 'removed!']);\n",
       "            Plotly.purge(gd);\n",
       "            observer.disconnect();\n",
       "        }}\n",
       "}});\n",
       "\n",
       "// Listen for the removal of the full notebook cells\n",
       "var notebookContainer = gd.closest('#notebook-container');\n",
       "if (notebookContainer) {{\n",
       "    x.observe(notebookContainer, {childList: true});\n",
       "}}\n",
       "\n",
       "// Listen for the clearing of the current output cell\n",
       "var outputEl = gd.closest('.output');\n",
       "if (outputEl) {{\n",
       "    x.observe(outputEl, {childList: true});\n",
       "}}\n",
       "\n",
       "                        })                };                });            </script>        </div>"
      ]
     },
     "metadata": {},
     "output_type": "display_data"
    }
   ],
   "source": [
    "fig = px.line(\n",
    "    x=num_comp,\n",
    "    y=exp_var_cumul_round,\n",
    "    labels={\"x\": \"# Components\", \"y\": \"Cumulative Explained Variance\"},\n",
    "    title = \"# of components V.S. variance\",\n",
    "    # markers=True\n",
    ")\n",
    "\n",
    "fig.show()"
   ]
  },
  {
   "cell_type": "markdown",
   "metadata": {},
   "source": [
    "As we can see from the cumulative PCA that dimension has reduced significantly. Therefore, we will select the following option variances (%): 100, 99, 97, 95, 90, 80, 70."
   ]
  },
  {
   "cell_type": "markdown",
   "metadata": {},
   "source": [
    "### Select the PCA component number (through variance %)"
   ]
  },
  {
   "cell_type": "code",
   "execution_count": 53,
   "metadata": {
    "ExecuteTime": {
     "end_time": "2022-07-05T14:38:14.416552Z",
     "start_time": "2022-07-05T14:38:14.414351Z"
    }
   },
   "outputs": [],
   "source": [
    "pca_variance_perc = [100, 99, 97, 95, 90, 80, 70]\n",
    "pca_num_comp = [92, 66, 51, 42, 30, 16, 9]"
   ]
  },
  {
   "cell_type": "markdown",
   "metadata": {},
   "source": [
    "## Generate different PCA sets"
   ]
  },
  {
   "cell_type": "code",
   "execution_count": 55,
   "metadata": {
    "ExecuteTime": {
     "end_time": "2022-07-05T15:03:33.784189Z",
     "start_time": "2022-07-05T15:03:11.679423Z"
    }
   },
   "outputs": [
    {
     "name": "stdout",
     "output_type": "stream",
     "text": [
      ">>> All jobs done!\n"
     ]
    }
   ],
   "source": [
    "x_pca = list()\n",
    "\n",
    "for i in range(len(pca_variance_perc)):\n",
    "    \n",
    "    # init the PCA to the corresponding variance %\n",
    "    pca = PCA(n_components=pca_num_comp[i])\n",
    "    \n",
    "    x_pca.append(\n",
    "        {\n",
    "            \"explained_variance\": pca_variance_perc[i],\n",
    "            \"pca_set\": pca.fit_transform(x)\n",
    "        }\n",
    "    )\n",
    "\n",
    "print(\">>> All jobs done!\")"
   ]
  },
  {
   "cell_type": "markdown",
   "metadata": {},
   "source": [
    "# Model"
   ]
  },
  {
   "cell_type": "markdown",
   "metadata": {},
   "source": [
    "## The elbow method"
   ]
  },
  {
   "cell_type": "code",
   "execution_count": 58,
   "metadata": {
    "ExecuteTime": {
     "end_time": "2022-07-05T15:05:13.270360Z",
     "start_time": "2022-07-05T15:05:13.266430Z"
    }
   },
   "outputs": [],
   "source": [
    "def elbow(x):\n",
    "    '''\n",
    "    PURPOSE:\n",
    "        Compute WCSS from 1 to 10 in order to find the optimal number of clusters\n",
    "    \n",
    "    INPUT:\n",
    "    x: matrix\n",
    "        matrix of input features\n",
    "    \n",
    "    OUTPUT:\n",
    "    wcss: list\n",
    "        a list of wcss val from 1 ~ 10 clusters\n",
    "    '''\n",
    "    wcss = list()\n",
    "    \n",
    "    for i in range(1, 11):\n",
    "        # intial with K-Means++ to avoid initalization trap\n",
    "        kmeans = KMeans(n_clusters=i, init='k-means++', random_state=42)\n",
    "        \n",
    "        x_stack = [desc for img in x for desc in img]\n",
    "        all_x = np.array(x_stack, dtype=np.float32)\n",
    "        all_x = all_x.reshape(-1, 1)\n",
    "        \n",
    "        # train the matrix features\n",
    "        kmeans.fit(all_x)\n",
    "        \n",
    "        # get the WCSS val\n",
    "        wcss.append(kmeans.inertia_)\n",
    "    \n",
    "    return wcss"
   ]
  },
  {
   "cell_type": "code",
   "execution_count": 118,
   "metadata": {
    "ExecuteTime": {
     "end_time": "2022-07-06T01:16:27.006119Z",
     "start_time": "2022-07-06T01:16:26.279897Z"
    }
   },
   "outputs": [
    {
     "data": {
      "image/png": "[encoded data removed]",
      "text/plain": [
       "<Figure size 432x288 with 1 Axes>"
      ]
     },
     "metadata": {
      "needs_background": "light"
     },
     "output_type": "display_data"
    }
   ],
   "source": [
    "index = 5\n",
    "\n",
    "WCSS = elbow(x_pca[index][\"pca_set\"])\n",
    "\n",
    "plt.plot(range(1, 11), WCSS)\n",
    "title = \"The Elbow Method: Number of Cluters for \" + str(x_pca[index][\"explained_variance\"]) + \"% variance on PCA\" \n",
    "plt.title(title)\n",
    "plt.xlabel(\"Number of clusters\")\n",
    "plt.ylabel(\"WCSS\")\n",
    "plt.show()"
   ]
  },
  {
   "cell_type": "code",
   "execution_count": null,
   "metadata": {},
   "outputs": [],
   "source": []
  },
  {
   "cell_type": "markdown",
   "metadata": {
    "id": "KxUa_DqvlXiX"
   },
   "source": [
    "# Feature matching"
   ]
  },
  {
   "cell_type": "code",
   "execution_count": null,
   "metadata": {
    "ExecuteTime": {
     "end_time": "2022-06-29T01:21:53.841691Z",
     "start_time": "2022-06-29T01:21:51.896271Z"
    },
    "colab": {
     "base_uri": "https://localhost:8080/",
     "height": 223
    },
    "id": "ZutI-4eDlPn1",
    "outputId": "bb34bb0f-78af-4d17-cdf3-f274ad51e0da"
   },
   "outputs": [],
   "source": [
    "# # feature matching\n",
    "\n",
    "# # instantiate a Brute-force matcher with L1 norm\n",
    "# bf = cv2.BFMatcher(cv2.NORM_L1, crossCheck=True)\n",
    "\n",
    "# # match the two descriptors\n",
    "# matches = bf.match(de1, de2)\n",
    "\n",
    "# # sort the match result based on feature vector distance\n",
    "# matches = sorted(matches, key=lambda x: x.distance)\n",
    "\n",
    "# # draw the match image (cross reference) and then display it\n",
    "# img3 = cv2.drawMatches(cv2.imread(img1),\n",
    "#                        kp1,\n",
    "#                        cv2.imread(img2),\n",
    "#                        kp2,\n",
    "#                        matches[:50],\n",
    "#                        cv2.imread(img2),\n",
    "#                        flags=2)\n",
    "# # img=mpimg.imread('stinkbug.png')\n",
    "# plt.imshow(img3), plt.show()"
   ]
  },
  {
   "cell_type": "code",
   "execution_count": null,
   "metadata": {
    "ExecuteTime": {
     "end_time": "2022-06-29T01:21:53.846301Z",
     "start_time": "2022-06-29T01:21:53.843033Z"
    },
    "colab": {
     "base_uri": "https://localhost:8080/"
    },
    "id": "JRMC0pzflzp5",
    "outputId": "e73b395c-0384-4e26-d495-465938e9a2d4"
   },
   "outputs": [],
   "source": [
    "# dir(matches[0])"
   ]
  },
  {
   "cell_type": "code",
   "execution_count": null,
   "metadata": {
    "ExecuteTime": {
     "end_time": "2022-06-29T01:21:53.850591Z",
     "start_time": "2022-06-29T01:21:53.847434Z"
    }
   },
   "outputs": [],
   "source": [
    "# def match_products(product_1, product_2):\n",
    "#     # instantiate a Brute-force matcher with L1 norm\n",
    "#     bf = cv2.BFMatcher(cv2.NORM_L1, crossCheck=True)\n",
    "\n",
    "#     # match the two descriptors\n",
    "#     matches = bf.match(retrieve_stored_descriptor(product_1), retrieve_stored_descriptor(product_2))\n",
    "\n",
    "#     # sort the match result based on feature vector distance\n",
    "#     matches = sorted(matches, key=lambda x: x.distance)\n",
    "    \n",
    "#     return matches"
   ]
  },
  {
   "cell_type": "code",
   "execution_count": null,
   "metadata": {
    "ExecuteTime": {
     "end_time": "2022-06-29T01:21:53.874277Z",
     "start_time": "2022-06-29T01:21:53.851913Z"
    },
    "colab": {
     "base_uri": "https://localhost:8080/"
    },
    "id": "3HH4K6BcmnWW",
    "outputId": "0671299f-a1a5-4d84-8917-5b33fdb878f5"
   },
   "outputs": [],
   "source": [
    "# PRODUCT_NAME_1 = \"Fluffy Green Tea\"\n",
    "# PRODUCT_NAME_2 = \"Fluffy Jin Xuan Tea\"\n",
    "\n",
    "# index = 1\n",
    "\n",
    "# print(\"Feature {} distance is {}\".format(index, match_products(PRODUCT_NAME_1, PRODUCT_NAME_2)[1].distance))"
   ]
  },
  {
   "cell_type": "code",
   "execution_count": null,
   "metadata": {
    "ExecuteTime": {
     "end_time": "2022-06-29T01:21:53.901219Z",
     "start_time": "2022-06-29T01:21:53.896882Z"
    },
    "id": "Kkcf7CtXoGkl"
   },
   "outputs": [],
   "source": [
    "# retrieve_stored_descriptor(PRODUCT_NAME_1).shape"
   ]
  },
  {
   "cell_type": "code",
   "execution_count": null,
   "metadata": {
    "ExecuteTime": {
     "end_time": "2022-06-29T01:21:54.082740Z",
     "start_time": "2022-06-29T01:21:54.079468Z"
    }
   },
   "outputs": [],
   "source": [
    "# retrieve_stored_descriptor(PRODUCT_NAME_2).shape"
   ]
  },
  {
   "cell_type": "markdown",
   "metadata": {},
   "source": [
    "A list of things we need to consider here:\n",
    "- Mean\n",
    "- Median\n",
    "\n",
    "- Distance formula (Euclidean distance)\n",
    "\n",
    "- Visualization (feature matrix)\n",
    "\n",
    "- Clustering"
   ]
  },
  {
   "cell_type": "code",
   "execution_count": null,
   "metadata": {
    "ExecuteTime": {
     "end_time": "2022-06-29T01:21:55.056742Z",
     "start_time": "2022-06-29T01:21:55.032300Z"
    }
   },
   "outputs": [],
   "source": [
    "# # attempt of using the mean of the all distances\n",
    "# from numpy import mean, median\n",
    "\n",
    "# matches_results = [item.distance for item in match_products(PRODUCT_NAME_1, PRODUCT_NAME_2)]\n",
    "\n",
    "# dist_mean = mean(matches_results)\n",
    "# dist_median = median(matches_results)\n",
    "    \n",
    "# print(\"Mean: {}\".format(dist_mean))\n",
    "# print(\"Median: {}\".format(dist_median))"
   ]
  },
  {
   "cell_type": "code",
   "execution_count": null,
   "metadata": {
    "ExecuteTime": {
     "end_time": "2022-06-29T01:21:56.306629Z",
     "start_time": "2022-06-29T01:21:56.287716Z"
    }
   },
   "outputs": [],
   "source": [
    "# temp = {\n",
    "#     \"matches\": matches_results\n",
    "# }\n",
    "# df = pd.DataFrame(temp)\n",
    "\n",
    "# df.info()"
   ]
  },
  {
   "cell_type": "code",
   "execution_count": null,
   "metadata": {
    "ExecuteTime": {
     "end_time": "2022-06-29T01:21:56.581254Z",
     "start_time": "2022-06-29T01:21:56.479034Z"
    }
   },
   "outputs": [],
   "source": [
    "# # ax = (df[\"matches\"]).plot.box()\n",
    "# ax = df.boxplot(column=[\"matches\"], vert=False)\n",
    "# ax.set_xlabel(\"Feature Match Distance\")"
   ]
  },
  {
   "cell_type": "code",
   "execution_count": null,
   "metadata": {
    "ExecuteTime": {
     "end_time": "2022-06-29T01:22:25.748147Z",
     "start_time": "2022-06-29T01:22:25.742152Z"
    }
   },
   "outputs": [],
   "source": [
    "# def comparable_ovr(target_, return_mode=-1, sort=False):\n",
    "#     '''\n",
    "#     Comparing one-vs-rest product. aka, one vs all other products on the records.\n",
    "\n",
    "#     INPUTS:\n",
    "#         target_: str\n",
    "#             target product name\n",
    "#         return_mode: int\n",
    "#             what kind of list you want to have as return.\n",
    "#             -1: just the mean\n",
    "#             0: both the mean and median (two lists)\n",
    "#             1: just the median\n",
    "#         sort: boolean\n",
    "#             sort the return result in ASC or DESC\n",
    "#             False: return in ASC\n",
    "#             True: return in DESC\n",
    "\n",
    "#     OUTPUTS:\n",
    "#         results: list\n",
    "#             The desired results from the computation based on the given return mode value.\n",
    "#             If the return mode is in the incorrect number, it will return None.\n",
    "#     '''\n",
    "\n",
    "#     ACCEPTED_RETURN_MODE = [-1, 0, 1]\n",
    "\n",
    "#     if return_mode not in ACCEPTED_RETURN_MODE:\n",
    "#         return None\n",
    "\n",
    "#     # get a full list of the products\n",
    "#     stored_descriptors = os.listdir(SAVE_DE_DIR)\n",
    "\n",
    "#     results_mean = list()\n",
    "#     results_median = list()\n",
    "\n",
    "#     # go through all products\n",
    "#     for i in range(len(stored_descriptors)):\n",
    "\n",
    "#         # if it is the product itself, simply skip it\n",
    "#         if stored_descriptors[i] == target_:\n",
    "#             pass\n",
    "\n",
    "#         # compute the match\n",
    "#         matches_results_listing = [item.distance for item in match_products(\n",
    "#             target_, stored_descriptors[i].split(\".\")[0])]\n",
    "\n",
    "#         # store the mean and median results\n",
    "#         results_mean.append(mean(matches_results_listing))\n",
    "#         results_median.append(median(matches_results_listing))\n",
    "#     # end for\n",
    "\n",
    "#     # sort the results\n",
    "#     if sort:\n",
    "#         results_mean.sort(reverse=True)\n",
    "#         results_median.sort(reverse=True)\n",
    "\n",
    "#     if return_mode == -1:\n",
    "#         return results_mean\n",
    "#     elif return_mode == 0:\n",
    "#         return results_mean, results_median\n",
    "#     else:\n",
    "#         return results_median"
   ]
  },
  {
   "cell_type": "markdown",
   "metadata": {},
   "source": [
    "<b>Testing</b>\n",
    "\n",
    "Give a product name, match it against the other products, and then plot the mean and median based on the \"comparable_ovr\" func. The less the distance is, the closer the two products look alike."
   ]
  },
  {
   "cell_type": "code",
   "execution_count": null,
   "metadata": {
    "ExecuteTime": {
     "end_time": "2022-06-29T01:22:34.768569Z",
     "start_time": "2022-06-29T01:22:27.116363Z"
    }
   },
   "outputs": [],
   "source": [
    "# test_product = \"Q Mochi\"\n",
    "\n",
    "# results_mean, results_median = comparable_ovr(test_product, return_mode=0, sort=True)\n",
    "\n",
    "# temp = {\n",
    "#     \"matches_mean\": results_mean,\n",
    "#     \"matches_median\": results_median,\n",
    "# }\n",
    "# df2 = pd.DataFrame(temp)\n",
    "\n",
    "# ax = df2.boxplot(column=[\"matches_mean\"], vert=False)\n",
    "# ax.set_title(\"Box plot for \" + test_product)\n",
    "# ax.set_xlabel(\"Feature Match Distance (mean)\")"
   ]
  },
  {
   "cell_type": "code",
   "execution_count": null,
   "metadata": {
    "ExecuteTime": {
     "end_time": "2022-06-29T01:22:34.852024Z",
     "start_time": "2022-06-29T01:22:34.769964Z"
    }
   },
   "outputs": [],
   "source": [
    "# ax = df2.boxplot(column=[\"matches_median\"], vert=False)\n",
    "# ax.set_title(\"Box plot for \" + test_product)\n",
    "# ax.set_xlabel(\"Feature Match Distance (median)\")"
   ]
  },
  {
   "cell_type": "code",
   "execution_count": null,
   "metadata": {},
   "outputs": [],
   "source": []
  },
  {
   "cell_type": "code",
   "execution_count": null,
   "metadata": {
    "ExecuteTime": {
     "end_time": "2022-06-29T01:24:18.849753Z",
     "start_time": "2022-06-29T01:24:18.846521Z"
    }
   },
   "outputs": [],
   "source": [
    "# print(dir(retrieve_stored_descriptor(test_product)))"
   ]
  },
  {
   "cell_type": "code",
   "execution_count": null,
   "metadata": {
    "ExecuteTime": {
     "end_time": "2022-06-29T01:40:08.243706Z",
     "start_time": "2022-06-29T01:40:08.238640Z"
    }
   },
   "outputs": [],
   "source": [
    "# retrieve_stored_descriptor(test_product).shape"
   ]
  },
  {
   "cell_type": "code",
   "execution_count": null,
   "metadata": {
    "ExecuteTime": {
     "end_time": "2022-06-29T01:26:20.006813Z",
     "start_time": "2022-06-29T01:26:19.999870Z"
    }
   },
   "outputs": [],
   "source": [
    "# retrieve_stored_descriptor(test_product).view()"
   ]
  },
  {
   "cell_type": "code",
   "execution_count": null,
   "metadata": {
    "ExecuteTime": {
     "end_time": "2022-06-29T01:29:25.677055Z",
     "start_time": "2022-06-29T01:29:25.653584Z"
    }
   },
   "outputs": [],
   "source": [
    "# arr = retrieve_stored_descriptor(test_product)\n",
    "# rr, cc = draw.circle_perimeter(100, 100, radius=80, shape=arr.shape)\n",
    "# arr[rr, cc] = 1\n",
    "# plt.imshow(arr)\n",
    "# plt.show()"
   ]
  },
  {
   "cell_type": "code",
   "execution_count": null,
   "metadata": {},
   "outputs": [],
   "source": []
  }
 ],
 "metadata": {
  "accelerator": "GPU",
  "colab": {
   "collapsed_sections": [],
   "name": "03__SIFT_sample.ipynb",
   "provenance": [],
   "toc_visible": true
  },
  "gpuClass": "standard",
  "kernelspec": {
   "display_name": "ml",
   "language": "python",
   "name": "ml"
  },
  "language_info": {
   "codemirror_mode": {
    "name": "ipython",
    "version": 3
   },
   "file_extension": ".py",
   "mimetype": "text/x-python",
   "name": "python",
   "nbconvert_exporter": "python",
   "pygments_lexer": "ipython3",
   "version": "3.10.5"
  },
  "toc": {
   "base_numbering": 1,
   "nav_menu": {
    "height": "255px",
    "width": "318px"
   },
   "number_sections": true,
   "sideBar": true,
   "skip_h1_title": false,
   "title_cell": "Table of Contents",
   "title_sidebar": "Contents",
   "toc_cell": true,
   "toc_position": {
    "height": "calc(100% - 180px)",
    "left": "10px",
    "top": "150px",
    "width": "265px"
   },
   "toc_section_display": true,
   "toc_window_display": true
  }
 },
 "nbformat": 4,
 "nbformat_minor": 1
}
