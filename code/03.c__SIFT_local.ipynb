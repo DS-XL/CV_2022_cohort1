{
 "cells": [
  {
   "cell_type": "markdown",
   "metadata": {
    "toc": true
   },
   "source": [
    "<h1>Table of Contents<span class=\"tocSkip\"></span></h1>\n",
    "<div class=\"toc\"><ul class=\"toc-item\"><li><span><a href=\"#Setup\" data-toc-modified-id=\"Setup-1\"><span class=\"toc-item-num\">1&nbsp;&nbsp;</span>Setup</a></span></li><li><span><a href=\"#Preprocessing\" data-toc-modified-id=\"Preprocessing-2\"><span class=\"toc-item-num\">2&nbsp;&nbsp;</span>Preprocessing</a></span><ul class=\"toc-item\"><li><span><a href=\"#Unzip-the-data\" data-toc-modified-id=\"Unzip-the-data-2.1\"><span class=\"toc-item-num\">2.1&nbsp;&nbsp;</span>Unzip the data</a></span></li></ul></li><li><span><a href=\"#SIFT\" data-toc-modified-id=\"SIFT-3\"><span class=\"toc-item-num\">3&nbsp;&nbsp;</span>SIFT</a></span><ul class=\"toc-item\"><li><span><a href=\"#Store-all-local-descriptors\" data-toc-modified-id=\"Store-all-local-descriptors-3.1\"><span class=\"toc-item-num\">3.1&nbsp;&nbsp;</span>Store all local descriptors</a></span></li><li><span><a href=\"#Read-a-single-local-descriptor\" data-toc-modified-id=\"Read-a-single-local-descriptor-3.2\"><span class=\"toc-item-num\">3.2&nbsp;&nbsp;</span>Read a single local descriptor</a></span></li></ul></li><li><span><a href=\"#Feature-matching\" data-toc-modified-id=\"Feature-matching-4\"><span class=\"toc-item-num\">4&nbsp;&nbsp;</span>Feature matching</a></span></li></ul></div>"
   ]
  },
  {
   "cell_type": "markdown",
   "metadata": {
    "id": "mYx20oswRZvm"
   },
   "source": [
    "Before you run this notebook, please make sure the Runtime type is in GPU: *Runtime* --> *Change runtime type* --> *GPU*.\n",
    "\n",
    "Note, we need to utilize opencv version Python version 4.4 or above in order to run SIFT algorithm properly.\n",
    "- Ref: https://stackoverflow.com/questions/64474059/how-to-use-sift-and-surf-algorithm-in-google-colab-with-opencv4"
   ]
  },
  {
   "cell_type": "markdown",
   "metadata": {
    "id": "101cYVFdK8N6"
   },
   "source": [
    "# Setup"
   ]
  },
  {
   "cell_type": "code",
   "execution_count": 1,
   "metadata": {
    "ExecuteTime": {
     "end_time": "2022-06-29T01:21:41.025996Z",
     "start_time": "2022-06-29T01:21:40.913780Z"
    }
   },
   "outputs": [
    {
     "name": "stdout",
     "output_type": "stream",
     "text": [
      "/bin/bash: line 1: /home/hui/anaconda3/envs/ml/lib/python3.10/site-packages/pip: Is a directory\r\n"
     ]
    }
   ],
   "source": [
    "!/home/hui/anaconda3/envs/ml/lib/python3.10/site-packages/pip -V"
   ]
  },
  {
   "cell_type": "code",
   "execution_count": 47,
   "metadata": {
    "ExecuteTime": {
     "end_time": "2022-06-29T01:29:19.656851Z",
     "start_time": "2022-06-29T01:29:19.077262Z"
    },
    "colab": {
     "base_uri": "https://localhost:8080/"
    },
    "id": "UO7FbXMSE03v",
    "outputId": "bbab0a2b-4bff-468c-a9ae-b1dba0ecaf18"
   },
   "outputs": [
    {
     "name": "stdout",
     "output_type": "stream",
     "text": [
      "/bin/bash: line 1: /home/hui/anaconda3/envs/ml/lib/python3.10/site-packages/pip: Is a directory\n",
      "/bin/bash: line 1: /home/hui/anaconda3/envs/ml/lib/python3.10/site-packages/pip: Is a directory\n",
      "/bin/bash: line 1: /home/hui/anaconda3/envs/ml/lib/python3.10/site-packages/pip: Is a directory\n",
      "/bin/bash: line 1: /home/hui/anaconda3/envs/ml/lib/python3.10/site-packages/pip: Is a directory\n",
      "/bin/bash: line 1: /home/hui/anaconda3/envs/ml/lib/python3.10/site-packages/pip: Is a directory\n"
     ]
    }
   ],
   "source": [
    "# setup to see the execution time in each cell\n",
    "\n",
    "!/home/hui/anaconda3/envs/ml/lib/python3.10/site-packages/pip install ipython-autotime\n",
    "!/home/hui/anaconda3/envs/ml/lib/python3.10/site-packages/pip install directory_structure\n",
    "!/home/hui/anaconda3/envs/ml/lib/python3.10/site-packages/pip install handcalcs\n",
    "!/home/hui/anaconda3/envs/ml/lib/python3.10/site-packages/pip install pytz\n",
    "!/home/hui/anaconda3/envs/ml/lib/python3.10/site-packages/pip install skimage\n",
    "# !/home/hui/anaconda3/envs/ml/lib/python3.10/site-packages/pip install opencv-contrib-python==4.4.0.44\n",
    "# %load_ext autotime"
   ]
  },
  {
   "cell_type": "code",
   "execution_count": 3,
   "metadata": {
    "ExecuteTime": {
     "end_time": "2022-06-29T01:21:42.909345Z",
     "start_time": "2022-06-29T01:21:41.533303Z"
    },
    "colab": {
     "base_uri": "https://localhost:8080/"
    },
    "id": "e64TGJZPHJaJ",
    "outputId": "404be46e-c88f-47aa-adaf-5ed6356ae13b"
   },
   "outputs": [],
   "source": [
    "# %%time\n",
    "\n",
    "import pandas as pd\n",
    "import os\n",
    "import random\n",
    "import glob\n",
    "import PIL\n",
    "from PIL import Image\n",
    "import numpy as np\n",
    "# import cupy as cp\n",
    "import matplotlib.pyplot as plt\n",
    "import matplotlib.image as mpimg\n",
    "import cv2\n",
    "# from google.colab.patches import cv2_imshow\n",
    "# from directory_structure import Tree\n",
    "import shutil\n",
    "import handcalcs.render\n",
    "import pickle"
   ]
  },
  {
   "cell_type": "code",
   "execution_count": 4,
   "metadata": {
    "ExecuteTime": {
     "end_time": "2022-06-29T01:21:42.913083Z",
     "start_time": "2022-06-29T01:21:42.910437Z"
    },
    "colab": {
     "base_uri": "https://localhost:8080/"
    },
    "id": "GSmlrTFFDQcG",
    "outputId": "1f8edcc0-98c9-4522-c9cc-e68c7c066c72"
   },
   "outputs": [
    {
     "name": "stdout",
     "output_type": "stream",
     "text": [
      "4.5.5\n"
     ]
    }
   ],
   "source": [
    "print (cv2.__version__)"
   ]
  },
  {
   "cell_type": "markdown",
   "metadata": {
    "id": "Z2l4xfg5K-G5"
   },
   "source": [
    "# Preprocessing"
   ]
  },
  {
   "cell_type": "markdown",
   "metadata": {},
   "source": [
    "Use this if you are using Google Colab."
   ]
  },
  {
   "cell_type": "code",
   "execution_count": 5,
   "metadata": {
    "ExecuteTime": {
     "end_time": "2022-06-29T01:21:42.916620Z",
     "start_time": "2022-06-29T01:21:42.914617Z"
    },
    "colab": {
     "base_uri": "https://localhost:8080/"
    },
    "id": "lfdjbNrKKNPL",
    "outputId": "a782f00f-5293-4e68-ce36-567618fc3cda"
   },
   "outputs": [],
   "source": [
    "# from google.colab import drive\n",
    "# drive.mount('/content/drive')"
   ]
  },
  {
   "cell_type": "code",
   "execution_count": 6,
   "metadata": {
    "ExecuteTime": {
     "end_time": "2022-06-29T01:21:42.920872Z",
     "start_time": "2022-06-29T01:21:42.917807Z"
    },
    "colab": {
     "base_uri": "https://localhost:8080/"
    },
    "id": "NbZ8Rn6_KlfN",
    "outputId": "bb1282bb-e5c4-467d-bdba-64622c586d2e"
   },
   "outputs": [],
   "source": [
    "# replace the dir if needed\n",
    "\n",
    "ROOT_DIR = \"/home/hui/Projects/g5/datasets/cv2\"  # Henry's dir\n",
    "# ROOT_DIR = \"/content/drive/MyDrive/Project - G5/Dataset/\"    #Lejia's dir\n",
    "# ROOT_DIR = \"/content/drive/MyDrive/Project - G5/Dataset/\" #Nan's dir\n",
    "# ROOT_DIR = \"/content/drive/MyDrive/Project - G5/Dataset\"\n",
    "\n",
    "SAVE_DE_DIR = \"/home/hui/Projects/g5/datasets/descriptors\""
   ]
  },
  {
   "cell_type": "markdown",
   "metadata": {
    "id": "mnGd2gX0QnUb"
   },
   "source": [
    "## Unzip the data"
   ]
  },
  {
   "cell_type": "code",
   "execution_count": 7,
   "metadata": {
    "ExecuteTime": {
     "end_time": "2022-06-29T01:21:42.947714Z",
     "start_time": "2022-06-29T01:21:42.945228Z"
    },
    "colab": {
     "base_uri": "https://localhost:8080/"
    },
    "id": "q-C9I8ZVK_wF",
    "outputId": "3f6fa04c-20f8-4ede-cb7d-254b03e49c47"
   },
   "outputs": [
    {
     "name": "stdout",
     "output_type": "stream",
     "text": [
      "Current dir: /home/hui/Projects/g5/datasets/cv2\n"
     ]
    }
   ],
   "source": [
    "os.chdir(ROOT_DIR)\n",
    "print(\"Current dir: {}\".format(os.getcwd()))"
   ]
  },
  {
   "cell_type": "code",
   "execution_count": 8,
   "metadata": {
    "ExecuteTime": {
     "end_time": "2022-06-29T01:21:43.481604Z",
     "start_time": "2022-06-29T01:21:43.479296Z"
    },
    "colab": {
     "base_uri": "https://localhost:8080/"
    },
    "id": "ba3qJwOJSlSP",
    "outputId": "b617a331-cd72-47e2-9335-8626a2f9f36b"
   },
   "outputs": [],
   "source": [
    "# print(Tree(os.getcwd()))"
   ]
  },
  {
   "cell_type": "markdown",
   "metadata": {
    "id": "s0VG-5QELAsp"
   },
   "source": [
    "# SIFT"
   ]
  },
  {
   "cell_type": "code",
   "execution_count": 9,
   "metadata": {
    "ExecuteTime": {
     "end_time": "2022-06-29T01:21:43.858353Z",
     "start_time": "2022-06-29T01:21:43.855049Z"
    },
    "colab": {
     "base_uri": "https://localhost:8080/"
    },
    "id": "THY1UT55LBUG",
    "outputId": "40ee045d-7a17-42a4-cf7e-d77804fa3be2"
   },
   "outputs": [],
   "source": [
    "def sift_descriptor(file_path, write_sample=False):\n",
    "    # read the file as opencv obj\n",
    "    img = cv2.imread(file_path)\n",
    "    #     img=mpimg.imread(file_path)\n",
    "\n",
    "    # convert the image into gray scale\n",
    "    img_gray = cv2.cvtColor(img, cv2.COLOR_BGR2GRAY)\n",
    "\n",
    "    # create a sift obj\n",
    "    sift = cv2.SIFT_create()\n",
    "\n",
    "    # compute the keypoints and the local descriptor\n",
    "    keypoints_, descriptors_ = sift.detectAndCompute(img_gray, None)\n",
    "\n",
    "    # are you write a sample of SIFT img?\n",
    "    if write_sample:\n",
    "        # draw the keypoints of the img\n",
    "        img_kp = cv2.drawKeypoints(img_gray, keypoints_, img)\n",
    "\n",
    "        # write the img with keypoints to disk\n",
    "        cv2.imwrite(ROOT_DIR + '/sample1_sift_kp.jpg', img_kp)\n",
    "\n",
    "    return keypoints_, descriptors_"
   ]
  },
  {
   "cell_type": "code",
   "execution_count": 10,
   "metadata": {
    "ExecuteTime": {
     "end_time": "2022-06-29T01:21:45.226937Z",
     "start_time": "2022-06-29T01:21:45.224700Z"
    },
    "colab": {
     "base_uri": "https://localhost:8080/"
    },
    "id": "GgBOs0bP4caK",
    "outputId": "904982ef-7fa9-4ef2-ca2b-1f6d590831fe"
   },
   "outputs": [],
   "source": [
    "# os.chdir(ROOT_DIR+\"/unzip\")\n",
    "\n",
    "# all_folders = os.listdir(os.getcwd())\n",
    "\n",
    "# os.chdir(\"./\" + all_folders[0])\n",
    "# all_files = os.listdir(os.getcwd())\n",
    "\n",
    "# random_sample_index = random.randint(0, len(all_files))\n",
    "\n",
    "# sample_img_path = all_files[random_sample_index]"
   ]
  },
  {
   "cell_type": "code",
   "execution_count": 11,
   "metadata": {
    "ExecuteTime": {
     "end_time": "2022-06-29T01:21:45.393847Z",
     "start_time": "2022-06-29T01:21:45.391967Z"
    },
    "id": "rje-oLmJ4JNN"
   },
   "outputs": [],
   "source": [
    "# sift_descriptor(sample_img_path, write_sample=True)"
   ]
  },
  {
   "cell_type": "code",
   "execution_count": 12,
   "metadata": {
    "ExecuteTime": {
     "end_time": "2022-06-29T01:21:45.785376Z",
     "start_time": "2022-06-29T01:21:45.783167Z"
    },
    "colab": {
     "base_uri": "https://localhost:8080/"
    },
    "id": "-pcfKW2Uk4gX",
    "outputId": "d5c10396-d999-4014-e1e8-185a703e27d2"
   },
   "outputs": [],
   "source": [
    "# target file path\n",
    "img1 = ROOT_DIR + \"/Hot Red Bean Soup.png\"\n",
    "img2 = ROOT_DIR + \"/Double Taro Signature.png\""
   ]
  },
  {
   "cell_type": "code",
   "execution_count": 13,
   "metadata": {
    "ExecuteTime": {
     "end_time": "2022-06-29T01:21:47.688399Z",
     "start_time": "2022-06-29T01:21:46.119271Z"
    },
    "colab": {
     "base_uri": "https://localhost:8080/"
    },
    "id": "pIQ_CxwO6Vx7",
    "outputId": "98472f9e-dd91-48d3-af53-22b54e89ee8c"
   },
   "outputs": [
    {
     "name": "stdout",
     "output_type": "stream",
     "text": [
      "Retrieved all kp and local descriptors!\n"
     ]
    }
   ],
   "source": [
    "kp1, de1 = sift_descriptor(img1)\n",
    "kp2, de2 = sift_descriptor(img2)\n",
    "\n",
    "print(\"Retrieved all kp and local descriptors!\")"
   ]
  },
  {
   "cell_type": "markdown",
   "metadata": {},
   "source": [
    "## Store all local descriptors"
   ]
  },
  {
   "cell_type": "code",
   "execution_count": 15,
   "metadata": {
    "ExecuteTime": {
     "end_time": "2022-06-27T01:52:42.373010Z",
     "start_time": "2022-06-27T01:52:23.387839Z"
    }
   },
   "outputs": [
    {
     "name": "stderr",
     "output_type": "stream",
     "text": [
      "Corrupt JPEG data: 1 extraneous bytes before marker 0xd9\n"
     ]
    },
    {
     "name": "stdout",
     "output_type": "stream",
     "text": [
      ">>> All operations are done!\n"
     ]
    }
   ],
   "source": [
    "# specify a location where the local descriptor is going to be stored\n",
    "if not os.path.exists(SAVE_DE_DIR):\n",
    "    os.mkdir(SAVE_DE_DIR)\n",
    "\n",
    "# change to the right dir\n",
    "os.chdir(ROOT_DIR)\n",
    "\n",
    "# get a list of all file names\n",
    "files = os.listdir(os.getcwd())\n",
    "\n",
    "DE_RESULT = list()\n",
    "\n",
    "# compute local descriptor for all images\n",
    "for file in files:\n",
    "    kp, de = sift_descriptor(file)\n",
    "    DE_RESULT.append(de)\n",
    "\n",
    "# write all local descriptor into a file\n",
    "for i in range(len(files)):\n",
    "    # save the descriptor as a txt file and remove the 'jpg' and 'png' file extension\n",
    "    with open(SAVE_DE_DIR + '/' + str(files[i].split('.')[0]) + '.txt', 'wb') as f:\n",
    "        pickle.dump(DE_RESULT[i], f)\n",
    "\n",
    "print(\">>> All operations are done!\")"
   ]
  },
  {
   "cell_type": "markdown",
   "metadata": {},
   "source": [
    "## Read a single local descriptor"
   ]
  },
  {
   "cell_type": "code",
   "execution_count": 14,
   "metadata": {
    "ExecuteTime": {
     "end_time": "2022-06-29T01:21:49.036485Z",
     "start_time": "2022-06-29T01:21:49.032955Z"
    }
   },
   "outputs": [],
   "source": [
    "def retrieve_stored_descriptor(product_name: str):\n",
    "    # retrieve a stored local descriptor based on given name\n",
    "    try:\n",
    "        file_path = SAVE_DE_DIR + \"/\" + product_name + \".txt\"\n",
    "        file = open(file_path, 'rb')\n",
    "        descriptor = pickle.load(file)\n",
    "        file.close()\n",
    "        return descriptor\n",
    "    except FileNotFoundError:\n",
    "        print(\"Wrong file name or path\")\n",
    "        return None\n",
    "    except e:\n",
    "        print(\"Error due to: {}\".format(e))\n",
    "        return None"
   ]
  },
  {
   "cell_type": "markdown",
   "metadata": {},
   "source": [
    "Sample"
   ]
  },
  {
   "cell_type": "code",
   "execution_count": 15,
   "metadata": {
    "ExecuteTime": {
     "end_time": "2022-06-29T01:21:49.379208Z",
     "start_time": "2022-06-29T01:21:49.368005Z"
    }
   },
   "outputs": [
    {
     "name": "stdout",
     "output_type": "stream",
     "text": [
      "[[37.  8.  0. ...  0.  0.  1.]\n",
      " [ 0.  1.  1. ...  0.  0.  0.]\n",
      " [ 0.  1. 14. ...  0.  0.  2.]\n",
      " ...\n",
      " [22.  1.  0. ...  6.  6. 35.]\n",
      " [ 1.  5.  2. ...  0.  0.  0.]\n",
      " [ 5.  0.  0. ... 11.  1.  1.]]\n"
     ]
    }
   ],
   "source": [
    "product_name = \"Boba Tofu Pudding\"\n",
    "print(retrieve_stored_descriptor(product_name))"
   ]
  },
  {
   "cell_type": "code",
   "execution_count": 16,
   "metadata": {
    "ExecuteTime": {
     "end_time": "2022-06-29T01:21:49.529744Z",
     "start_time": "2022-06-29T01:21:49.527828Z"
    }
   },
   "outputs": [],
   "source": [
    "# retrieve_stored_descriptor(product_name).shape"
   ]
  },
  {
   "cell_type": "code",
   "execution_count": 17,
   "metadata": {
    "ExecuteTime": {
     "end_time": "2022-06-29T01:21:49.681818Z",
     "start_time": "2022-06-29T01:21:49.679478Z"
    },
    "scrolled": false
   },
   "outputs": [],
   "source": [
    "# import numpy as np\n",
    "# import matplotlib.pyplot as plt\n",
    "\n",
    "# plt.rcParams[\"figure.figsize\"] = [20, 60]\n",
    "# plt.rcParams[\"figure.autolayout\"] = True\n",
    "\n",
    "# fig, ax = plt.subplots()\n",
    "# min_val, max_val = 0, 10  #subsitute this with col and row number of the descriptor matrix\n",
    "# matrix = retrieve_stored_descriptor(product_name)\n",
    "# ax.matshow(matrix, cmap='ocean')\n",
    "\n",
    "# for i in range(max_val):\n",
    "#     for j in range(max_val):\n",
    "#         c = matrix[j, i]\n",
    "#         ax.text(i, j, str(c), va='center', ha='center')"
   ]
  },
  {
   "cell_type": "markdown",
   "metadata": {
    "id": "KxUa_DqvlXiX"
   },
   "source": [
    "# Feature matching"
   ]
  },
  {
   "cell_type": "code",
   "execution_count": 18,
   "metadata": {
    "ExecuteTime": {
     "end_time": "2022-06-29T01:21:53.841691Z",
     "start_time": "2022-06-29T01:21:51.896271Z"
    },
    "colab": {
     "base_uri": "https://localhost:8080/",
     "height": 223
    },
    "id": "ZutI-4eDlPn1",
    "outputId": "bb34bb0f-78af-4d17-cdf3-f274ad51e0da"
   },
   "outputs": [
    {
     "data": {
      "image/png": "[encoded data removed]",
      "text/plain": [
       "<Figure size 432x288 with 1 Axes>"
      ]
     },
     "metadata": {
      "needs_background": "light"
     },
     "output_type": "display_data"
    },
    {
     "data": {
      "text/plain": [
       "(<matplotlib.image.AxesImage at 0x7fdf034c9540>, None)"
      ]
     },
     "execution_count": 18,
     "metadata": {},
     "output_type": "execute_result"
    }
   ],
   "source": [
    "# feature matching\n",
    "\n",
    "# instantiate a Brute-force matcher with L1 norm\n",
    "bf = cv2.BFMatcher(cv2.NORM_L1, crossCheck=True)\n",
    "\n",
    "# match the two descriptors\n",
    "matches = bf.match(de1, de2)\n",
    "\n",
    "# sort the match result based on feature vector distance\n",
    "matches = sorted(matches, key=lambda x: x.distance)\n",
    "\n",
    "# draw the match image (cross reference) and then display it\n",
    "img3 = cv2.drawMatches(cv2.imread(img1),\n",
    "                       kp1,\n",
    "                       cv2.imread(img2),\n",
    "                       kp2,\n",
    "                       matches[:50],\n",
    "                       cv2.imread(img2),\n",
    "                       flags=2)\n",
    "# img=mpimg.imread('stinkbug.png')\n",
    "plt.imshow(img3), plt.show()"
   ]
  },
  {
   "cell_type": "code",
   "execution_count": 19,
   "metadata": {
    "ExecuteTime": {
     "end_time": "2022-06-29T01:21:53.846301Z",
     "start_time": "2022-06-29T01:21:53.843033Z"
    },
    "colab": {
     "base_uri": "https://localhost:8080/"
    },
    "id": "JRMC0pzflzp5",
    "outputId": "e73b395c-0384-4e26-d495-465938e9a2d4"
   },
   "outputs": [
    {
     "data": {
      "text/plain": [
       "['__class__',\n",
       " '__delattr__',\n",
       " '__dir__',\n",
       " '__doc__',\n",
       " '__eq__',\n",
       " '__format__',\n",
       " '__ge__',\n",
       " '__getattribute__',\n",
       " '__gt__',\n",
       " '__hash__',\n",
       " '__init__',\n",
       " '__init_subclass__',\n",
       " '__le__',\n",
       " '__lt__',\n",
       " '__ne__',\n",
       " '__new__',\n",
       " '__reduce__',\n",
       " '__reduce_ex__',\n",
       " '__repr__',\n",
       " '__setattr__',\n",
       " '__sizeof__',\n",
       " '__str__',\n",
       " '__subclasshook__',\n",
       " 'distance',\n",
       " 'imgIdx',\n",
       " 'queryIdx',\n",
       " 'trainIdx']"
      ]
     },
     "execution_count": 19,
     "metadata": {},
     "output_type": "execute_result"
    }
   ],
   "source": [
    "dir(matches[0])"
   ]
  },
  {
   "cell_type": "code",
   "execution_count": 20,
   "metadata": {
    "ExecuteTime": {
     "end_time": "2022-06-29T01:21:53.850591Z",
     "start_time": "2022-06-29T01:21:53.847434Z"
    }
   },
   "outputs": [],
   "source": [
    "def match_products(product_1, product_2):\n",
    "    # instantiate a Brute-force matcher with L1 norm\n",
    "    bf = cv2.BFMatcher(cv2.NORM_L1, crossCheck=True)\n",
    "\n",
    "    # match the two descriptors\n",
    "    matches = bf.match(retrieve_stored_descriptor(product_1), retrieve_stored_descriptor(product_2))\n",
    "\n",
    "    # sort the match result based on feature vector distance\n",
    "    matches = sorted(matches, key=lambda x: x.distance)\n",
    "    \n",
    "    return matches"
   ]
  },
  {
   "cell_type": "code",
   "execution_count": 21,
   "metadata": {
    "ExecuteTime": {
     "end_time": "2022-06-29T01:21:53.874277Z",
     "start_time": "2022-06-29T01:21:53.851913Z"
    },
    "colab": {
     "base_uri": "https://localhost:8080/"
    },
    "id": "3HH4K6BcmnWW",
    "outputId": "0671299f-a1a5-4d84-8917-5b33fdb878f5"
   },
   "outputs": [
    {
     "name": "stdout",
     "output_type": "stream",
     "text": [
      "Feature 1 distance is 522.0\n"
     ]
    }
   ],
   "source": [
    "PRODUCT_NAME_1 = \"Fluffy Green Tea\"\n",
    "PRODUCT_NAME_2 = \"Fluffy Jin Xuan Tea\"\n",
    "\n",
    "index = 1\n",
    "\n",
    "print(\"Feature {} distance is {}\".format(index, match_products(PRODUCT_NAME_1, PRODUCT_NAME_2)[1].distance))"
   ]
  },
  {
   "cell_type": "code",
   "execution_count": 22,
   "metadata": {
    "ExecuteTime": {
     "end_time": "2022-06-29T01:21:53.901219Z",
     "start_time": "2022-06-29T01:21:53.896882Z"
    },
    "id": "Kkcf7CtXoGkl"
   },
   "outputs": [
    {
     "data": {
      "text/plain": [
       "(56, 128)"
      ]
     },
     "execution_count": 22,
     "metadata": {},
     "output_type": "execute_result"
    }
   ],
   "source": [
    "retrieve_stored_descriptor(PRODUCT_NAME_1).shape"
   ]
  },
  {
   "cell_type": "code",
   "execution_count": 23,
   "metadata": {
    "ExecuteTime": {
     "end_time": "2022-06-29T01:21:54.082740Z",
     "start_time": "2022-06-29T01:21:54.079468Z"
    }
   },
   "outputs": [
    {
     "data": {
      "text/plain": [
       "(37, 128)"
      ]
     },
     "execution_count": 23,
     "metadata": {},
     "output_type": "execute_result"
    }
   ],
   "source": [
    "retrieve_stored_descriptor(PRODUCT_NAME_2).shape"
   ]
  },
  {
   "cell_type": "markdown",
   "metadata": {},
   "source": [
    "A list of things we need to consider here:\n",
    "- Mean\n",
    "- Median\n",
    "\n",
    "- Distance formula (Euclidean distance)\n",
    "\n",
    "- Visualization (feature matrix)\n",
    "\n",
    "- Clustering"
   ]
  },
  {
   "cell_type": "code",
   "execution_count": 24,
   "metadata": {
    "ExecuteTime": {
     "end_time": "2022-06-29T01:21:55.056742Z",
     "start_time": "2022-06-29T01:21:55.032300Z"
    }
   },
   "outputs": [
    {
     "name": "stdout",
     "output_type": "stream",
     "text": [
      "Mean: 1163.851851851852\n",
      "Median: 1079.0\n"
     ]
    }
   ],
   "source": [
    "# attempt of using the mean of the all distances\n",
    "from numpy import mean, median\n",
    "\n",
    "matches_results = [item.distance for item in match_products(PRODUCT_NAME_1, PRODUCT_NAME_2)]\n",
    "\n",
    "dist_mean = mean(matches_results)\n",
    "dist_median = median(matches_results)\n",
    "    \n",
    "print(\"Mean: {}\".format(dist_mean))\n",
    "print(\"Median: {}\".format(dist_median))"
   ]
  },
  {
   "cell_type": "code",
   "execution_count": 25,
   "metadata": {
    "ExecuteTime": {
     "end_time": "2022-06-29T01:21:56.306629Z",
     "start_time": "2022-06-29T01:21:56.287716Z"
    }
   },
   "outputs": [
    {
     "name": "stdout",
     "output_type": "stream",
     "text": [
      "<class 'pandas.core.frame.DataFrame'>\n",
      "RangeIndex: 27 entries, 0 to 26\n",
      "Data columns (total 1 columns):\n",
      " #   Column   Non-Null Count  Dtype  \n",
      "---  ------   --------------  -----  \n",
      " 0   matches  27 non-null     float64\n",
      "dtypes: float64(1)\n",
      "memory usage: 344.0 bytes\n"
     ]
    }
   ],
   "source": [
    "temp = {\n",
    "    \"matches\": matches_results\n",
    "}\n",
    "df = pd.DataFrame(temp)\n",
    "\n",
    "df.info()"
   ]
  },
  {
   "cell_type": "code",
   "execution_count": 26,
   "metadata": {
    "ExecuteTime": {
     "end_time": "2022-06-29T01:21:56.581254Z",
     "start_time": "2022-06-29T01:21:56.479034Z"
    }
   },
   "outputs": [
    {
     "data": {
      "text/plain": [
       "Text(0.5, 0, 'Feature Match Distance')"
      ]
     },
     "execution_count": 26,
     "metadata": {},
     "output_type": "execute_result"
    },
    {
     "data": {
      "image/png": "[encoded data removed]",
      "text/plain": [
       "<Figure size 432x288 with 1 Axes>"
      ]
     },
     "metadata": {
      "needs_background": "light"
     },
     "output_type": "display_data"
    }
   ],
   "source": [
    "# ax = (df[\"matches\"]).plot.box()\n",
    "ax = df.boxplot(column=[\"matches\"], vert=False)\n",
    "ax.set_xlabel(\"Feature Match Distance\")"
   ]
  },
  {
   "cell_type": "code",
   "execution_count": 29,
   "metadata": {
    "ExecuteTime": {
     "end_time": "2022-06-29T01:22:25.748147Z",
     "start_time": "2022-06-29T01:22:25.742152Z"
    }
   },
   "outputs": [],
   "source": [
    "def comparable_ovr(target_, return_mode=-1, sort=False):\n",
    "    '''\n",
    "    Comparing one-vs-rest product. aka, one vs all other products on the records.\n",
    "\n",
    "    INPUTS:\n",
    "        target_: str\n",
    "            target product name\n",
    "        return_mode: int\n",
    "            what kind of list you want to have as return.\n",
    "            -1: just the mean\n",
    "            0: both the mean and median (two lists)\n",
    "            1: just the median\n",
    "        sort: boolean\n",
    "            sort the return result in ASC or DESC\n",
    "            False: return in ASC\n",
    "            True: return in DESC\n",
    "\n",
    "    OUTPUTS:\n",
    "        results: list\n",
    "            The desired results from the computation based on the given return mode value.\n",
    "            If the return mode is in the incorrect number, it will return None.\n",
    "    '''\n",
    "\n",
    "    ACCEPTED_RETURN_MODE = [-1, 0, 1]\n",
    "\n",
    "    if return_mode not in ACCEPTED_RETURN_MODE:\n",
    "        return None\n",
    "\n",
    "    # get a full list of the products\n",
    "    stored_descriptors = os.listdir(SAVE_DE_DIR)\n",
    "\n",
    "    results_mean = list()\n",
    "    results_median = list()\n",
    "\n",
    "    # go through all products\n",
    "    for i in range(len(stored_descriptors)):\n",
    "\n",
    "        # if it is the product itself, simply skip it\n",
    "        if stored_descriptors[i] == target_:\n",
    "            pass\n",
    "\n",
    "        # compute the match\n",
    "        matches_results_listing = [item.distance for item in match_products(\n",
    "            target_, stored_descriptors[i].split(\".\")[0])]\n",
    "\n",
    "        # store the mean and median results\n",
    "        results_mean.append(mean(matches_results_listing))\n",
    "        results_median.append(median(matches_results_listing))\n",
    "    # end for\n",
    "\n",
    "    # sort the results\n",
    "    if sort:\n",
    "        results_mean.sort(reverse=True)\n",
    "        results_median.sort(reverse=True)\n",
    "\n",
    "    if return_mode == -1:\n",
    "        return results_mean\n",
    "    elif return_mode == 0:\n",
    "        return results_mean, results_median\n",
    "    else:\n",
    "        return results_median"
   ]
  },
  {
   "cell_type": "markdown",
   "metadata": {},
   "source": [
    "<b>Testing</b>\n",
    "\n",
    "Give a product name, match it against the other products, and then plot the mean and median based on the \"comparable_ovr\" func. The less the distance is, the closer the two products look alike."
   ]
  },
  {
   "cell_type": "code",
   "execution_count": 30,
   "metadata": {
    "ExecuteTime": {
     "end_time": "2022-06-29T01:22:34.768569Z",
     "start_time": "2022-06-29T01:22:27.116363Z"
    }
   },
   "outputs": [
    {
     "data": {
      "text/plain": [
       "Text(0.5, 0, 'Feature Match Distance (mean)')"
      ]
     },
     "execution_count": 30,
     "metadata": {},
     "output_type": "execute_result"
    },
    {
     "data": {
      "image/png": "[encoded data removed]",
      "text/plain": [
       "<Figure size 432x288 with 1 Axes>"
      ]
     },
     "metadata": {
      "needs_background": "light"
     },
     "output_type": "display_data"
    }
   ],
   "source": [
    "test_product = \"Q Mochi\"\n",
    "\n",
    "results_mean, results_median = comparable_ovr(test_product, return_mode=0, sort=True)\n",
    "\n",
    "temp = {\n",
    "    \"matches_mean\": results_mean,\n",
    "    \"matches_median\": results_median,\n",
    "}\n",
    "df2 = pd.DataFrame(temp)\n",
    "\n",
    "ax = df2.boxplot(column=[\"matches_mean\"], vert=False)\n",
    "ax.set_title(\"Box plot for \" + test_product)\n",
    "ax.set_xlabel(\"Feature Match Distance (mean)\")"
   ]
  },
  {
   "cell_type": "code",
   "execution_count": 31,
   "metadata": {
    "ExecuteTime": {
     "end_time": "2022-06-29T01:22:34.852024Z",
     "start_time": "2022-06-29T01:22:34.769964Z"
    }
   },
   "outputs": [
    {
     "data": {
      "text/plain": [
       "Text(0.5, 0, 'Feature Match Distance (median)')"
      ]
     },
     "execution_count": 31,
     "metadata": {},
     "output_type": "execute_result"
    },
    {
     "data": {
      "image/png": "[encoded data removed]",
      "text/plain": [
       "<Figure size 432x288 with 1 Axes>"
      ]
     },
     "metadata": {
      "needs_background": "light"
     },
     "output_type": "display_data"
    }
   ],
   "source": [
    "ax = df2.boxplot(column=[\"matches_median\"], vert=False)\n",
    "ax.set_title(\"Box plot for \" + test_product)\n",
    "ax.set_xlabel(\"Feature Match Distance (median)\")"
   ]
  },
  {
   "cell_type": "code",
   "execution_count": null,
   "metadata": {},
   "outputs": [],
   "source": []
  },
  {
   "cell_type": "code",
   "execution_count": 35,
   "metadata": {
    "ExecuteTime": {
     "end_time": "2022-06-29T01:24:18.849753Z",
     "start_time": "2022-06-29T01:24:18.846521Z"
    }
   },
   "outputs": [
    {
     "name": "stdout",
     "output_type": "stream",
     "text": [
      "['T', '__abs__', '__add__', '__and__', '__array__', '__array_finalize__', '__array_function__', '__array_interface__', '__array_prepare__', '__array_priority__', '__array_struct__', '__array_ufunc__', '__array_wrap__', '__bool__', '__class__', '__class_getitem__', '__complex__', '__contains__', '__copy__', '__deepcopy__', '__delattr__', '__delitem__', '__dir__', '__divmod__', '__dlpack__', '__dlpack_device__', '__doc__', '__eq__', '__float__', '__floordiv__', '__format__', '__ge__', '__getattribute__', '__getitem__', '__gt__', '__hash__', '__iadd__', '__iand__', '__ifloordiv__', '__ilshift__', '__imatmul__', '__imod__', '__imul__', '__index__', '__init__', '__init_subclass__', '__int__', '__invert__', '__ior__', '__ipow__', '__irshift__', '__isub__', '__iter__', '__itruediv__', '__ixor__', '__le__', '__len__', '__lshift__', '__lt__', '__matmul__', '__mod__', '__mul__', '__ne__', '__neg__', '__new__', '__or__', '__pos__', '__pow__', '__radd__', '__rand__', '__rdivmod__', '__reduce__', '__reduce_ex__', '__repr__', '__rfloordiv__', '__rlshift__', '__rmatmul__', '__rmod__', '__rmul__', '__ror__', '__rpow__', '__rrshift__', '__rshift__', '__rsub__', '__rtruediv__', '__rxor__', '__setattr__', '__setitem__', '__setstate__', '__sizeof__', '__str__', '__sub__', '__subclasshook__', '__truediv__', '__xor__', 'all', 'any', 'argmax', 'argmin', 'argpartition', 'argsort', 'astype', 'base', 'byteswap', 'choose', 'clip', 'compress', 'conj', 'conjugate', 'copy', 'ctypes', 'cumprod', 'cumsum', 'data', 'diagonal', 'dot', 'dtype', 'dump', 'dumps', 'fill', 'flags', 'flat', 'flatten', 'getfield', 'imag', 'item', 'itemset', 'itemsize', 'max', 'mean', 'min', 'nbytes', 'ndim', 'newbyteorder', 'nonzero', 'partition', 'prod', 'ptp', 'put', 'ravel', 'real', 'repeat', 'reshape', 'resize', 'round', 'searchsorted', 'setfield', 'setflags', 'shape', 'size', 'sort', 'squeeze', 'std', 'strides', 'sum', 'swapaxes', 'take', 'tobytes', 'tofile', 'tolist', 'tostring', 'trace', 'transpose', 'var', 'view']\n"
     ]
    }
   ],
   "source": [
    "print(dir(retrieve_stored_descriptor(test_product)))"
   ]
  },
  {
   "cell_type": "code",
   "execution_count": 49,
   "metadata": {
    "ExecuteTime": {
     "end_time": "2022-06-29T01:40:08.243706Z",
     "start_time": "2022-06-29T01:40:08.238640Z"
    }
   },
   "outputs": [
    {
     "data": {
      "text/plain": [
       "(2503, 128)"
      ]
     },
     "execution_count": 49,
     "metadata": {},
     "output_type": "execute_result"
    }
   ],
   "source": [
    "retrieve_stored_descriptor(test_product).shape"
   ]
  },
  {
   "cell_type": "code",
   "execution_count": 45,
   "metadata": {
    "ExecuteTime": {
     "end_time": "2022-06-29T01:26:20.006813Z",
     "start_time": "2022-06-29T01:26:19.999870Z"
    }
   },
   "outputs": [
    {
     "data": {
      "text/plain": [
       "array([[ 50.,  44.,   4., ...,   0.,   0.,   0.],\n",
       "       [ 20.,  37.,   2., ...,   0.,  47., 103.],\n",
       "       [ 15.,  20.,   7., ...,   2.,   4.,  19.],\n",
       "       ...,\n",
       "       [ 39.,   1.,   0., ...,   0.,  26., 102.],\n",
       "       [ 46., 141.,   3., ...,   0.,   0.,   4.],\n",
       "       [  0.,   0.,  47., ...,   0.,   0.,  12.]], dtype=float32)"
      ]
     },
     "execution_count": 45,
     "metadata": {},
     "output_type": "execute_result"
    }
   ],
   "source": [
    "retrieve_stored_descriptor(test_product).view()"
   ]
  },
  {
   "cell_type": "code",
   "execution_count": 48,
   "metadata": {
    "ExecuteTime": {
     "end_time": "2022-06-29T01:29:25.677055Z",
     "start_time": "2022-06-29T01:29:25.653584Z"
    }
   },
   "outputs": [
    {
     "ename": "ModuleNotFoundError",
     "evalue": "No module named 'skimage'",
     "output_type": "error",
     "traceback": [
      "\u001b[0;31m---------------------------------------------------------------------------\u001b[0m",
      "\u001b[0;31mModuleNotFoundError\u001b[0m                       Traceback (most recent call last)",
      "Input \u001b[0;32mIn [48]\u001b[0m, in \u001b[0;36m<cell line: 2>\u001b[0;34m()\u001b[0m\n\u001b[1;32m      1\u001b[0m \u001b[38;5;28;01mimport\u001b[39;00m \u001b[38;5;21;01mmatplotlib\u001b[39;00m\u001b[38;5;21;01m.\u001b[39;00m\u001b[38;5;21;01mpyplot\u001b[39;00m \u001b[38;5;28;01mas\u001b[39;00m \u001b[38;5;21;01mplt\u001b[39;00m\n\u001b[0;32m----> 2\u001b[0m \u001b[38;5;28;01mfrom\u001b[39;00m \u001b[38;5;21;01mskimage\u001b[39;00m \u001b[38;5;28;01mimport\u001b[39;00m draw\n\u001b[1;32m      4\u001b[0m arr \u001b[38;5;241m=\u001b[39m retrieve_stored_descriptor(test_product)\n\u001b[1;32m      5\u001b[0m rr, cc \u001b[38;5;241m=\u001b[39m draw\u001b[38;5;241m.\u001b[39mcircle_perimeter(\u001b[38;5;241m100\u001b[39m, \u001b[38;5;241m100\u001b[39m, radius\u001b[38;5;241m=\u001b[39m\u001b[38;5;241m80\u001b[39m, shape\u001b[38;5;241m=\u001b[39marr\u001b[38;5;241m.\u001b[39mshape)\n",
      "\u001b[0;31mModuleNotFoundError\u001b[0m: No module named 'skimage'"
     ]
    }
   ],
   "source": [
    "import matplotlib.pyplot as plt\n",
    "from skimage import draw\n",
    "\n",
    "arr = retrieve_stored_descriptor(test_product)\n",
    "rr, cc = draw.circle_perimeter(100, 100, radius=80, shape=arr.shape)\n",
    "arr[rr, cc] = 1\n",
    "plt.imshow(arr)\n",
    "plt.show()"
   ]
  },
  {
   "cell_type": "code",
   "execution_count": null,
   "metadata": {},
   "outputs": [],
   "source": []
  }
 ],
 "metadata": {
  "accelerator": "GPU",
  "colab": {
   "collapsed_sections": [],
   "name": "03__SIFT_sample.ipynb",
   "provenance": [],
   "toc_visible": true
  },
  "gpuClass": "standard",
  "kernelspec": {
   "display_name": "ml",
   "language": "python",
   "name": "ml"
  },
  "language_info": {
   "codemirror_mode": {
    "name": "ipython",
    "version": 3
   },
   "file_extension": ".py",
   "mimetype": "text/x-python",
   "name": "python",
   "nbconvert_exporter": "python",
   "pygments_lexer": "ipython3",
   "version": "3.10.5"
  },
  "toc": {
   "base_numbering": 1,
   "nav_menu": {
    "height": "255px",
    "width": "318px"
   },
   "number_sections": true,
   "sideBar": true,
   "skip_h1_title": false,
   "title_cell": "Table of Contents",
   "title_sidebar": "Contents",
   "toc_cell": true,
   "toc_position": {
    "height": "calc(100% - 180px)",
    "left": "10px",
    "top": "150px",
    "width": "265px"
   },
   "toc_section_display": true,
   "toc_window_display": false
  }
 },
 "nbformat": 4,
 "nbformat_minor": 1
}
