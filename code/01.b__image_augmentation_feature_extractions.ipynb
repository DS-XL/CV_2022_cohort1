{
 "cells": [
  {
   "cell_type": "markdown",
   "metadata": {
    "toc": true
   },
   "source": [
    "<h1>Table of Contents<span class=\"tocSkip\"></span></h1>\n",
    "<div class=\"toc\"><ul class=\"toc-item\"><li><span><a href=\"#Setup\" data-toc-modified-id=\"Setup-1\"><span class=\"toc-item-num\">1&nbsp;&nbsp;</span>Setup</a></span></li><li><span><a href=\"#Preprocessing\" data-toc-modified-id=\"Preprocessing-2\"><span class=\"toc-item-num\">2&nbsp;&nbsp;</span>Preprocessing</a></span><ul class=\"toc-item\"><li><span><a href=\"#Image-Augmentation\" data-toc-modified-id=\"Image-Augmentation-2.1\"><span class=\"toc-item-num\">2.1&nbsp;&nbsp;</span>Image Augmentation</a></span></li></ul></li><li><span><a href=\"#Utility\" data-toc-modified-id=\"Utility-3\"><span class=\"toc-item-num\">3&nbsp;&nbsp;</span>Utility</a></span></li><li><span><a href=\"#Feature-Engineering\" data-toc-modified-id=\"Feature-Engineering-4\"><span class=\"toc-item-num\">4&nbsp;&nbsp;</span>Feature Engineering</a></span><ul class=\"toc-item\"><li><span><a href=\"#Raw-Pixel-Image-Data\" data-toc-modified-id=\"Raw-Pixel-Image-Data-4.1\"><span class=\"toc-item-num\">4.1&nbsp;&nbsp;</span>Raw Pixel Image Data</a></span><ul class=\"toc-item\"><li><span><a href=\"#Extract\" data-toc-modified-id=\"Extract-4.1.1\"><span class=\"toc-item-num\">4.1.1&nbsp;&nbsp;</span>Extract</a></span></li><li><span><a href=\"#Read\" data-toc-modified-id=\"Read-4.1.2\"><span class=\"toc-item-num\">4.1.2&nbsp;&nbsp;</span>Read</a></span></li></ul></li><li><span><a href=\"#HoG\" data-toc-modified-id=\"HoG-4.2\"><span class=\"toc-item-num\">4.2&nbsp;&nbsp;</span>HoG</a></span><ul class=\"toc-item\"><li><span><a href=\"#Extract\" data-toc-modified-id=\"Extract-4.2.1\"><span class=\"toc-item-num\">4.2.1&nbsp;&nbsp;</span>Extract</a></span></li><li><span><a href=\"#Read\" data-toc-modified-id=\"Read-4.2.2\"><span class=\"toc-item-num\">4.2.2&nbsp;&nbsp;</span>Read</a></span></li></ul></li><li><span><a href=\"#LBP\" data-toc-modified-id=\"LBP-4.3\"><span class=\"toc-item-num\">4.3&nbsp;&nbsp;</span>LBP</a></span><ul class=\"toc-item\"><li><span><a href=\"#Extract\" data-toc-modified-id=\"Extract-4.3.1\"><span class=\"toc-item-num\">4.3.1&nbsp;&nbsp;</span>Extract</a></span></li><li><span><a href=\"#Read\" data-toc-modified-id=\"Read-4.3.2\"><span class=\"toc-item-num\">4.3.2&nbsp;&nbsp;</span>Read</a></span></li></ul></li></ul></li></ul></div>"
   ]
  },
  {
   "cell_type": "markdown",
   "metadata": {
    "id": "101cYVFdK8N6"
   },
   "source": [
    "# Setup"
   ]
  },
  {
   "cell_type": "code",
   "execution_count": null,
   "metadata": {
    "ExecuteTime": {
     "end_time": "2022-06-30T01:37:18.784054Z",
     "start_time": "2022-06-30T01:37:18.671353Z"
    }
   },
   "outputs": [],
   "source": [
    "!/home/hui/anaconda3/envs/ml/lib/python3.10/site-packages/pip -V"
   ]
  },
  {
   "cell_type": "code",
   "execution_count": null,
   "metadata": {
    "ExecuteTime": {
     "end_time": "2022-06-30T01:37:19.790007Z",
     "start_time": "2022-06-30T01:37:19.249194Z"
    },
    "colab": {
     "base_uri": "https://localhost:8080/"
    },
    "id": "UO7FbXMSE03v",
    "outputId": "bbab0a2b-4bff-468c-a9ae-b1dba0ecaf18"
   },
   "outputs": [],
   "source": [
    "# setup to see the execution time in each cell\n",
    "\n",
    "!/home/hui/anaconda3/envs/ml/lib/python3.10/site-packages/pip install ipython-autotime\n",
    "!/home/hui/anaconda3/envs/ml/lib/python3.10/site-packages/pip install directory_structure\n",
    "!/home/hui/anaconda3/envs/ml/lib/python3.10/site-packages/pip install handcalcs\n",
    "!/home/hui/anaconda3/envs/ml/lib/python3.10/site-packages/pip install pytz\n",
    "!/home/hui/anaconda3/envs/ml/lib/python3.10/site-packages/pip install skimage\n",
    "# !/home/hui/anaconda3/envs/ml/lib/python3.10/site-packages/pip install opencv-contrib-python==4.4.0.44\n",
    "# %load_ext autotime"
   ]
  },
  {
   "cell_type": "code",
   "execution_count": 19,
   "metadata": {
    "ExecuteTime": {
     "end_time": "2022-07-13T03:48:20.248181Z",
     "start_time": "2022-07-13T03:48:20.245219Z"
    },
    "colab": {
     "base_uri": "https://localhost:8080/"
    },
    "id": "e64TGJZPHJaJ",
    "outputId": "404be46e-c88f-47aa-adaf-5ed6356ae13b"
   },
   "outputs": [],
   "source": [
    "import os\n",
    "import random\n",
    "import glob\n",
    "import PIL\n",
    "from PIL import Image\n",
    "import numpy as np\n",
    "import cv2\n",
    "import shutil\n",
    "import pickle\n",
    "\n",
    "from skimage.feature import hog\n",
    "from skimage.feature import local_binary_pattern\n",
    "\n",
    "# from google.colab.patches import cv2_imshow\n",
    "# from directory_structure import Tree"
   ]
  },
  {
   "cell_type": "code",
   "execution_count": 2,
   "metadata": {
    "ExecuteTime": {
     "end_time": "2022-07-13T03:12:47.046181Z",
     "start_time": "2022-07-13T03:12:47.041757Z"
    },
    "colab": {
     "base_uri": "https://localhost:8080/"
    },
    "id": "GSmlrTFFDQcG",
    "outputId": "1f8edcc0-98c9-4522-c9cc-e68c7c066c72"
   },
   "outputs": [
    {
     "name": "stdout",
     "output_type": "stream",
     "text": [
      "4.5.5\n"
     ]
    }
   ],
   "source": [
    "print (cv2.__version__)"
   ]
  },
  {
   "cell_type": "markdown",
   "metadata": {
    "id": "Z2l4xfg5K-G5"
   },
   "source": [
    "# Preprocessing"
   ]
  },
  {
   "cell_type": "markdown",
   "metadata": {},
   "source": [
    "Use this if you are using Google Colab."
   ]
  },
  {
   "cell_type": "code",
   "execution_count": 3,
   "metadata": {
    "ExecuteTime": {
     "end_time": "2022-07-13T03:12:48.366010Z",
     "start_time": "2022-07-13T03:12:48.364070Z"
    },
    "colab": {
     "base_uri": "https://localhost:8080/"
    },
    "id": "lfdjbNrKKNPL",
    "outputId": "a782f00f-5293-4e68-ce36-567618fc3cda"
   },
   "outputs": [],
   "source": [
    "# from google.colab import drive\n",
    "# drive.mount('/content/drive')"
   ]
  },
  {
   "cell_type": "code",
   "execution_count": 4,
   "metadata": {
    "ExecuteTime": {
     "end_time": "2022-07-13T03:12:48.966975Z",
     "start_time": "2022-07-13T03:12:48.964129Z"
    },
    "colab": {
     "base_uri": "https://localhost:8080/"
    },
    "id": "NbZ8Rn6_KlfN",
    "outputId": "bb1282bb-e5c4-467d-bdba-64622c586d2e"
   },
   "outputs": [],
   "source": [
    "# replace the dir path if needed\n",
    "\n",
    "ROOT_DIR = \"/home/hui/Projects/g5/datasets\"  # Henry's dir\n",
    "# ROOT_DIR = \"/content/drive/MyDrive/Project - G5/Dataset/\"    #Lejia's dir\n",
    "# ROOT_DIR = \"/content/drive/MyDrive/Project - G5/Dataset/\" #Nan's dir\n",
    "# ROOT_DIR = \"/content/drive/MyDrive/Project - G5/Dataset\"\n",
    "\n",
    "\n",
    "# path for image augmentation\n",
    "RESIZE_DIR = ROOT_DIR + \"/augmentation/resize\"\n",
    "\n",
    "\n",
    "# path for the different handcraft features\n",
    "RAW_PIXEL_DIR = ROOT_DIR + \"/handcraft_features/raw_pixel\"\n",
    "SIFT_DIR = ROOT_DIR + \"/handcraft_features/sift\"\n",
    "HOG_DIR = ROOT_DIR + \"/handcraft_features/hog\"\n",
    "LBP_DIR = ROOT_DIR + \"/handcraft_features/lbp\""
   ]
  },
  {
   "cell_type": "markdown",
   "metadata": {},
   "source": [
    "## Image Augmentation\n",
    "\n",
    "Some of the images are not in the same size (pixel), therefore, we need to perform image augmentation (resize and do not preserve aspect ratio) in order to have all images in the same pixel size (width and height).\n",
    "\n",
    "<b>Note, we will work on the resized images for the feature extraction algorithms!</b>"
   ]
  },
  {
   "cell_type": "code",
   "execution_count": 15,
   "metadata": {
    "ExecuteTime": {
     "end_time": "2022-07-05T04:04:30.901125Z",
     "start_time": "2022-07-05T04:04:28.859368Z"
    }
   },
   "outputs": [
    {
     "name": "stderr",
     "output_type": "stream",
     "text": [
      "Corrupt JPEG data: 1 extraneous bytes before marker 0xd9\n"
     ]
    },
    {
     "name": "stdout",
     "output_type": "stream",
     "text": [
      ">>> All jobs done!\n"
     ]
    }
   ],
   "source": [
    "def resize_image(img, w, h):\n",
    "    # resize while do not preserve aspect ratio\n",
    "    return cv2.resize(img, (w, h), interpolation=cv2.INTER_AREA)\n",
    "\n",
    "\n",
    "img_dir = ROOT_DIR + \"/cv2\"\n",
    "img_files = os.listdir(img_dir)\n",
    "\n",
    "if not os.path.exists(RESIZE_DIR):\n",
    "    os.makedirs(RESIZE_DIR)\n",
    "\n",
    "for img in img_files:\n",
    "    # print(img)\n",
    "    image = cv2.imread(img_dir + \"/\" + img)\n",
    "    resized_img = resize_image(image, 256, 256)\n",
    "    cv2.imwrite(RESIZE_DIR+\"/\"+str(img), resized_img)\n",
    "\n",
    "print(\">>> All jobs done!\")"
   ]
  },
  {
   "cell_type": "markdown",
   "metadata": {},
   "source": [
    "# Utility"
   ]
  },
  {
   "cell_type": "code",
   "execution_count": 10,
   "metadata": {
    "ExecuteTime": {
     "end_time": "2022-07-13T03:32:24.787455Z",
     "start_time": "2022-07-13T03:32:24.784185Z"
    }
   },
   "outputs": [],
   "source": [
    "def retrieve_stored_features(path: str, product_name: str):\n",
    "    # retrieve a stored local descriptor based on given name\n",
    "    try:\n",
    "        file_path = path + \"/\" + product_name + \".txt\"\n",
    "        file = open(file_path, 'rb')\n",
    "        descriptor = pickle.load(file)\n",
    "        file.close()\n",
    "\n",
    "        return descriptor\n",
    "\n",
    "    except FileNotFoundError:\n",
    "        print(\"Wrong file name or path\")\n",
    "        return None\n",
    "    except e:\n",
    "        print(\"Error due to: {}\".format(e))\n",
    "        return None"
   ]
  },
  {
   "cell_type": "markdown",
   "metadata": {},
   "source": [
    "# Feature Engineering\n",
    "\n",
    "## Raw Pixel Image Data\n",
    "\n",
    "### Extract\n",
    "\n",
    "Read the resized images through CPU and GPU. Depending on your computer's setup, choose the one that fits you."
   ]
  },
  {
   "cell_type": "code",
   "execution_count": 14,
   "metadata": {
    "ExecuteTime": {
     "end_time": "2022-07-13T03:39:37.484975Z",
     "start_time": "2022-07-13T03:39:37.481646Z"
    }
   },
   "outputs": [],
   "source": [
    "def read_img_cpu(files):\n",
    "    x = list()\n",
    "\n",
    "    for file in files:\n",
    "        img = Image.open(RESIZE_DIR+\"/\"+file)\n",
    "        x.append(np.array(img).flatten())\n",
    "\n",
    "    return x"
   ]
  },
  {
   "cell_type": "code",
   "execution_count": 15,
   "metadata": {
    "ExecuteTime": {
     "end_time": "2022-07-13T03:39:37.858366Z",
     "start_time": "2022-07-13T03:39:37.855651Z"
    }
   },
   "outputs": [],
   "source": [
    "def read_img_gpu(files):\n",
    "    import cupy as cp\n",
    "\n",
    "    x = list()\n",
    "\n",
    "    for file in files:\n",
    "        img = Image.open(RESIZE_DIR+\"/\"+file)\n",
    "        x.append(cp.asnumpy(cp.array(img)).flatten())\n",
    "\n",
    "    return x"
   ]
  },
  {
   "cell_type": "code",
   "execution_count": 11,
   "metadata": {
    "ExecuteTime": {
     "end_time": "2022-07-13T03:33:02.144944Z",
     "start_time": "2022-07-13T03:33:02.030284Z"
    }
   },
   "outputs": [
    {
     "name": "stdout",
     "output_type": "stream",
     "text": [
      ">>> All jobs done!\n"
     ]
    }
   ],
   "source": [
    "if not os.path.exists(RAW_PIXEL_DIR):\n",
    "    os.makedirs(RAW_PIXEL_DIR)\n",
    "\n",
    "files = os.listdir(RESIZE_DIR)\n",
    "x__raw_pixel = read_img_cpu(files)\n",
    "\n",
    "# write all local descriptor into a file\n",
    "for i in range(len(files)):\n",
    "    # save the descriptor as a txt file and remove the 'jpg' and 'png' file extension\n",
    "    with open(RAW_PIXEL_DIR + '/' + str(files[i].split('.')[0]) + '.txt', 'wb') as f:\n",
    "        pickle.dump(x__raw_pixel[i], f)\n",
    "\n",
    "print(\">>> All jobs done!\")"
   ]
  },
  {
   "cell_type": "markdown",
   "metadata": {},
   "source": [
    "### Read"
   ]
  },
  {
   "cell_type": "code",
   "execution_count": 12,
   "metadata": {
    "ExecuteTime": {
     "end_time": "2022-07-13T03:33:17.432437Z",
     "start_time": "2022-07-13T03:33:17.423728Z"
    }
   },
   "outputs": [
    {
     "name": "stdout",
     "output_type": "stream",
     "text": [
      "[254 255 250 ... 255 255 255]\n"
     ]
    }
   ],
   "source": [
    "# files = os.listdir(RESIZE_DIR)\n",
    "\n",
    "retrieve_stored_features(RAW_PIXEL_DIR, \"Iced Black Tea\")"
   ]
  },
  {
   "cell_type": "markdown",
   "metadata": {},
   "source": [
    "## HoG\n",
    "\n",
    "### Extract"
   ]
  },
  {
   "cell_type": "code",
   "execution_count": 25,
   "metadata": {
    "ExecuteTime": {
     "end_time": "2022-07-13T03:56:19.982926Z",
     "start_time": "2022-07-13T03:56:19.977232Z"
    }
   },
   "outputs": [],
   "source": [
    "def generate_hog_feature(files):\n",
    "    # Generate HoG feature set through OpenCV with grayscale in all pixels\n",
    "\n",
    "    pixels = list()\n",
    "\n",
    "    # a number of academic researches recommend to use\n",
    "    # the following configurations for the LBP features.\n",
    "    eps = 1e-7    # 0.0000001\n",
    "    ppc = 16\n",
    "\n",
    "    for file in files:\n",
    "        img = cv2.imread(RESIZE_DIR+\"/\"+file)\n",
    "\n",
    "        # convert the read img into grayscale\n",
    "        img_gray = cv2.cvtColor(img, cv2.COLOR_BGR2GRAY)\n",
    "        \n",
    "        # generate handcrafted features\n",
    "        fd = hog(img_gray, orientations=9, pixels_per_cell=(ppc, ppc),\n",
    "                 cells_per_block=(2, 2), block_norm='L2', feature_vector=True)\n",
    "\n",
    "        pixels.append(fd)\n",
    "        # end loop\n",
    "\n",
    "    return pixels"
   ]
  },
  {
   "cell_type": "code",
   "execution_count": 26,
   "metadata": {
    "ExecuteTime": {
     "end_time": "2022-07-13T03:56:23.860486Z",
     "start_time": "2022-07-13T03:56:23.023553Z"
    }
   },
   "outputs": [
    {
     "name": "stdout",
     "output_type": "stream",
     "text": [
      ">>> All jobs done!\n"
     ]
    }
   ],
   "source": [
    "if not os.path.exists(HOG_DIR):\n",
    "    os.makedirs(HOG_DIR)\n",
    "\n",
    "files = os.listdir(RESIZE_DIR)\n",
    "x__hog = generate_hog_feature(files)\n",
    "\n",
    "# write all local descriptor into a file\n",
    "for i in range(len(files)):\n",
    "    # save the descriptor as a txt file and remove the 'jpg' and 'png' file extension\n",
    "    with open(HOG_DIR + '/' + str(files[i].split('.')[0]) + '.txt', 'wb') as f:\n",
    "        pickle.dump(x__hog[i], f)\n",
    "\n",
    "print(\">>> All jobs done!\")"
   ]
  },
  {
   "cell_type": "markdown",
   "metadata": {},
   "source": [
    "### Read"
   ]
  },
  {
   "cell_type": "code",
   "execution_count": 27,
   "metadata": {
    "ExecuteTime": {
     "end_time": "2022-07-13T03:56:30.289243Z",
     "start_time": "2022-07-13T03:56:30.284526Z"
    }
   },
   "outputs": [
    {
     "data": {
      "text/plain": [
       "array([0.01152718, 0.01671893, 0.03329791, ..., 0.        , 0.        ,\n",
       "       0.        ])"
      ]
     },
     "execution_count": 27,
     "metadata": {},
     "output_type": "execute_result"
    }
   ],
   "source": [
    "# files = os.listdir(RESIZE_DIR)\n",
    "\n",
    "retrieve_stored_features(HOG_DIR, \"Iced Black Tea\")"
   ]
  },
  {
   "cell_type": "markdown",
   "metadata": {},
   "source": [
    "## LBP\n",
    "\n",
    "### Extract"
   ]
  },
  {
   "cell_type": "code",
   "execution_count": 20,
   "metadata": {
    "ExecuteTime": {
     "end_time": "2022-07-13T03:52:07.369896Z",
     "start_time": "2022-07-13T03:52:07.367173Z"
    }
   },
   "outputs": [],
   "source": [
    "# combination of p and r values for LBP\n",
    "LBP_CONFIG = [\n",
    "  {\"p\": 8, \"r\": 1},\n",
    "  {\"p\": 16, \"r\": 2},\n",
    "  {\"p\": 24, \"r\": 3},\n",
    "]"
   ]
  },
  {
   "cell_type": "code",
   "execution_count": 33,
   "metadata": {
    "ExecuteTime": {
     "end_time": "2022-07-13T04:02:52.564553Z",
     "start_time": "2022-07-13T04:02:52.559828Z"
    }
   },
   "outputs": [],
   "source": [
    "def generate_lbp_feature(files: list, p: int, r: int, method_=\"uniform\"):\n",
    "    # Generate LBP feature set through OpenCV with grayscale in all pixels\n",
    "\n",
    "    eps = 1e-7    # 0.0000001\n",
    "    pixels = []\n",
    "\n",
    "    for file in files:\n",
    "        img = cv2.imread(RESIZE_DIR+\"/\"+file)\n",
    "\n",
    "        # convert the read img into grayscale\n",
    "        img_gray = cv2.cvtColor(img, cv2.COLOR_BGR2GRAY)\n",
    "        lbp_img = local_binary_pattern(img_gray, p, r, method=method_)\n",
    "\n",
    "        # compute the histogram\n",
    "        (hist, _) = np.histogram(\n",
    "            lbp_img.ravel(),\n",
    "            bins=np.arange(0, p + 3),\n",
    "            range=(0, p + 2)\n",
    "        )\n",
    "\n",
    "        # histogram the features\n",
    "        hist = hist.astype(\"float\")\n",
    "        hist /= (hist.sum() + eps)\n",
    "        pixels.append(hist)\n",
    "\n",
    "    # end loop\n",
    "\n",
    "    return pixels"
   ]
  },
  {
   "cell_type": "code",
   "execution_count": 24,
   "metadata": {
    "ExecuteTime": {
     "end_time": "2022-07-13T03:54:16.184464Z",
     "start_time": "2022-07-13T03:54:16.175933Z"
    }
   },
   "outputs": [],
   "source": [
    "for path in LBP_CONFIG:\n",
    "    if not os.path.exists(LBP_DIR+\"/\"+str(path[\"p\"])+\"_\"+str(path[\"r\"])):\n",
    "        os.makedirs(LBP_DIR+\"/\"+str(path[\"p\"])+\"_\"+str(path[\"r\"]))"
   ]
  },
  {
   "cell_type": "code",
   "execution_count": 34,
   "metadata": {
    "ExecuteTime": {
     "end_time": "2022-07-13T04:02:58.928123Z",
     "start_time": "2022-07-13T04:02:54.681331Z"
    }
   },
   "outputs": [
    {
     "name": "stdout",
     "output_type": "stream",
     "text": [
      ">>> All jobs done!\n"
     ]
    }
   ],
   "source": [
    "files = os.listdir(RESIZE_DIR)\n",
    "\n",
    "for pr_config in LBP_CONFIG:\n",
    "\n",
    "    x__lbp = generate_lbp_feature(files, pr_config[\"p\"], pr_config[\"r\"])\n",
    "\n",
    "    # write all local descriptor into a file\n",
    "    for i in range(len(files)):\n",
    "        # save the descriptor as a txt file and remove the 'jpg' and 'png' file extension\n",
    "        with open(LBP_DIR+\"/\"+str(pr_config[\"p\"])+\"_\"+str(pr_config[\"r\"]) + '/' + str(files[i].split('.')[0]) + '.txt', 'wb') as f:\n",
    "            pickle.dump(x__lbp[i], f)\n",
    "\n",
    "print(\">>> All jobs done!\")"
   ]
  },
  {
   "cell_type": "markdown",
   "metadata": {},
   "source": [
    "### Read"
   ]
  },
  {
   "cell_type": "code",
   "execution_count": 36,
   "metadata": {
    "ExecuteTime": {
     "end_time": "2022-07-13T04:03:37.393048Z",
     "start_time": "2022-07-13T04:03:37.387882Z"
    }
   },
   "outputs": [
    {
     "data": {
      "text/plain": [
       "array([0.01506042, 0.0426178 , 0.02452087, 0.09857178, 0.13690186,\n",
       "       0.1847229 , 0.07878113, 0.06362915, 0.28056335, 0.07463074])"
      ]
     },
     "execution_count": 36,
     "metadata": {},
     "output_type": "execute_result"
    }
   ],
   "source": [
    "# files = os.listdir(RESIZE_DIR)\n",
    "\n",
    "retrieve_stored_features(LBP_DIR+\"/8_1\", \"Iced Black Tea\")\n",
    "# retrieve_stored_features(LBP_DIR+\"/16_2\", \"Iced Black Tea\")\n",
    "# retrieve_stored_features(LBP_DIR+\"/24_3\", \"Iced Black Tea\")"
   ]
  },
  {
   "cell_type": "code",
   "execution_count": null,
   "metadata": {},
   "outputs": [],
   "source": []
  }
 ],
 "metadata": {
  "accelerator": "GPU",
  "colab": {
   "collapsed_sections": [],
   "name": "03__SIFT_sample.ipynb",
   "provenance": [],
   "toc_visible": true
  },
  "gpuClass": "standard",
  "kernelspec": {
   "display_name": "ml",
   "language": "python",
   "name": "ml"
  },
  "language_info": {
   "codemirror_mode": {
    "name": "ipython",
    "version": 3
   },
   "file_extension": ".py",
   "mimetype": "text/x-python",
   "name": "python",
   "nbconvert_exporter": "python",
   "pygments_lexer": "ipython3",
   "version": "3.9.13"
  },
  "toc": {
   "base_numbering": 1,
   "nav_menu": {
    "height": "255px",
    "width": "318px"
   },
   "number_sections": true,
   "sideBar": true,
   "skip_h1_title": false,
   "title_cell": "Table of Contents",
   "title_sidebar": "Contents",
   "toc_cell": true,
   "toc_position": {
    "height": "calc(100% - 180px)",
    "left": "10px",
    "top": "150px",
    "width": "265px"
   },
   "toc_section_display": true,
   "toc_window_display": true
  }
 },
 "nbformat": 4,
 "nbformat_minor": 1
}
