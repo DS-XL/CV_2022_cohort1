{
 "cells": [
  {
   "cell_type": "markdown",
   "metadata": {
    "toc": true
   },
   "source": [
    "<h1>Table of Contents<span class=\"tocSkip\"></span></h1>\n",
    "<div class=\"toc\"><ul class=\"toc-item\"><li><span><a href=\"#Setup\" data-toc-modified-id=\"Setup-1\"><span class=\"toc-item-num\">1&nbsp;&nbsp;</span>Setup</a></span></li><li><span><a href=\"#Preprocessing\" data-toc-modified-id=\"Preprocessing-2\"><span class=\"toc-item-num\">2&nbsp;&nbsp;</span>Preprocessing</a></span><ul class=\"toc-item\"><li><span><a href=\"#Unzip-the-data\" data-toc-modified-id=\"Unzip-the-data-2.1\"><span class=\"toc-item-num\">2.1&nbsp;&nbsp;</span>Unzip the data</a></span></li></ul></li><li><span><a href=\"#SIFT\" data-toc-modified-id=\"SIFT-3\"><span class=\"toc-item-num\">3&nbsp;&nbsp;</span>SIFT</a></span><ul class=\"toc-item\"><li><span><a href=\"#Store-all-local-descriptors\" data-toc-modified-id=\"Store-all-local-descriptors-3.1\"><span class=\"toc-item-num\">3.1&nbsp;&nbsp;</span>Store all local descriptors</a></span></li><li><span><a href=\"#Read-a-single-local-descriptor\" data-toc-modified-id=\"Read-a-single-local-descriptor-3.2\"><span class=\"toc-item-num\">3.2&nbsp;&nbsp;</span>Read a single local descriptor</a></span></li></ul></li><li><span><a href=\"#Feature-matching\" data-toc-modified-id=\"Feature-matching-4\"><span class=\"toc-item-num\">4&nbsp;&nbsp;</span>Feature matching</a></span></li></ul></div>"
   ]
  },
  {
   "cell_type": "markdown",
   "metadata": {
    "id": "mYx20oswRZvm"
   },
   "source": [
    "Before you run this notebook, please make sure the Runtime type is in GPU: *Runtime* --> *Change runtime type* --> *GPU*.\n",
    "\n",
    "Note, we need to utilize opencv version Python version 4.4 or above in order to run SIFT algorithm properly.\n",
    "- Ref: https://stackoverflow.com/questions/64474059/how-to-use-sift-and-surf-algorithm-in-google-colab-with-opencv4"
   ]
  },
  {
   "cell_type": "markdown",
   "metadata": {
    "id": "101cYVFdK8N6"
   },
   "source": [
    "# Setup"
   ]
  },
  {
   "cell_type": "code",
   "execution_count": 1,
   "metadata": {
    "ExecuteTime": {
     "end_time": "2022-06-21T13:45:40.700002Z",
     "start_time": "2022-06-21T13:45:40.588250Z"
    }
   },
   "outputs": [
    {
     "name": "stdout",
     "output_type": "stream",
     "text": [
      "/bin/bash: line 1: /home/hui/anaconda3/envs/ml/lib/python3.10/site-packages/pip: Is a directory\r\n"
     ]
    }
   ],
   "source": [
    "!pip -V"
   ]
  },
  {
   "cell_type": "code",
   "execution_count": 13,
   "metadata": {
    "colab": {
     "base_uri": "https://localhost:8080/"
    },
    "id": "UO7FbXMSE03v",
    "outputId": "bbab0a2b-4bff-468c-a9ae-b1dba0ecaf18"
   },
   "outputs": [
    {
     "name": "stdout",
     "output_type": "stream",
     "text": [
      "/bin/bash: line 1: /home/hui/anaconda3/envs/ml/lib/python3.10/site-packages/pip: Is a directory\n",
      "/bin/bash: line 1: /home/hui/anaconda3/envs/ml/lib/python3.10/site-packages/pip: Is a directory\n",
      "/bin/bash: line 1: /home/hui/anaconda3/envs/ml/lib/python3.10/site-packages/pip: Is a directory\n",
      "/bin/bash: line 1: /home/hui/anaconda3/envs/ml/lib/python3.10/site-packages/pip: Is a directory\n"
     ]
    }
   ],
   "source": [
    "# setup to see the execution time in each cell\n",
    "\n",
    "!pip install ipython-autotime\n",
    "!pip install directory_structure\n",
    "!pip install handcalcs\n",
    "!pip install pytz\n",
    "# !/home/hui/anaconda3/envs/ml/lib/python3.10/site-packages/pip install opencv-contrib-python==4.4.0.44\n",
    "# %load_ext autotime"
   ]
  },
  {
   "cell_type": "code",
   "execution_count": 25,
   "metadata": {
    "ExecuteTime": {
     "end_time": "2022-06-21T15:39:10.727864Z",
     "start_time": "2022-06-21T15:39:10.724647Z"
    },
    "colab": {
     "base_uri": "https://localhost:8080/"
    },
    "id": "e64TGJZPHJaJ",
    "outputId": "404be46e-c88f-47aa-adaf-5ed6356ae13b"
   },
   "outputs": [],
   "source": [
    "# %%time\n",
    "\n",
    "import pandas as pd\n",
    "import os\n",
    "import random\n",
    "import glob\n",
    "import PIL\n",
    "from PIL import Image\n",
    "import numpy as np\n",
    "# import cupy as cp\n",
    "import matplotlib.pyplot as plt\n",
    "import matplotlib.image as mpimg\n",
    "import cv2\n",
    "# from google.colab.patches import cv2_imshow\n",
    "# from directory_structure import Tree\n",
    "import shutil\n",
    "import handcalcs.render\n",
    "import pickle"
   ]
  },
  {
   "cell_type": "code",
   "execution_count": 24,
   "metadata": {
    "ExecuteTime": {
     "end_time": "2022-06-21T15:39:08.557819Z",
     "start_time": "2022-06-21T15:39:08.555297Z"
    },
    "colab": {
     "base_uri": "https://localhost:8080/"
    },
    "id": "GSmlrTFFDQcG",
    "outputId": "1f8edcc0-98c9-4522-c9cc-e68c7c066c72"
   },
   "outputs": [
    {
     "name": "stdout",
     "output_type": "stream",
     "text": [
      "4.5.5\n"
     ]
    }
   ],
   "source": [
    "print (cv2.__version__)"
   ]
  },
  {
   "cell_type": "markdown",
   "metadata": {
    "id": "Z2l4xfg5K-G5"
   },
   "source": [
    "# Preprocessing"
   ]
  },
  {
   "cell_type": "markdown",
   "metadata": {},
   "source": [
    "Use this if you are using Google Colab."
   ]
  },
  {
   "cell_type": "code",
   "execution_count": 4,
   "metadata": {
    "colab": {
     "base_uri": "https://localhost:8080/"
    },
    "id": "lfdjbNrKKNPL",
    "outputId": "a782f00f-5293-4e68-ce36-567618fc3cda"
   },
   "outputs": [
    {
     "name": "stdout",
     "output_type": "stream",
     "text": [
      "Mounted at /content/drive\n",
      "time: 15.5 s (started: 2022-06-20 16:17:45 +00:00)\n"
     ]
    }
   ],
   "source": [
    "# from google.colab import drive\n",
    "# drive.mount('/content/drive')"
   ]
  },
  {
   "cell_type": "code",
   "execution_count": 4,
   "metadata": {
    "ExecuteTime": {
     "end_time": "2022-06-21T13:45:48.340881Z",
     "start_time": "2022-06-21T13:45:48.338581Z"
    },
    "colab": {
     "base_uri": "https://localhost:8080/"
    },
    "id": "NbZ8Rn6_KlfN",
    "outputId": "bb1282bb-e5c4-467d-bdba-64622c586d2e"
   },
   "outputs": [],
   "source": [
    "# replace the dir if needed\n",
    "\n",
    "ROOT_DIR = \"/home/hui/Projects/g5/datasets/cv2\"  # Henry's dir\n",
    "# ROOT_DIR = \"/content/drive/MyDrive/Project - G5/Dataset/\"    #Lejia's dir\n",
    "# ROOT_DIR = \"/content/drive/MyDrive/Project - G5/Dataset/\" #Nan's dir\n",
    "# ROOT_DIR = \"/content/drive/MyDrive/Project - G5/Dataset\""
   ]
  },
  {
   "cell_type": "markdown",
   "metadata": {
    "id": "mnGd2gX0QnUb"
   },
   "source": [
    "## Unzip the data"
   ]
  },
  {
   "cell_type": "code",
   "execution_count": 5,
   "metadata": {
    "ExecuteTime": {
     "end_time": "2022-06-21T13:45:50.308867Z",
     "start_time": "2022-06-21T13:45:50.305567Z"
    },
    "colab": {
     "base_uri": "https://localhost:8080/"
    },
    "id": "q-C9I8ZVK_wF",
    "outputId": "3f6fa04c-20f8-4ede-cb7d-254b03e49c47"
   },
   "outputs": [
    {
     "name": "stdout",
     "output_type": "stream",
     "text": [
      "Current dir: /home/hui/Projects/g5/datasets/cv2\n",
      "CPU times: user 813 µs, sys: 439 µs, total: 1.25 ms\n",
      "Wall time: 746 µs\n"
     ]
    }
   ],
   "source": [
    "os.chdir(ROOT_DIR)\n",
    "print(\"Current dir: {}\".format(os.getcwd()))"
   ]
  },
  {
   "cell_type": "code",
   "execution_count": 6,
   "metadata": {
    "ExecuteTime": {
     "end_time": "2022-06-21T13:45:52.494083Z",
     "start_time": "2022-06-21T13:45:52.491816Z"
    },
    "colab": {
     "base_uri": "https://localhost:8080/"
    },
    "id": "ba3qJwOJSlSP",
    "outputId": "b617a331-cd72-47e2-9335-8626a2f9f36b"
   },
   "outputs": [],
   "source": [
    "# print(Tree(os.getcwd()))"
   ]
  },
  {
   "cell_type": "markdown",
   "metadata": {
    "id": "s0VG-5QELAsp"
   },
   "source": [
    "# SIFT"
   ]
  },
  {
   "cell_type": "code",
   "execution_count": 12,
   "metadata": {
    "ExecuteTime": {
     "end_time": "2022-06-21T13:52:07.826398Z",
     "start_time": "2022-06-21T13:52:07.823134Z"
    },
    "colab": {
     "base_uri": "https://localhost:8080/"
    },
    "id": "THY1UT55LBUG",
    "outputId": "40ee045d-7a17-42a4-cf7e-d77804fa3be2"
   },
   "outputs": [],
   "source": [
    "def sift_descriptor(file_path, write_sample=False):\n",
    "    # read the file as opencv obj\n",
    "    img = cv2.imread(file_path)\n",
    "    #     img=mpimg.imread(file_path)\n",
    "\n",
    "    # convert the image into gray scale\n",
    "    img_gray = cv2.cvtColor(img, cv2.COLOR_BGR2GRAY)\n",
    "\n",
    "    # create a sift obj\n",
    "    sift = cv2.SIFT_create()\n",
    "\n",
    "    # compute the keypoints and the local descriptor\n",
    "    keypoints_, descriptors_ = sift.detectAndCompute(img_gray, None)\n",
    "\n",
    "    # are you write a sample of SIFT img?\n",
    "    if write_sample:\n",
    "        # draw the keypoints of the img\n",
    "        img_kp = cv2.drawKeypoints(img_gray, keypoints_, img)\n",
    "\n",
    "        # write the img with keypoints to disk\n",
    "        cv2.imwrite(ROOT_DIR + '/sample1_sift_kp.jpg', img_kp)\n",
    "\n",
    "    return keypoints_, descriptors_"
   ]
  },
  {
   "cell_type": "code",
   "execution_count": 134,
   "metadata": {
    "colab": {
     "base_uri": "https://localhost:8080/"
    },
    "id": "GgBOs0bP4caK",
    "outputId": "904982ef-7fa9-4ef2-ca2b-1f6d590831fe"
   },
   "outputs": [
    {
     "name": "stdout",
     "output_type": "stream",
     "text": [
      "time: 8.05 ms (started: 2022-06-20 19:23:41 +00:00)\n"
     ]
    }
   ],
   "source": [
    "# os.chdir(ROOT_DIR+\"/unzip\")\n",
    "\n",
    "# all_folders = os.listdir(os.getcwd())\n",
    "\n",
    "# os.chdir(\"./\" + all_folders[0])\n",
    "# all_files = os.listdir(os.getcwd())\n",
    "\n",
    "# random_sample_index = random.randint(0, len(all_files))\n",
    "\n",
    "# sample_img_path = all_files[random_sample_index]"
   ]
  },
  {
   "cell_type": "code",
   "execution_count": null,
   "metadata": {
    "id": "rje-oLmJ4JNN"
   },
   "outputs": [],
   "source": [
    "# sift_descriptor(sample_img_path, write_sample=True)"
   ]
  },
  {
   "cell_type": "code",
   "execution_count": 13,
   "metadata": {
    "ExecuteTime": {
     "end_time": "2022-06-21T13:52:09.815716Z",
     "start_time": "2022-06-21T13:52:09.813230Z"
    },
    "colab": {
     "base_uri": "https://localhost:8080/"
    },
    "id": "-pcfKW2Uk4gX",
    "outputId": "d5c10396-d999-4014-e1e8-185a703e27d2"
   },
   "outputs": [],
   "source": [
    "# target file path\n",
    "img1 = ROOT_DIR + \"/Hot Red Bean Soup.png\"\n",
    "img2 = ROOT_DIR + \"/Double Taro Signature.png\""
   ]
  },
  {
   "cell_type": "code",
   "execution_count": 14,
   "metadata": {
    "ExecuteTime": {
     "end_time": "2022-06-21T13:52:11.435504Z",
     "start_time": "2022-06-21T13:52:10.182574Z"
    },
    "colab": {
     "base_uri": "https://localhost:8080/"
    },
    "id": "pIQ_CxwO6Vx7",
    "outputId": "98472f9e-dd91-48d3-af53-22b54e89ee8c"
   },
   "outputs": [
    {
     "name": "stdout",
     "output_type": "stream",
     "text": [
      "Retrieved all kp and local descriptors!\n"
     ]
    }
   ],
   "source": [
    "kp1, de1 = sift_descriptor(img1)\n",
    "kp2, de2 = sift_descriptor(img2)\n",
    "\n",
    "print(\"Retrieved all kp and local descriptors!\")"
   ]
  },
  {
   "cell_type": "markdown",
   "metadata": {},
   "source": [
    "## Store all local descriptors"
   ]
  },
  {
   "cell_type": "code",
   "execution_count": 64,
   "metadata": {
    "ExecuteTime": {
     "end_time": "2022-06-22T02:02:31.564231Z",
     "start_time": "2022-06-22T02:02:14.468016Z"
    }
   },
   "outputs": [
    {
     "name": "stderr",
     "output_type": "stream",
     "text": [
      "Corrupt JPEG data: 1 extraneous bytes before marker 0xd9\n"
     ]
    },
    {
     "name": "stdout",
     "output_type": "stream",
     "text": [
      ">>> All operations are done!\n"
     ]
    }
   ],
   "source": [
    "# specify a location where the local descriptor is going to be stored\n",
    "SAVE_DE_DIR = \"/home/hui/Projects/g5/datasets/descriptors\"\n",
    "\n",
    "if not os.path.exists(SAVE_DE_DIR):\n",
    "    os.mkdir(SAVE_DE_DIR)\n",
    "\n",
    "# change to the right dir\n",
    "os.chdir(ROOT_DIR)\n",
    "\n",
    "# get a list of all file names\n",
    "files = os.listdir(os.getcwd())\n",
    "\n",
    "DE_RESULT = list()\n",
    "\n",
    "# compute local descriptor for all images\n",
    "for file in files:\n",
    "    kp, de = sift_descriptor(file)\n",
    "    DE_RESULT.append(de)\n",
    "\n",
    "# write all local descriptor into a file\n",
    "for i in range(len(files)):\n",
    "    # save the descriptor as a txt file and remove the 'jpg' and 'png' file extension\n",
    "    with open(SAVE_DE_DIR + '/' + str(files[i].split('.')[0]) + '.txt', 'wb') as f:\n",
    "        pickle.dump(DE_RESULT[i], f)\n",
    "\n",
    "print(\">>> All operations are done!\")"
   ]
  },
  {
   "cell_type": "markdown",
   "metadata": {},
   "source": [
    "## Read a single local descriptor"
   ]
  },
  {
   "cell_type": "code",
   "execution_count": 38,
   "metadata": {
    "ExecuteTime": {
     "end_time": "2022-06-21T16:34:37.105697Z",
     "start_time": "2022-06-21T16:34:37.102462Z"
    }
   },
   "outputs": [],
   "source": [
    "def retrieve_stored_descriptor(product_name: str):\n",
    "    # retrieve a stored local descriptor based on given name\n",
    "    try:\n",
    "        file_path = ROOT_DIR + \"/descriptors/\" + product_name + \".txt\"\n",
    "        file = open(file_path, 'rb')\n",
    "        descriptor = pickle.load(file)\n",
    "        file.close()\n",
    "        return descriptor\n",
    "    except FileNotFoundError:\n",
    "        print(\"Wrong file or file path\")\n",
    "        return None\n",
    "    except e:\n",
    "        print(\"Error due to: {}\".format(e))\n",
    "        return None"
   ]
  },
  {
   "cell_type": "markdown",
   "metadata": {},
   "source": [
    "Sample"
   ]
  },
  {
   "cell_type": "code",
   "execution_count": 39,
   "metadata": {
    "ExecuteTime": {
     "end_time": "2022-06-21T16:34:37.417308Z",
     "start_time": "2022-06-21T16:34:37.413846Z"
    }
   },
   "outputs": [
    {
     "name": "stdout",
     "output_type": "stream",
     "text": [
      "[[37.  8.  0. ...  0.  0.  1.]\n",
      " [ 0.  1.  1. ...  0.  0.  0.]\n",
      " [ 0.  1. 14. ...  0.  0.  2.]\n",
      " ...\n",
      " [22.  1.  0. ...  6.  6. 35.]\n",
      " [ 1.  5.  2. ...  0.  0.  0.]\n",
      " [ 5.  0.  0. ... 11.  1.  1.]]\n"
     ]
    }
   ],
   "source": [
    "product_name = \"Boba Tofu Pudding\"\n",
    "print(retrieve_stored_descriptor(product_name))"
   ]
  },
  {
   "cell_type": "markdown",
   "metadata": {
    "id": "KxUa_DqvlXiX"
   },
   "source": [
    "# Feature matching"
   ]
  },
  {
   "cell_type": "code",
   "execution_count": 40,
   "metadata": {
    "ExecuteTime": {
     "end_time": "2022-06-21T16:36:11.939505Z",
     "start_time": "2022-06-21T16:36:10.970652Z"
    },
    "colab": {
     "base_uri": "https://localhost:8080/",
     "height": 223
    },
    "id": "ZutI-4eDlPn1",
    "outputId": "bb34bb0f-78af-4d17-cdf3-f274ad51e0da"
   },
   "outputs": [
    {
     "data": {
      "image/png": "[encoded data removed]",
      "text/plain": [
       "<Figure size 432x288 with 1 Axes>"
      ]
     },
     "metadata": {
      "needs_background": "light"
     },
     "output_type": "display_data"
    },
    {
     "data": {
      "text/plain": [
       "(<matplotlib.image.AxesImage at 0x7f2fa2823640>, None)"
      ]
     },
     "execution_count": 40,
     "metadata": {},
     "output_type": "execute_result"
    }
   ],
   "source": [
    "# feature matching\n",
    "\n",
    "# instantiate a Brute-force matcher with L1 norm\n",
    "bf = cv2.BFMatcher(cv2.NORM_L1, crossCheck=True)\n",
    "\n",
    "# match the two descriptors\n",
    "matches = bf.match(de1, de2)\n",
    "\n",
    "# sort the match result based on feature vector distance\n",
    "matches = sorted(matches, key=lambda x: x.distance)\n",
    "\n",
    "# draw the match image (cross reference) and then display it\n",
    "img3 = cv2.drawMatches(cv2.imread(img1),\n",
    "                       kp1,\n",
    "                       cv2.imread(img2),\n",
    "                       kp2,\n",
    "                       matches[:50],\n",
    "                       cv2.imread(img2),\n",
    "                       flags=2)\n",
    "# img=mpimg.imread('stinkbug.png')\n",
    "plt.imshow(img3), plt.show()"
   ]
  },
  {
   "cell_type": "code",
   "execution_count": 35,
   "metadata": {
    "colab": {
     "base_uri": "https://localhost:8080/"
    },
    "id": "JRMC0pzflzp5",
    "outputId": "e73b395c-0384-4e26-d495-465938e9a2d4"
   },
   "outputs": [
    {
     "data": {
      "text/plain": [
       "['__class__',\n",
       " '__delattr__',\n",
       " '__dir__',\n",
       " '__doc__',\n",
       " '__eq__',\n",
       " '__format__',\n",
       " '__ge__',\n",
       " '__getattribute__',\n",
       " '__gt__',\n",
       " '__hash__',\n",
       " '__init__',\n",
       " '__init_subclass__',\n",
       " '__le__',\n",
       " '__lt__',\n",
       " '__ne__',\n",
       " '__new__',\n",
       " '__reduce__',\n",
       " '__reduce_ex__',\n",
       " '__repr__',\n",
       " '__setattr__',\n",
       " '__sizeof__',\n",
       " '__str__',\n",
       " '__subclasshook__',\n",
       " 'distance',\n",
       " 'imgIdx',\n",
       " 'queryIdx',\n",
       " 'trainIdx']"
      ]
     },
     "execution_count": 35,
     "metadata": {},
     "output_type": "execute_result"
    }
   ],
   "source": [
    "dir(matches[0])"
   ]
  },
  {
   "cell_type": "code",
   "execution_count": 41,
   "metadata": {
    "ExecuteTime": {
     "end_time": "2022-06-21T16:38:17.486442Z",
     "start_time": "2022-06-21T16:38:17.482628Z"
    }
   },
   "outputs": [],
   "source": [
    "def match_products(product_1, product_2):\n",
    "    # instantiate a Brute-force matcher with L1 norm\n",
    "    bf = cv2.BFMatcher(cv2.NORM_L1, crossCheck=True)\n",
    "\n",
    "    # match the two descriptors\n",
    "    matches = bf.match(retrieve_stored_descriptor(product_1), retrieve_stored_descriptor(product_2))\n",
    "\n",
    "    # sort the match result based on feature vector distance\n",
    "    matches = sorted(matches, key=lambda x: x.distance)\n",
    "    \n",
    "    return matches"
   ]
  },
  {
   "cell_type": "code",
   "execution_count": 60,
   "metadata": {
    "ExecuteTime": {
     "end_time": "2022-06-22T01:33:55.656732Z",
     "start_time": "2022-06-22T01:33:55.631122Z"
    },
    "colab": {
     "base_uri": "https://localhost:8080/"
    },
    "id": "3HH4K6BcmnWW",
    "outputId": "0671299f-a1a5-4d84-8917-5b33fdb878f5"
   },
   "outputs": [
    {
     "name": "stdout",
     "output_type": "stream",
     "text": [
      "522.0\n"
     ]
    }
   ],
   "source": [
    "PRODUCT_NAME_1 = \"Fluffy Green Tea\"\n",
    "PRODUCT_NAME_2 = \"Fluffy Jin Xuan Tea\"\n",
    "\n",
    "print(match_products(PRODUCT_NAME_1, PRODUCT_NAME_2)[1].distance)"
   ]
  },
  {
   "cell_type": "markdown",
   "metadata": {},
   "source": [
    "A list of things we need to consider here:\n",
    "- Mean\n",
    "- Median\n",
    "\n",
    "- Distance formula (Euclidean distance)\n",
    "\n",
    "- Visualization (feature matrix)\n",
    "\n",
    "- Clustering"
   ]
  },
  {
   "cell_type": "code",
   "execution_count": 63,
   "metadata": {
    "ExecuteTime": {
     "end_time": "2022-06-22T01:52:48.653300Z",
     "start_time": "2022-06-22T01:52:48.644077Z"
    }
   },
   "outputs": [
    {
     "name": "stdout",
     "output_type": "stream",
     "text": [
      "1163.851851851852\n"
     ]
    }
   ],
   "source": [
    "# attempt of using the mean of the all distances\n",
    "from numpy import mean\n",
    "# median\n",
    "\n",
    "\n",
    "dist = list()\n",
    "for item in match_products(PRODUCT_NAME_1, PRODUCT_NAME_2):\n",
    "    dist.append(item.distance)\n",
    "    \n",
    "print(mean(dist))"
   ]
  },
  {
   "cell_type": "code",
   "execution_count": 58,
   "metadata": {
    "ExecuteTime": {
     "end_time": "2022-06-22T01:24:15.611885Z",
     "start_time": "2022-06-22T01:24:15.607911Z"
    },
    "id": "Kkcf7CtXoGkl"
   },
   "outputs": [
    {
     "data": {
      "text/plain": [
       "(56, 128)"
      ]
     },
     "execution_count": 58,
     "metadata": {},
     "output_type": "execute_result"
    }
   ],
   "source": [
    "retrieve_stored_descriptor(PRODUCT_NAME_1).shape"
   ]
  },
  {
   "cell_type": "code",
   "execution_count": 59,
   "metadata": {
    "ExecuteTime": {
     "end_time": "2022-06-22T01:24:17.536858Z",
     "start_time": "2022-06-22T01:24:17.532133Z"
    }
   },
   "outputs": [
    {
     "data": {
      "text/plain": [
       "(37, 128)"
      ]
     },
     "execution_count": 59,
     "metadata": {},
     "output_type": "execute_result"
    }
   ],
   "source": [
    "retrieve_stored_descriptor(PRODUCT_NAME_2).shape"
   ]
  },
  {
   "cell_type": "code",
   "execution_count": null,
   "metadata": {},
   "outputs": [],
   "source": []
  }
 ],
 "metadata": {
  "accelerator": "GPU",
  "colab": {
   "collapsed_sections": [],
   "name": "03__SIFT_sample.ipynb",
   "provenance": [],
   "toc_visible": true
  },
  "gpuClass": "standard",
  "kernelspec": {
   "display_name": "ml",
   "language": "python",
   "name": "ml"
  },
  "language_info": {
   "codemirror_mode": {
    "name": "ipython",
    "version": 3
   },
   "file_extension": ".py",
   "mimetype": "text/x-python",
   "name": "python",
   "nbconvert_exporter": "python",
   "pygments_lexer": "ipython3",
   "version": "3.10.5"
  },
  "toc": {
   "base_numbering": 1,
   "nav_menu": {
    "height": "255px",
    "width": "318px"
   },
   "number_sections": true,
   "sideBar": true,
   "skip_h1_title": false,
   "title_cell": "Table of Contents",
   "title_sidebar": "Contents",
   "toc_cell": true,
   "toc_position": {
    "height": "calc(100% - 180px)",
    "left": "10px",
    "top": "150px",
    "width": "265px"
   },
   "toc_section_display": true,
   "toc_window_display": false
  }
 },
 "nbformat": 4,
 "nbformat_minor": 1
}
