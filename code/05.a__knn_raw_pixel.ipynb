{
 "cells": [
  {
   "cell_type": "markdown",
   "metadata": {
    "toc": true
   },
   "source": [
    "<h1>Table of Contents<span class=\"tocSkip\"></span></h1>\n",
    "<div class=\"toc\"><ul class=\"toc-item\"><li><span><a href=\"#Setup\" data-toc-modified-id=\"Setup-1\"><span class=\"toc-item-num\">1&nbsp;&nbsp;</span>Setup</a></span><ul class=\"toc-item\"><li><span><a href=\"#Utility\" data-toc-modified-id=\"Utility-1.1\"><span class=\"toc-item-num\">1.1&nbsp;&nbsp;</span>Utility</a></span></li><li><span><a href=\"#Feature-Scaling\" data-toc-modified-id=\"Feature-Scaling-1.2\"><span class=\"toc-item-num\">1.2&nbsp;&nbsp;</span>Feature Scaling</a></span></li></ul></li><li><span><a href=\"#Model\" data-toc-modified-id=\"Model-2\"><span class=\"toc-item-num\">2&nbsp;&nbsp;</span>Model</a></span><ul class=\"toc-item\"><li><span><a href=\"#one-vs-rest\" data-toc-modified-id=\"one-vs-rest-2.1\"><span class=\"toc-item-num\">2.1&nbsp;&nbsp;</span>one-vs-rest</a></span></li><li><span><a href=\"#radius_neighbors-Approach\" data-toc-modified-id=\"radius_neighbors-Approach-2.2\"><span class=\"toc-item-num\">2.2&nbsp;&nbsp;</span>radius_neighbors Approach</a></span><ul class=\"toc-item\"><li><span><a href=\"#Multiple-products\" data-toc-modified-id=\"Multiple-products-2.2.1\"><span class=\"toc-item-num\">2.2.1&nbsp;&nbsp;</span>Multiple products</a></span></li><li><span><a href=\"#All-products\" data-toc-modified-id=\"All-products-2.2.2\"><span class=\"toc-item-num\">2.2.2&nbsp;&nbsp;</span>All products</a></span></li></ul></li><li><span><a href=\"#kneighbors-approach\" data-toc-modified-id=\"kneighbors-approach-2.3\"><span class=\"toc-item-num\">2.3&nbsp;&nbsp;</span>kneighbors approach</a></span><ul class=\"toc-item\"><li><span><a href=\"#Single-product\" data-toc-modified-id=\"Single-product-2.3.1\"><span class=\"toc-item-num\">2.3.1&nbsp;&nbsp;</span>Single product</a></span></li><li><span><a href=\"#Multiple-products\" data-toc-modified-id=\"Multiple-products-2.3.2\"><span class=\"toc-item-num\">2.3.2&nbsp;&nbsp;</span>Multiple products</a></span></li><li><span><a href=\"#All-products\" data-toc-modified-id=\"All-products-2.3.3\"><span class=\"toc-item-num\">2.3.3&nbsp;&nbsp;</span>All products</a></span></li></ul></li></ul></li></ul></div>"
   ]
  },
  {
   "cell_type": "markdown",
   "metadata": {
    "id": "101cYVFdK8N6"
   },
   "source": [
    "# Setup"
   ]
  },
  {
   "cell_type": "code",
   "execution_count": null,
   "metadata": {
    "ExecuteTime": {
     "end_time": "2022-06-30T01:37:18.784054Z",
     "start_time": "2022-06-30T01:37:18.671353Z"
    }
   },
   "outputs": [],
   "source": [
    "!/home/hui/anaconda3/envs/ml/lib/python3.10/site-packages/pip -V"
   ]
  },
  {
   "cell_type": "code",
   "execution_count": 50,
   "metadata": {
    "ExecuteTime": {
     "end_time": "2022-07-13T16:43:35.623212Z",
     "start_time": "2022-07-13T16:43:35.051077Z"
    },
    "colab": {
     "base_uri": "https://localhost:8080/"
    },
    "id": "UO7FbXMSE03v",
    "outputId": "bbab0a2b-4bff-468c-a9ae-b1dba0ecaf18"
   },
   "outputs": [
    {
     "name": "stdout",
     "output_type": "stream",
     "text": [
      "/bin/bash: line 1: /home/hui/anaconda3/envs/ml/lib/python3.10/site-packages/pip: Is a directory\n",
      "/bin/bash: line 1: /home/hui/anaconda3/envs/ml/lib/python3.10/site-packages/pip: Is a directory\n",
      "/bin/bash: line 1: /home/hui/anaconda3/envs/ml/lib/python3.10/site-packages/pip: Is a directory\n",
      "/bin/bash: line 1: /home/hui/anaconda3/envs/ml/lib/python3.10/site-packages/pip: Is a directory\n",
      "/bin/bash: line 1: /home/hui/anaconda3/envs/ml/lib/python3.10/site-packages/pip: Is a directory\n"
     ]
    }
   ],
   "source": [
    "# setup to see the execution time in each cell\n",
    "\n",
    "!/home/hui/anaconda3/envs/ml/lib/python3.10/site-packages/pip install ipython-autotime\n",
    "!/home/hui/anaconda3/envs/ml/lib/python3.10/site-packages/pip install directory_structure\n",
    "!/home/hui/anaconda3/envs/ml/lib/python3.10/site-packages/pip install handcalcs\n",
    "!/home/hui/anaconda3/envs/ml/lib/python3.10/site-packages/pip install pytz\n",
    "!/home/hui/anaconda3/envs/ml/lib/python3.10/site-packages/pip install skimage\n",
    "# !/home/hui/anaconda3/envs/ml/lib/python3.10/site-packages/pip install opencv-contrib-python==4.4.0.44\n",
    "# %load_ext autotime"
   ]
  },
  {
   "cell_type": "code",
   "execution_count": 51,
   "metadata": {
    "ExecuteTime": {
     "end_time": "2022-07-13T16:43:37.960685Z",
     "start_time": "2022-07-13T16:43:37.956027Z"
    },
    "colab": {
     "base_uri": "https://localhost:8080/"
    },
    "id": "e64TGJZPHJaJ",
    "outputId": "404be46e-c88f-47aa-adaf-5ed6356ae13b"
   },
   "outputs": [],
   "source": [
    "import os\n",
    "import random\n",
    "import glob\n",
    "import cv2\n",
    "import shutil\n",
    "import pickle\n",
    "import PIL\n",
    "import pandas as pd\n",
    "from PIL import Image\n",
    "import numpy as np\n",
    "from numpy import mean\n",
    "import matplotlib.pyplot as plt\n",
    "import plotly.express as px\n",
    "\n",
    "from sklearn.preprocessing import StandardScaler\n",
    "from sklearn.neighbors import NearestNeighbors\n",
    "\n",
    "# import cupy as cp\n",
    "\n",
    "# from google.colab.patches import cv2_imshow\n",
    "# from directory_structure import Tree"
   ]
  },
  {
   "cell_type": "code",
   "execution_count": 7,
   "metadata": {
    "ExecuteTime": {
     "end_time": "2022-07-13T14:39:29.141505Z",
     "start_time": "2022-07-13T14:39:29.138787Z"
    },
    "colab": {
     "base_uri": "https://localhost:8080/"
    },
    "id": "GSmlrTFFDQcG",
    "outputId": "1f8edcc0-98c9-4522-c9cc-e68c7c066c72"
   },
   "outputs": [
    {
     "name": "stdout",
     "output_type": "stream",
     "text": [
      "4.5.5\n"
     ]
    }
   ],
   "source": [
    "print (cv2.__version__)"
   ]
  },
  {
   "cell_type": "code",
   "execution_count": 8,
   "metadata": {
    "ExecuteTime": {
     "end_time": "2022-07-13T14:39:30.717045Z",
     "start_time": "2022-07-13T14:39:30.714881Z"
    },
    "colab": {
     "base_uri": "https://localhost:8080/"
    },
    "id": "lfdjbNrKKNPL",
    "outputId": "a782f00f-5293-4e68-ce36-567618fc3cda"
   },
   "outputs": [],
   "source": [
    "# from google.colab import drive\n",
    "# drive.mount('/content/drive')"
   ]
  },
  {
   "cell_type": "code",
   "execution_count": 9,
   "metadata": {
    "ExecuteTime": {
     "end_time": "2022-07-13T14:40:07.511912Z",
     "start_time": "2022-07-13T14:40:07.508698Z"
    },
    "colab": {
     "base_uri": "https://localhost:8080/"
    },
    "id": "NbZ8Rn6_KlfN",
    "outputId": "bb1282bb-e5c4-467d-bdba-64622c586d2e"
   },
   "outputs": [],
   "source": [
    "# replace the dir if needed\n",
    "\n",
    "ROOT_DIR = \"/home/hui/Projects/g5/datasets\"  # Henry's dir\n",
    "# ROOT_DIR = \"/content/drive/MyDrive/Project - G5/Dataset/\"    #Lejia's dir\n",
    "# ROOT_DIR = \"/content/drive/MyDrive/Project - G5/Dataset/\" #Nan's dir\n",
    "# ROOT_DIR = \"/content/drive/MyDrive/Project - G5/Dataset\"\n",
    "\n",
    "\n",
    "# path for image augmentation\n",
    "RESIZE_DIR = ROOT_DIR + \"/augmentation/resize\"\n",
    "\n",
    "\n",
    "# path for the different handcraft features\n",
    "RAW_PIXEL_DIR = ROOT_DIR + \"/handcraft_features/raw_pixel\"\n",
    "SIFT_DIR = ROOT_DIR + \"/handcraft_features/sift\"\n",
    "HOG_DIR = ROOT_DIR + \"/handcraft_features/hog\"\n",
    "LBP_DIR = ROOT_DIR + \"/handcraft_features/lbp\"\n",
    "\n",
    "\n",
    "# menu datasets\n",
    "MENU_FOOD = ROOT_DIR + \"/MeetFresh_menu_food_2.csv\"\n",
    "MENU_DRINK = ROOT_DIR + \"/MeetFresh_menu_drink_2.csv\""
   ]
  },
  {
   "cell_type": "markdown",
   "metadata": {
    "ExecuteTime": {
     "end_time": "2022-07-11T17:15:44.398591Z",
     "start_time": "2022-07-11T17:15:44.282270Z"
    }
   },
   "source": [
    "## Utility"
   ]
  },
  {
   "cell_type": "markdown",
   "metadata": {},
   "source": [
    "Retrieve local descriptor"
   ]
  },
  {
   "cell_type": "code",
   "execution_count": 12,
   "metadata": {
    "ExecuteTime": {
     "end_time": "2022-07-13T15:13:27.055965Z",
     "start_time": "2022-07-13T15:13:27.051809Z"
    }
   },
   "outputs": [],
   "source": [
    "def retrieve_stored_features(path: str, product_name: str):\n",
    "    # retrieve a stored local descriptor based on given name\n",
    "    try:\n",
    "        file_path = path + \"/\" + product_name + \".txt\"\n",
    "        file = open(file_path, 'rb')\n",
    "        descriptor = pickle.load(file)\n",
    "        file.close()\n",
    "\n",
    "        return descriptor\n",
    "\n",
    "    except FileNotFoundError:\n",
    "        print(\"Wrong file name or path for {}\".format(product_name))\n",
    "        return None\n",
    "    except e:\n",
    "        print(\"Error due to: {}\".format(e))\n",
    "        return None"
   ]
  },
  {
   "cell_type": "code",
   "execution_count": 13,
   "metadata": {
    "ExecuteTime": {
     "end_time": "2022-07-13T15:13:41.890455Z",
     "start_time": "2022-07-13T15:13:41.811281Z"
    }
   },
   "outputs": [
    {
     "name": "stdout",
     "output_type": "stream",
     "text": [
      ">>> All jobs done!\n"
     ]
    }
   ],
   "source": [
    "files = os.listdir(RAW_PIXEL_DIR)\n",
    "x = list()\n",
    "\n",
    "for file in files:\n",
    "    x.append(retrieve_stored_features(RAW_PIXEL_DIR, file.split(\".\")[0]))\n",
    "\n",
    "print(\">>> All jobs done!\")"
   ]
  },
  {
   "cell_type": "markdown",
   "metadata": {},
   "source": [
    "## Feature Scaling\n",
    "\n",
    "Feature Scaling before fitting the data into the model."
   ]
  },
  {
   "cell_type": "code",
   "execution_count": 14,
   "metadata": {
    "ExecuteTime": {
     "end_time": "2022-07-13T15:13:46.250321Z",
     "start_time": "2022-07-13T15:13:46.059440Z"
    }
   },
   "outputs": [],
   "source": [
    "sc = StandardScaler()\n",
    "x = sc.fit_transform(x)"
   ]
  },
  {
   "cell_type": "markdown",
   "metadata": {},
   "source": [
    "# Model"
   ]
  },
  {
   "cell_type": "code",
   "execution_count": 15,
   "metadata": {
    "ExecuteTime": {
     "end_time": "2022-07-13T15:13:49.247858Z",
     "start_time": "2022-07-13T15:13:49.243251Z"
    }
   },
   "outputs": [],
   "source": [
    "model_knn = NearestNeighbors(metric='cosine', algorithm='brute')"
   ]
  },
  {
   "cell_type": "code",
   "execution_count": 16,
   "metadata": {
    "ExecuteTime": {
     "end_time": "2022-07-13T15:13:49.436349Z",
     "start_time": "2022-07-13T15:13:49.434225Z"
    }
   },
   "outputs": [],
   "source": [
    "index = 0"
   ]
  },
  {
   "cell_type": "code",
   "execution_count": 17,
   "metadata": {
    "ExecuteTime": {
     "end_time": "2022-07-13T15:13:54.459263Z",
     "start_time": "2022-07-13T15:13:54.435953Z"
    }
   },
   "outputs": [
    {
     "data": {
      "text/html": [
       "<style>#sk-container-id-1 {color: black;background-color: white;}#sk-container-id-1 pre{padding: 0;}#sk-container-id-1 div.sk-toggleable {background-color: white;}#sk-container-id-1 label.sk-toggleable__label {cursor: pointer;display: block;width: 100%;margin-bottom: 0;padding: 0.3em;box-sizing: border-box;text-align: center;}#sk-container-id-1 label.sk-toggleable__label-arrow:before {content: \"▸\";float: left;margin-right: 0.25em;color: #696969;}#sk-container-id-1 label.sk-toggleable__label-arrow:hover:before {color: black;}#sk-container-id-1 div.sk-estimator:hover label.sk-toggleable__label-arrow:before {color: black;}#sk-container-id-1 div.sk-toggleable__content {max-height: 0;max-width: 0;overflow: hidden;text-align: left;background-color: #f0f8ff;}#sk-container-id-1 div.sk-toggleable__content pre {margin: 0.2em;color: black;border-radius: 0.25em;background-color: #f0f8ff;}#sk-container-id-1 input.sk-toggleable__control:checked~div.sk-toggleable__content {max-height: 200px;max-width: 100%;overflow: auto;}#sk-container-id-1 input.sk-toggleable__control:checked~label.sk-toggleable__label-arrow:before {content: \"▾\";}#sk-container-id-1 div.sk-estimator input.sk-toggleable__control:checked~label.sk-toggleable__label {background-color: #d4ebff;}#sk-container-id-1 div.sk-label input.sk-toggleable__control:checked~label.sk-toggleable__label {background-color: #d4ebff;}#sk-container-id-1 input.sk-hidden--visually {border: 0;clip: rect(1px 1px 1px 1px);clip: rect(1px, 1px, 1px, 1px);height: 1px;margin: -1px;overflow: hidden;padding: 0;position: absolute;width: 1px;}#sk-container-id-1 div.sk-estimator {font-family: monospace;background-color: #f0f8ff;border: 1px dotted black;border-radius: 0.25em;box-sizing: border-box;margin-bottom: 0.5em;}#sk-container-id-1 div.sk-estimator:hover {background-color: #d4ebff;}#sk-container-id-1 div.sk-parallel-item::after {content: \"\";width: 100%;border-bottom: 1px solid gray;flex-grow: 1;}#sk-container-id-1 div.sk-label:hover label.sk-toggleable__label {background-color: #d4ebff;}#sk-container-id-1 div.sk-serial::before {content: \"\";position: absolute;border-left: 1px solid gray;box-sizing: border-box;top: 0;bottom: 0;left: 50%;z-index: 0;}#sk-container-id-1 div.sk-serial {display: flex;flex-direction: column;align-items: center;background-color: white;padding-right: 0.2em;padding-left: 0.2em;position: relative;}#sk-container-id-1 div.sk-item {position: relative;z-index: 1;}#sk-container-id-1 div.sk-parallel {display: flex;align-items: stretch;justify-content: center;background-color: white;position: relative;}#sk-container-id-1 div.sk-item::before, #sk-container-id-1 div.sk-parallel-item::before {content: \"\";position: absolute;border-left: 1px solid gray;box-sizing: border-box;top: 0;bottom: 0;left: 50%;z-index: -1;}#sk-container-id-1 div.sk-parallel-item {display: flex;flex-direction: column;z-index: 1;position: relative;background-color: white;}#sk-container-id-1 div.sk-parallel-item:first-child::after {align-self: flex-end;width: 50%;}#sk-container-id-1 div.sk-parallel-item:last-child::after {align-self: flex-start;width: 50%;}#sk-container-id-1 div.sk-parallel-item:only-child::after {width: 0;}#sk-container-id-1 div.sk-dashed-wrapped {border: 1px dashed gray;margin: 0 0.4em 0.5em 0.4em;box-sizing: border-box;padding-bottom: 0.4em;background-color: white;}#sk-container-id-1 div.sk-label label {font-family: monospace;font-weight: bold;display: inline-block;line-height: 1.2em;}#sk-container-id-1 div.sk-label-container {text-align: center;}#sk-container-id-1 div.sk-container {/* jupyter's `normalize.less` sets `[hidden] { display: none; }` but bootstrap.min.css set `[hidden] { display: none !important; }` so we also need the `!important` here to be able to override the default hidden behavior on the sphinx rendered scikit-learn.org. See: https://github.com/scikit-learn/scikit-learn/issues/21755 */display: inline-block !important;position: relative;}#sk-container-id-1 div.sk-text-repr-fallback {display: none;}</style><div id=\"sk-container-id-1\" class=\"sk-top-container\"><div class=\"sk-text-repr-fallback\"><pre>NearestNeighbors(algorithm=&#x27;brute&#x27;, metric=&#x27;cosine&#x27;)</pre><b>In a Jupyter environment, please rerun this cell to show the HTML representation or trust the notebook. <br />On GitHub, the HTML representation is unable to render, please try loading this page with nbviewer.org.</b></div><div class=\"sk-container\" hidden><div class=\"sk-item\"><div class=\"sk-estimator sk-toggleable\"><input class=\"sk-toggleable__control sk-hidden--visually\" id=\"sk-estimator-id-1\" type=\"checkbox\" checked><label for=\"sk-estimator-id-1\" class=\"sk-toggleable__label sk-toggleable__label-arrow\">NearestNeighbors</label><div class=\"sk-toggleable__content\"><pre>NearestNeighbors(algorithm=&#x27;brute&#x27;, metric=&#x27;cosine&#x27;)</pre></div></div></div></div></div>"
      ],
      "text/plain": [
       "NearestNeighbors(algorithm='brute', metric='cosine')"
      ]
     },
     "execution_count": 17,
     "metadata": {},
     "output_type": "execute_result"
    }
   ],
   "source": [
    "model_knn.fit(x)"
   ]
  },
  {
   "cell_type": "code",
   "execution_count": 56,
   "metadata": {
    "ExecuteTime": {
     "end_time": "2022-07-13T16:55:25.830166Z",
     "start_time": "2022-07-13T16:55:25.825599Z"
    }
   },
   "outputs": [
    {
     "data": {
      "text/plain": [
       "['__abstractmethods__',\n",
       " '__class__',\n",
       " '__delattr__',\n",
       " '__dict__',\n",
       " '__dir__',\n",
       " '__doc__',\n",
       " '__eq__',\n",
       " '__format__',\n",
       " '__ge__',\n",
       " '__getattribute__',\n",
       " '__getstate__',\n",
       " '__gt__',\n",
       " '__hash__',\n",
       " '__init__',\n",
       " '__init_subclass__',\n",
       " '__le__',\n",
       " '__lt__',\n",
       " '__module__',\n",
       " '__ne__',\n",
       " '__new__',\n",
       " '__reduce__',\n",
       " '__reduce_ex__',\n",
       " '__repr__',\n",
       " '__setattr__',\n",
       " '__setstate__',\n",
       " '__sizeof__',\n",
       " '__str__',\n",
       " '__subclasshook__',\n",
       " '__weakref__',\n",
       " '_abc_impl',\n",
       " '_check_algorithm_metric',\n",
       " '_check_feature_names',\n",
       " '_check_n_features',\n",
       " '_fit',\n",
       " '_fit_X',\n",
       " '_fit_method',\n",
       " '_get_param_names',\n",
       " '_get_tags',\n",
       " '_kneighbors_reduce_func',\n",
       " '_more_tags',\n",
       " '_radius_neighbors_reduce_func',\n",
       " '_repr_html_',\n",
       " '_repr_html_inner',\n",
       " '_repr_mimebundle_',\n",
       " '_tree',\n",
       " '_validate_data',\n",
       " 'algorithm',\n",
       " 'effective_metric_',\n",
       " 'effective_metric_params_',\n",
       " 'fit',\n",
       " 'get_params',\n",
       " 'kneighbors',\n",
       " 'kneighbors_graph',\n",
       " 'leaf_size',\n",
       " 'metric',\n",
       " 'metric_params',\n",
       " 'n_features_in_',\n",
       " 'n_jobs',\n",
       " 'n_neighbors',\n",
       " 'n_samples_fit_',\n",
       " 'p',\n",
       " 'radius',\n",
       " 'radius_neighbors',\n",
       " 'radius_neighbors_graph',\n",
       " 'set_params']"
      ]
     },
     "execution_count": 56,
     "metadata": {},
     "output_type": "execute_result"
    }
   ],
   "source": [
    "dir(model_knn)"
   ]
  },
  {
   "cell_type": "code",
   "execution_count": 64,
   "metadata": {
    "ExecuteTime": {
     "end_time": "2022-07-13T17:09:26.230222Z",
     "start_time": "2022-07-13T17:09:26.226035Z"
    }
   },
   "outputs": [
    {
     "data": {
      "text/plain": [
       "5"
      ]
     },
     "execution_count": 64,
     "metadata": {},
     "output_type": "execute_result"
    }
   ],
   "source": [
    "model_knn.n_neighbors"
   ]
  },
  {
   "cell_type": "markdown",
   "metadata": {},
   "source": [
    "## one-vs-rest"
   ]
  },
  {
   "cell_type": "code",
   "execution_count": 30,
   "metadata": {
    "ExecuteTime": {
     "end_time": "2022-07-13T16:35:28.562825Z",
     "start_time": "2022-07-13T16:35:28.559846Z"
    }
   },
   "outputs": [],
   "source": [
    "def transform2(x):\n",
    "    sc = StandardScaler()\n",
    "    x_ = sc.fit_transform(x)\n",
    "    \n",
    "    return x_"
   ]
  },
  {
   "cell_type": "markdown",
   "metadata": {},
   "source": [
    "## radius_neighbors Approach"
   ]
  },
  {
   "cell_type": "code",
   "execution_count": 204,
   "metadata": {
    "ExecuteTime": {
     "end_time": "2022-07-14T15:56:50.157632Z",
     "start_time": "2022-07-14T15:56:48.852063Z"
    }
   },
   "outputs": [
    {
     "name": "stdout",
     "output_type": "stream",
     "text": [
      "R: 0.1\n",
      "[array([], dtype=float64)] [array([], dtype=int64)]\n",
      "\n",
      "R: 0.2\n",
      "[array([], dtype=float64)] [array([], dtype=int64)]\n",
      "\n",
      "R: 0.30000000000000004\n",
      "[array([], dtype=float64)] [array([], dtype=int64)]\n",
      "\n",
      "R: 0.4\n",
      "[array([], dtype=float64)] [array([], dtype=int64)]\n",
      "\n",
      "R: 0.5\n",
      "[array([], dtype=float64)] [array([], dtype=int64)]\n",
      "\n",
      "R: 0.6\n",
      "[array([], dtype=float64)] [array([], dtype=int64)]\n",
      "\n",
      "R: 0.7000000000000001\n",
      "[array([], dtype=float64)] [array([], dtype=int64)]\n",
      "\n",
      "R: 0.8\n",
      "[array([], dtype=float64)] [array([], dtype=int64)]\n",
      "\n",
      "R: 0.9\n",
      "[array([], dtype=float64)] [array([], dtype=int64)]\n",
      "\n",
      "R: 1.0\n",
      "[array([1., 1., 1., 1., 1., 1., 1., 1., 1., 1., 1., 1., 1., 1., 1., 1., 1.,\n",
      "        1., 1., 1., 1., 1., 1., 1., 1., 1., 1., 1., 1., 1., 1., 1., 1., 1.,\n",
      "        1., 1., 1., 1., 1., 1., 1., 1., 1., 1., 1., 1., 1., 1., 1., 1., 1.,\n",
      "        1., 1., 1., 1., 1., 1., 1., 1., 1., 1., 1., 1., 1., 1., 1., 1., 1.,\n",
      "        1., 1., 1., 1., 1., 1., 1., 1., 1., 1., 1., 1., 1., 1., 1., 1., 1.,\n",
      "        1., 1., 1., 1., 1., 1.])                                           ] [array([ 0,  1,  2,  3,  4,  5,  6,  7,  8,  9, 10, 11, 12, 13, 14, 15, 16,\n",
      "        17, 18, 19, 20, 21, 22, 23, 24, 25, 26, 27, 28, 29, 30, 31, 32, 33,\n",
      "        34, 35, 36, 37, 38, 39, 40, 41, 42, 43, 44, 45, 46, 47, 48, 49, 50,\n",
      "        51, 52, 53, 54, 55, 56, 57, 58, 59, 60, 61, 62, 63, 64, 65, 66, 67,\n",
      "        68, 69, 70, 71, 72, 73, 74, 75, 76, 77, 78, 79, 80, 81, 82, 83, 84,\n",
      "        85, 86, 87, 88, 89, 90])                                           ]\n",
      "\n"
     ]
    }
   ],
   "source": [
    "r = np.arange(0.1, 1.1, 0.1)\n",
    "\n",
    "for i in r:\n",
    "    test_product = transform2(retrieve_stored_features(RAW_PIXEL_DIR, \"Black Sugar Boba MIlk Tea\").reshape(1, -1))\n",
    "\n",
    "    distances, indices = model_knn.radius_neighbors(test_product, radius=i)\n",
    "\n",
    "    print(\"R: {}\".format(i))\n",
    "    print(distances, indices, end=\"\\n\\n\")\n",
    "\n",
    "    \n",
    "    \n",
    "    \n",
    "    \n",
    "    \n",
    "# for i in range(len(indices)):\n",
    "#     idx = np.where(distances[i,]<1.9)[i]\n",
    "# #     print(files[idx])\n",
    "#     print(idx)"
   ]
  },
  {
   "cell_type": "markdown",
   "metadata": {},
   "source": [
    "### Multiple products"
   ]
  },
  {
   "cell_type": "code",
   "execution_count": 169,
   "metadata": {
    "ExecuteTime": {
     "end_time": "2022-07-14T15:20:10.897293Z",
     "start_time": "2022-07-14T15:20:10.806611Z"
    }
   },
   "outputs": [
    {
     "name": "stdout",
     "output_type": "stream",
     "text": [
      "Distance: \n",
      "[array([1.53210777e-14]) array([0.]) array([2.33146835e-15])\n",
      " array([1.4321877e-14]) array([3.67483821e-14, 1.26507856e-02])\n",
      " array([0.])]\n",
      "\n",
      "Indices: \n",
      "[array([3]) array([4]) array([5]) array([6]) array([ 7, 85]) array([8])]\n"
     ]
    }
   ],
   "source": [
    "distances, indices = model_knn.radius_neighbors(x[3:9], radius=0.1)\n",
    "\n",
    "print(\"Distance: \", end=\"\\n\")\n",
    "print(distances, end=\"\\n\\n\")\n",
    "print(\"Indices: \")\n",
    "print(indices)\n",
    "\n",
    "# for i in range(len(distances)):\n",
    "#     idx = np.where(distances[i,]<0.8)[0] \n",
    "#     print(files[idx])\n",
    "#     print(indices)\n",
    "#     print(idx)"
   ]
  },
  {
   "cell_type": "markdown",
   "metadata": {},
   "source": [
    "### All products"
   ]
  },
  {
   "cell_type": "code",
   "execution_count": 164,
   "metadata": {
    "ExecuteTime": {
     "end_time": "2022-07-14T15:18:49.608701Z",
     "start_time": "2022-07-14T15:18:49.470393Z"
    }
   },
   "outputs": [
    {
     "name": "stdout",
     "output_type": "stream",
     "text": [
      "[array([0.]) array([0.]) array([0.        , 0.09553109]) array([0.])\n",
      " array([0.]) array([0.]) array([0.]) array([0.        , 0.01265079])\n",
      " array([0.]) array([0.]) array([0.]) array([0.]) array([0.]) array([0.])\n",
      " array([0.]) array([0.]) array([0.]) array([0.]) array([0.]) array([0.])\n",
      " array([0.]) array([0.        , 0.05661112])\n",
      " array([0.        , 0.06423271]) array([0.]) array([0.]) array([0.])\n",
      " array([0.]) array([0.]) array([0.]) array([0.]) array([0.]) array([0.])\n",
      " array([0.]) array([0.]) array([0.]) array([0.])\n",
      " array([0.05661112, 0.        ]) array([0.]) array([0.]) array([0.])\n",
      " array([0.]) array([0.]) array([0.]) array([0.]) array([0.]) array([0.])\n",
      " array([0.]) array([0.]) array([0.]) array([0.]) array([0.]) array([0.])\n",
      " array([0.]) array([0.]) array([0.]) array([0.        , 0.01477863])\n",
      " array([0.]) array([0.]) array([0.]) array([0.        , 0.09002082])\n",
      " array([0.]) array([0.]) array([0.]) array([0.]) array([0.]) array([0.])\n",
      " array([0.]) array([0.]) array([0.]) array([0.09002082, 0.        ])\n",
      " array([0.]) array([0.06423271, 0.        ]) array([0.]) array([0.])\n",
      " array([0.]) array([0.]) array([0.]) array([0.01477863, 0.        ])\n",
      " array([0.]) array([0.]) array([0.]) array([0.]) array([0.]) array([0.])\n",
      " array([0.]) array([0.01265079, 0.        ])\n",
      " array([0.09553109, 0.        ]) array([0.]) array([0.]) array([0.])\n",
      " array([0.])] [array([0]) array([1]) array([ 2, 86]) array([3]) array([4]) array([5])\n",
      " array([6]) array([ 7, 85]) array([8]) array([9]) array([10]) array([11])\n",
      " array([12]) array([13]) array([14]) array([15]) array([16]) array([17])\n",
      " array([18]) array([19]) array([20]) array([21, 36]) array([22, 71])\n",
      " array([23]) array([24]) array([25]) array([26]) array([27]) array([28])\n",
      " array([29]) array([30]) array([31]) array([32]) array([33]) array([34])\n",
      " array([35]) array([21, 36]) array([37]) array([38]) array([39])\n",
      " array([40]) array([41]) array([42]) array([43]) array([44]) array([45])\n",
      " array([46]) array([47]) array([48]) array([49]) array([50]) array([51])\n",
      " array([52]) array([53]) array([54]) array([55, 77]) array([56])\n",
      " array([57]) array([58]) array([59, 69]) array([60]) array([61])\n",
      " array([62]) array([63]) array([64]) array([65]) array([66]) array([67])\n",
      " array([68]) array([59, 69]) array([70]) array([22, 71]) array([72])\n",
      " array([73]) array([74]) array([75]) array([76]) array([55, 77])\n",
      " array([78]) array([79]) array([80]) array([81]) array([82]) array([83])\n",
      " array([84]) array([ 7, 85]) array([ 2, 86]) array([87]) array([88])\n",
      " array([89]) array([90])]\n"
     ]
    }
   ],
   "source": [
    "distances, indices = model_knn.radius_neighbors(x, radius=0.1)\n",
    "\n",
    "print(distances, indices)\n",
    "\n",
    "# for i in range(len(distances)-1):\n",
    "#     print(distances[i], indices[i])\n",
    "#     if distances.flatten()[i] == 0:\n",
    "#         print(\"Recommend: {} with distance {}\".format(files[indices[0][i]].split(\".\")[0], distances.flatten()[i]))\n",
    "#     else:\n",
    "#         print(\"{}: \\t {} \\t\\t with distance {}\".format(i, files[indices[0][i]].split(\".\")[0], distances.flatten()[i]))"
   ]
  },
  {
   "cell_type": "markdown",
   "metadata": {},
   "source": [
    "## kneighbors approach"
   ]
  },
  {
   "cell_type": "markdown",
   "metadata": {},
   "source": [
    "### Single product"
   ]
  },
  {
   "cell_type": "code",
   "execution_count": 113,
   "metadata": {
    "ExecuteTime": {
     "end_time": "2022-07-14T03:52:54.652726Z",
     "start_time": "2022-07-14T03:52:54.566754Z"
    }
   },
   "outputs": [
    {
     "name": "stdout",
     "output_type": "stream",
     "text": [
      "0: Red Bean Almond Pudding with distance 1.0\n"
     ]
    }
   ],
   "source": [
    "test_product = transform2(retrieve_stored_features(RAW_PIXEL_DIR, \"Black Sugar Boba MIlk Tea\").reshape(1, -1))\n",
    "\n",
    "distances, indices = model_knn.kneighbors(test_product, n_neighbors=9)\n",
    "\n",
    "for i in range(len(distances)):\n",
    "#     print(distances[i], indices[i])\n",
    "#     if i == 0:\n",
    "#         print(\"Recommend: {} with distance {}\".format(files[i].split(\".\")[0], distances.flatten()[i]))\n",
    "#     else:\n",
    "    print(\"{}: {} with distance {}\".format(i, files[indices[0][i]].split(\".\")[0], distances.flatten()[i]))"
   ]
  },
  {
   "cell_type": "markdown",
   "metadata": {},
   "source": [
    "### Multiple products"
   ]
  },
  {
   "cell_type": "code",
   "execution_count": 119,
   "metadata": {
    "ExecuteTime": {
     "end_time": "2022-07-14T03:57:14.806703Z",
     "start_time": "2022-07-14T03:57:14.723144Z"
    }
   },
   "outputs": [
    {
     "name": "stdout",
     "output_type": "stream",
     "text": [
      "0: Pudding _ Q Mochi Milk Shaved Ice with distance \t\t 1.532107773982716e-14\n",
      "1: Q Mochi Milk Shaved Ice with distance \t\t 0.25772779868722306\n",
      "2: Strawberry Milk Shaved Ice with distance \t\t 0.45424211313098184\n",
      "3: Red Bean Milk Shaved Ice with distance \t\t 0.5740652263182903\n",
      "4: Strawberry Smoothie with distance \t\t 0.6026677620544814\n"
     ]
    }
   ],
   "source": [
    "distances, indices = model_knn.kneighbors(x[3:9])\n",
    "\n",
    "for i in range(len(distances)-1):\n",
    "#     print(distances[i], indices[i])\n",
    "#     if i == 0:\n",
    "#         print(\"Recommend: {} with distance {}\".format(files[i].split(\".\")[0], distances.flatten()[i]))\n",
    "#     else:\n",
    "#         print(\"{}: \\t {} \\t\\t with distance {}\".format(i, files[i].split(\".\")[0], distances.flatten()[i]))\n",
    "    print(\"{}: {} with distance \\t\\t {}\".format(i, files[indices[0][i]].split(\".\")[0], distances.flatten()[i]))"
   ]
  },
  {
   "cell_type": "markdown",
   "metadata": {},
   "source": [
    "### All products"
   ]
  },
  {
   "cell_type": "code",
   "execution_count": 125,
   "metadata": {
    "ExecuteTime": {
     "end_time": "2022-07-14T15:01:13.647859Z",
     "start_time": "2022-07-14T15:01:13.502462Z"
    }
   },
   "outputs": [
    {
     "name": "stdout",
     "output_type": "stream",
     "text": [
      "[0.         0.47086725 0.55221346 0.67114748 0.68603384] [ 0 52 90 43 62]\n",
      "[0.         0.439676   0.45612076 0.53702196 0.65741782] [ 1 68 32 53 22]\n",
      "[0.         0.09553109 0.10549497 0.10999224 0.11267963] [ 2 86 22 71 76]\n",
      "[0.         0.2577278  0.45424211 0.57406523 0.60266776] [ 3 17 41 50 44]\n",
      "[0.         0.4205541  0.4714414  0.7781678  0.82731105] [ 4 13 58 46 50]\n",
      "[0.         0.49658358 0.55527263 0.64527162 0.6680044 ] [ 5 47 66 11 20]\n",
      "[0.         0.60926289 0.62894601 0.63661872 0.72323505] [ 6 27 83 75 72]\n",
      "[0.         0.01265079 0.19725428 0.26146803 0.27303828] [ 7 85 19 88 43]\n",
      "[0.         0.1434542  0.19971846 0.24201931 0.27368774] [ 8 30 70 45 37]\n",
      "[0.         0.55295966 0.63431483 0.68205877 0.70608582] [ 9 14 31 64 65]\n",
      "[0.         0.5727443  0.58341849 0.65331404 0.65604736] [10 41 23 50 17]\n",
      "[0.         0.37009044 0.3790708  0.38479476 0.39375839] [11 84 47 81 20]\n",
      "[0.         0.26751945 0.28816801 0.31536333 0.32373524] [12 67 77 55 88]\n",
      "[0.         0.36466598 0.4205541  0.69112318 0.75860039] [13 58  4 46 29]\n",
      "[0.         0.3471712  0.55295966 0.64599199 0.6570127 ] [14 31  9 57 54]\n",
      "[0.         0.16348192 0.28293816 0.29308952 0.36037056] [15 45 39 42 74]\n",
      "[0.         0.23188437 0.28646347 0.29230233 0.3595157 ] [16 26 33 45 60]\n",
      "[0.         0.2577278  0.47372189 0.54757881 0.59883334] [17  3 41 50 23]\n",
      "[0.         0.19461548 0.28460616 0.30757982 0.33976311] [18 69 84 59 44]\n",
      "[0.         0.18186517 0.19725428 0.32157046 0.33594652] [19 85  7 43 67]\n",
      "[0.         0.26337666 0.39375839 0.43626681 0.45946291] [20 47 11 88 84]\n",
      "[0.         0.05661112 0.16718163 0.18051718 0.24569668] [21 36 67 77 55]\n",
      "[0.         0.06423271 0.10549497 0.12422029 0.14717102] [22 71  2 76 86]\n",
      "[0.         0.52711671 0.58341849 0.59883334 0.6051987 ] [23 41 10 17  3]\n",
      "[0.         0.7617531  0.76426601 0.77898265 0.7830967 ] [24 59 29 48 69]\n",
      "[0.         0.32289113 0.34744867 0.35415196 0.42923324] [25 48 59 69 82]\n",
      "[0.         0.23188437 0.28502009 0.32797112 0.39974481] [26 16 40 33 15]\n",
      "[0.         0.46302365 0.60926289 0.69753426 0.7753659 ] [27 75  6 52  0]\n",
      "[0.         0.60058367 0.66740324 0.66828216 0.69007718] [28 79 48 35 22]\n",
      "[0.         0.4229282  0.56797588 0.58596009 0.5878065 ] [29 48 25 82 69]\n",
      "[0.         0.1434542  0.18564167 0.25244762 0.2983046 ] [30  8 70 45 74]\n",
      "[0.         0.3471712  0.46861614 0.49272428 0.52485431] [31 14 57 54 64]\n",
      "[0.         0.29902914 0.31483368 0.45612076 0.75249631] [32 68 53  1 35]\n",
      "[0.         0.28646347 0.29523825 0.32797112 0.37648635] [33 16 60 26 42]\n",
      "[0.         0.18375963 0.27423523 0.31168216 0.31594607] [34 37  8 74 30]\n",
      "[0.         0.13388123 0.14840443 0.17574326 0.17686106] [35 71 22 63  2]\n",
      "[0.         0.05661112 0.17187019 0.17749602 0.23662319] [36 21 67 77 55]\n",
      "[0.         0.18375963 0.27368774 0.36642552 0.3783737 ] [37 34  8 30 74]\n",
      "[0.         0.53084708 0.62126646 0.66988322 0.69022647] [38 31 64 57 80]\n",
      "[0.         0.27224014 0.28293816 0.29298809 0.30634282] [39 45 15  8 74]\n",
      "[0.         0.27443018 0.28502009 0.34301718 0.42738503] [40 44 26 69 48]\n",
      "[0.         0.45424211 0.47372189 0.52711671 0.5727443 ] [41  3 17 23 10]\n",
      "[0.         0.24108507 0.29308952 0.35833669 0.37648635] [42 60 15 45 33]\n",
      "[0.         0.19821791 0.27303828 0.32157046 0.33993648] [43 85  7 19 67]\n",
      "[0.         0.26521966 0.27443018 0.33976311 0.39176016] [44 69 40 18 59]\n",
      "[0.         0.16348192 0.24201931 0.25244762 0.26603003] [45 15  8 30 70]\n",
      "[0.         0.65405254 0.65906278 0.68581416 0.69112318] [46 61 52 58 13]\n",
      "[0.         0.26337666 0.34017465 0.3790708  0.4923211 ] [47 20 84 11 18]\n",
      "[0.         0.32289113 0.3288356  0.36891332 0.37211186] [48 25 69 59 82]\n",
      "[0.         0.28478561 0.3033323  0.34064049 0.47581106] [49  7 85 19 43]\n",
      "[0.         0.54757881 0.57406523 0.60890162 0.65331404] [50 17  3 41 10]\n",
      "[0.         0.34680847 0.43933392 0.52091215 0.62557579] [51 66 81 82 43]\n",
      "[0.         0.47086725 0.58669601 0.60240213 0.60713821] [52  0 75 67 90]\n",
      "[0.         0.31483368 0.42487485 0.53702196 0.81859194] [53 32 68  1 22]\n",
      "[0.         0.24988824 0.37437516 0.47052316 0.49272428] [54 57 64 44 31]\n",
      "[0.         0.01477863 0.22504998 0.23662319 0.24569668] [55 77 67 36 21]\n",
      "[0.         0.62782291 0.63031463 0.6593985  0.69075234] [56 64 57 54 44]\n",
      "[0.         0.24988824 0.39773989 0.46861614 0.6042232 ] [57 54 64 31 83]\n",
      "[0.         0.36466598 0.4714414  0.68581416 0.75772788] [58 13  4 46 43]\n",
      "[0.         0.09002082 0.27475967 0.30757982 0.33353622] [59 69 82 18 84]\n",
      "[0.         0.24108507 0.29523825 0.3595157  0.36038848] [60 42 33 16 45]\n",
      "[0.         0.65405254 0.70545394 0.75822762 0.77645113] [61 46 90 19 52]\n",
      "[0.         0.56740247 0.64149948 0.68603384 0.73836173] [62 65 64  0 72]\n",
      "[0.         0.12197381 0.16181116 0.17574326 0.1904289 ] [63 76 86 35  2]\n",
      "[0.         0.37437516 0.39773989 0.50793217 0.52485431] [64 54 57 83 31]\n",
      "[0.         0.56740247 0.69796055 0.70127682 0.70608582] [65 62 80 57  9]\n",
      "[0.         0.34680847 0.49369718 0.50629191 0.55527263] [66 51 81 25  5]\n",
      "[0.         0.16718163 0.16731709 0.17187019 0.22504998] [67 21 77 36 55]\n",
      "[0.         0.29902914 0.42487485 0.439676   0.73067692] [68 32 53  1 40]\n",
      "[0.         0.09002082 0.19461548 0.26521966 0.30486523] [69 59 18 44 82]\n",
      "[0.         0.18564167 0.19971846 0.26603003 0.3049533 ] [70 30  8 45 74]\n",
      "[0.         0.06423271 0.10999224 0.12272295 0.13388123] [71 22  2 76 35]\n",
      "[0.         0.62007428 0.65361743 0.65669311 0.69203055] [72 83 31 64 73]\n",
      "[0.         0.69203055 0.72945496 0.78322175 0.79071039] [73 72  0 90 80]\n",
      "[0.         0.26779029 0.29316855 0.2983046  0.3049533 ] [74 45  8 30 70]\n",
      "[0.         0.46302365 0.58669601 0.63661872 0.65703202] [75 27 52  6 67]\n",
      "[0.         0.10009603 0.11267963 0.12197381 0.12272295] [76 86  2 63 71]\n",
      "[0.         0.01477863 0.16731709 0.17749602 0.18051718] [77 55 67 36 21]\n",
      "[0.         0.43166542 0.61121479 0.61395477 0.61488895] [78 48 40 82 15]\n",
      "[0.         0.60058367 0.70561469 0.73632674 0.77291131] [79 28 48 25 29]\n",
      "[0.         0.59353026 0.69022647 0.69796055 0.70171433] [80 31 38 65  0]\n",
      "[0.         0.38479476 0.38498496 0.43933392 0.46556211] [81 11 59 51 84]\n",
      "[0.         0.27475967 0.30486523 0.37211186 0.42923324] [82 59 69 48 25]\n",
      "[0.         0.50793217 0.54687375 0.6042232  0.62007428] [83 64 54 57 72]\n",
      "[0.         0.28460616 0.33353622 0.34017465 0.34940454] [84 18 59 47 69]\n",
      "[0.         0.01265079 0.18186517 0.19821791 0.26498904] [85  7 19 43 88]\n",
      "[0.         0.09553109 0.10009603 0.14687499 0.14717102] [86  2 76 71 22]\n",
      "[0.         0.46663772 0.51679514 0.51719918 0.51927309] [87 39 74 70 45]\n",
      "[0.         0.26146803 0.26150437 0.26498904 0.26576193] [88  7 77 85 55]\n",
      "[0.         0.43547249 0.43772305 0.45160232 0.46428625] [89 88 77 67 20]\n"
     ]
    }
   ],
   "source": [
    "distances, indices = model_knn.kneighbors(x)\n",
    "\n",
    "for i in range(len(distances)-1):\n",
    "    print(distances[i], indices[i])\n",
    "#     if distances.flatten()[i] == 0:\n",
    "#         print(\"Recommend: {} with distance {}\".format(files[indices[0][i]].split(\".\")[0], distances.flatten()[i]))\n",
    "#     else:\n",
    "#         print(\"{}: \\t {} \\t\\t with distance {}\".format(i, files[indices[0][i]].split(\".\")[0], distances.flatten()[i]))"
   ]
  },
  {
   "cell_type": "code",
   "execution_count": null,
   "metadata": {},
   "outputs": [],
   "source": []
  }
 ],
 "metadata": {
  "accelerator": "GPU",
  "colab": {
   "collapsed_sections": [],
   "name": "03__SIFT_sample.ipynb",
   "provenance": [],
   "toc_visible": true
  },
  "gpuClass": "standard",
  "kernelspec": {
   "display_name": "ml",
   "language": "python",
   "name": "ml"
  },
  "language_info": {
   "codemirror_mode": {
    "name": "ipython",
    "version": 3
   },
   "file_extension": ".py",
   "mimetype": "text/x-python",
   "name": "python",
   "nbconvert_exporter": "python",
   "pygments_lexer": "ipython3",
   "version": "3.10.5"
  },
  "toc": {
   "base_numbering": 1,
   "nav_menu": {
    "height": "255px",
    "width": "318px"
   },
   "number_sections": true,
   "sideBar": true,
   "skip_h1_title": false,
   "title_cell": "Table of Contents",
   "title_sidebar": "Contents",
   "toc_cell": true,
   "toc_position": {
    "height": "calc(100% - 180px)",
    "left": "10px",
    "top": "150px",
    "width": "265px"
   },
   "toc_section_display": true,
   "toc_window_display": true
  }
 },
 "nbformat": 4,
 "nbformat_minor": 1
}
