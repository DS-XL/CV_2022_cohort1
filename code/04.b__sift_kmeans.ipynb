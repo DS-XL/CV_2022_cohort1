{
 "cells": [
  {
   "cell_type": "markdown",
   "metadata": {
    "toc": true
   },
   "source": [
    "<h1>Table of Contents<span class=\"tocSkip\"></span></h1>\n",
    "<div class=\"toc\"><ul class=\"toc-item\"><li><span><a href=\"#Setup\" data-toc-modified-id=\"Setup-1\"><span class=\"toc-item-num\">1&nbsp;&nbsp;</span>Setup</a></span></li><li><span><a href=\"#Preprocessing\" data-toc-modified-id=\"Preprocessing-2\"><span class=\"toc-item-num\">2&nbsp;&nbsp;</span>Preprocessing</a></span><ul class=\"toc-item\"><li><span><a href=\"#Retrieve-local-descriptor\" data-toc-modified-id=\"Retrieve-local-descriptor-2.1\"><span class=\"toc-item-num\">2.1&nbsp;&nbsp;</span>Retrieve local descriptor</a></span></li><li><span><a href=\"#Segmentation-(menus)\" data-toc-modified-id=\"Segmentation-(menus)-2.2\"><span class=\"toc-item-num\">2.2&nbsp;&nbsp;</span>Segmentation (menus)</a></span><ul class=\"toc-item\"><li><span><a href=\"#Food-Menu-Info\" data-toc-modified-id=\"Food-Menu-Info-2.2.1\"><span class=\"toc-item-num\">2.2.1&nbsp;&nbsp;</span>Food Menu Info</a></span></li><li><span><a href=\"#Drink-Menu-Info\" data-toc-modified-id=\"Drink-Menu-Info-2.2.2\"><span class=\"toc-item-num\">2.2.2&nbsp;&nbsp;</span>Drink Menu Info</a></span></li></ul></li><li><span><a href=\"#Map-how-many-images-in-the-category-we-have\" data-toc-modified-id=\"Map-how-many-images-in-the-category-we-have-2.3\"><span class=\"toc-item-num\">2.3&nbsp;&nbsp;</span>Map how many images in the category we have</a></span><ul class=\"toc-item\"><li><span><a href=\"#Drink-Menu\" data-toc-modified-id=\"Drink-Menu-2.3.1\"><span class=\"toc-item-num\">2.3.1&nbsp;&nbsp;</span>Drink Menu</a></span></li></ul></li><li><span><a href=\"#Image-Augmentation\" data-toc-modified-id=\"Image-Augmentation-2.4\"><span class=\"toc-item-num\">2.4&nbsp;&nbsp;</span>Image Augmentation</a></span></li></ul></li><li><span><a href=\"#Feature-Engineering\" data-toc-modified-id=\"Feature-Engineering-3\"><span class=\"toc-item-num\">3&nbsp;&nbsp;</span>Feature Engineering</a></span><ul class=\"toc-item\"><li><span><a href=\"#SIFT\" data-toc-modified-id=\"SIFT-3.1\"><span class=\"toc-item-num\">3.1&nbsp;&nbsp;</span>SIFT</a></span></li></ul></li><li><span><a href=\"#Model\" data-toc-modified-id=\"Model-4\"><span class=\"toc-item-num\">4&nbsp;&nbsp;</span>Model</a></span><ul class=\"toc-item\"><li><span><a href=\"#The-elbow-method\" data-toc-modified-id=\"The-elbow-method-4.1\"><span class=\"toc-item-num\">4.1&nbsp;&nbsp;</span>The elbow method</a></span></li></ul></li><li><span><a href=\"#Feature-matching\" data-toc-modified-id=\"Feature-matching-5\"><span class=\"toc-item-num\">5&nbsp;&nbsp;</span>Feature matching</a></span></li></ul></div>"
   ]
  },
  {
   "cell_type": "markdown",
   "metadata": {
    "id": "101cYVFdK8N6"
   },
   "source": [
    "# Setup"
   ]
  },
  {
   "cell_type": "code",
   "execution_count": null,
   "metadata": {
    "ExecuteTime": {
     "end_time": "2022-06-30T01:37:18.784054Z",
     "start_time": "2022-06-30T01:37:18.671353Z"
    }
   },
   "outputs": [],
   "source": [
    "!/home/hui/anaconda3/envs/ml/lib/python3.10/site-packages/pip -V"
   ]
  },
  {
   "cell_type": "code",
   "execution_count": null,
   "metadata": {
    "ExecuteTime": {
     "end_time": "2022-06-30T01:37:19.790007Z",
     "start_time": "2022-06-30T01:37:19.249194Z"
    },
    "colab": {
     "base_uri": "https://localhost:8080/"
    },
    "id": "UO7FbXMSE03v",
    "outputId": "bbab0a2b-4bff-468c-a9ae-b1dba0ecaf18"
   },
   "outputs": [],
   "source": [
    "# setup to see the execution time in each cell\n",
    "\n",
    "!/home/hui/anaconda3/envs/ml/lib/python3.10/site-packages/pip install ipython-autotime\n",
    "!/home/hui/anaconda3/envs/ml/lib/python3.10/site-packages/pip install directory_structure\n",
    "!/home/hui/anaconda3/envs/ml/lib/python3.10/site-packages/pip install handcalcs\n",
    "!/home/hui/anaconda3/envs/ml/lib/python3.10/site-packages/pip install pytz\n",
    "!/home/hui/anaconda3/envs/ml/lib/python3.10/site-packages/pip install skimage\n",
    "# !/home/hui/anaconda3/envs/ml/lib/python3.10/site-packages/pip install opencv-contrib-python==4.4.0.44\n",
    "# %load_ext autotime"
   ]
  },
  {
   "cell_type": "code",
   "execution_count": 29,
   "metadata": {
    "ExecuteTime": {
     "end_time": "2022-07-06T00:02:44.746255Z",
     "start_time": "2022-07-06T00:02:44.676825Z"
    },
    "colab": {
     "base_uri": "https://localhost:8080/"
    },
    "id": "e64TGJZPHJaJ",
    "outputId": "404be46e-c88f-47aa-adaf-5ed6356ae13b"
   },
   "outputs": [],
   "source": [
    "import pandas as pd\n",
    "import os\n",
    "import random\n",
    "import glob\n",
    "import PIL\n",
    "from PIL import Image\n",
    "import numpy as np\n",
    "from numpy import mean\n",
    "# import cupy as cp\n",
    "import matplotlib.pyplot as plt\n",
    "import matplotlib.image as mpimg\n",
    "import cv2\n",
    "# from google.colab.patches import cv2_imshow\n",
    "# from directory_structure import Tree\n",
    "import shutil\n",
    "# import handcalcs.render\n",
    "import pickle\n",
    "\n",
    "import matplotlib.pyplot as plt\n",
    "import plotly.express as px\n",
    "\n",
    "from sklearn.decomposition import PCA\n",
    "from sklearn.cluster import KMeans\n",
    "# from cuml.cluster import KMeans"
   ]
  },
  {
   "cell_type": "code",
   "execution_count": 2,
   "metadata": {
    "ExecuteTime": {
     "end_time": "2022-07-05T23:40:41.403271Z",
     "start_time": "2022-07-05T23:40:41.400712Z"
    },
    "colab": {
     "base_uri": "https://localhost:8080/"
    },
    "id": "GSmlrTFFDQcG",
    "outputId": "1f8edcc0-98c9-4522-c9cc-e68c7c066c72"
   },
   "outputs": [
    {
     "name": "stdout",
     "output_type": "stream",
     "text": [
      "4.5.5\n"
     ]
    }
   ],
   "source": [
    "print (cv2.__version__)"
   ]
  },
  {
   "cell_type": "markdown",
   "metadata": {
    "id": "Z2l4xfg5K-G5"
   },
   "source": [
    "# Preprocessing"
   ]
  },
  {
   "cell_type": "markdown",
   "metadata": {},
   "source": [
    "Use this if you are using Google Colab."
   ]
  },
  {
   "cell_type": "code",
   "execution_count": 3,
   "metadata": {
    "ExecuteTime": {
     "end_time": "2022-07-05T23:40:42.188791Z",
     "start_time": "2022-07-05T23:40:42.186550Z"
    },
    "colab": {
     "base_uri": "https://localhost:8080/"
    },
    "id": "lfdjbNrKKNPL",
    "outputId": "a782f00f-5293-4e68-ce36-567618fc3cda"
   },
   "outputs": [],
   "source": [
    "# from google.colab import drive\n",
    "# drive.mount('/content/drive')"
   ]
  },
  {
   "cell_type": "code",
   "execution_count": 4,
   "metadata": {
    "ExecuteTime": {
     "end_time": "2022-07-05T23:40:42.637002Z",
     "start_time": "2022-07-05T23:40:42.634358Z"
    },
    "colab": {
     "base_uri": "https://localhost:8080/"
    },
    "id": "NbZ8Rn6_KlfN",
    "outputId": "bb1282bb-e5c4-467d-bdba-64622c586d2e"
   },
   "outputs": [],
   "source": [
    "# replace the dir if needed\n",
    "\n",
    "ROOT_DIR = \"/home/hui/Projects/g5/datasets\"  # Henry's dir\n",
    "# ROOT_DIR = \"/content/drive/MyDrive/Project - G5/Dataset/\"    #Lejia's dir\n",
    "# ROOT_DIR = \"/content/drive/MyDrive/Project - G5/Dataset/\" #Nan's dir\n",
    "# ROOT_DIR = \"/content/drive/MyDrive/Project - G5/Dataset\"\n",
    "\n",
    "SAVE_DE_DIR = ROOT_DIR + \"/descriptors\"\n",
    "RESIZE_DIR = ROOT_DIR + \"/augmentation/resize\"\n",
    "\n",
    "MENU_FOOD = ROOT_DIR + \"/MeetFresh_menu_food_2.csv\"\n",
    "MENU_DRINK = ROOT_DIR + \"/MeetFresh_menu_drink_2.csv\""
   ]
  },
  {
   "cell_type": "markdown",
   "metadata": {},
   "source": [
    "## Retrieve local descriptor"
   ]
  },
  {
   "cell_type": "code",
   "execution_count": 5,
   "metadata": {
    "ExecuteTime": {
     "end_time": "2022-07-05T23:40:43.853210Z",
     "start_time": "2022-07-05T23:40:43.850041Z"
    }
   },
   "outputs": [],
   "source": [
    "def retrieve_stored_descriptor(product_name: str):\n",
    "    # retrieve a stored local descriptor based on given name\n",
    "    try:\n",
    "        file_path = SAVE_DE_DIR + \"/\" + product_name + \".txt\"\n",
    "        file = open(file_path, 'rb')\n",
    "        descriptor = pickle.load(file)\n",
    "        file.close()\n",
    "        return descriptor\n",
    "    except FileNotFoundError:\n",
    "        print(\"Wrong file name or path\")\n",
    "        return None\n",
    "    except e:\n",
    "        print(\"Error due to: {}\".format(e))\n",
    "        return None"
   ]
  },
  {
   "cell_type": "markdown",
   "metadata": {},
   "source": [
    "## Segmentation (menus)"
   ]
  },
  {
   "cell_type": "code",
   "execution_count": 6,
   "metadata": {
    "ExecuteTime": {
     "end_time": "2022-07-05T23:40:45.562994Z",
     "start_time": "2022-07-05T23:40:45.554351Z"
    }
   },
   "outputs": [],
   "source": [
    "df_food = pd.read_csv(MENU_FOOD, skiprows=1)\n",
    "df_drink = pd.read_csv(MENU_DRINK, skiprows=1)"
   ]
  },
  {
   "cell_type": "code",
   "execution_count": 7,
   "metadata": {
    "ExecuteTime": {
     "end_time": "2022-07-05T23:40:50.137950Z",
     "start_time": "2022-07-05T23:40:50.135385Z"
    }
   },
   "outputs": [],
   "source": [
    "# df_drink[\"Item Name (ENG)\"] == \"Black Sugar Boba Fresh MIlk\""
   ]
  },
  {
   "cell_type": "markdown",
   "metadata": {},
   "source": [
    "### Food Menu Info"
   ]
  },
  {
   "cell_type": "code",
   "execution_count": 8,
   "metadata": {
    "ExecuteTime": {
     "end_time": "2022-07-05T23:40:51.172788Z",
     "start_time": "2022-07-05T23:40:51.165964Z"
    }
   },
   "outputs": [
    {
     "data": {
      "text/plain": [
       "Index(['Item ID', 'Menu Category', 'Item Name (CHN)', 'Item Name (ENG)', 'Hot',\n",
       "       'Cold', 'Size', 'Kcal', 'Egg Allergen', 'Peanut Allergen', 'Top Seller',\n",
       "       'Seasonal', 'Taro Balls', 'Taro Paste', 'Potaro Balls', 'Boba',\n",
       "       'Shaved Ice', 'Grass Jelly', 'Grass Jelly Shaved Ice', 'Ice Cream',\n",
       "       'Sesame Rice Balls', 'Rice Balls', 'Taro', 'Red Beans', 'Peanuts',\n",
       "       'Melon Jelly', 'Red Bean Soup', 'Mini Q', 'Grass Jelly Soup',\n",
       "       'Almond Flakes', 'Almond Pudding', 'Almond Soup', 'Caramel Pudding',\n",
       "       'Q Mochi', 'Black Sugar Boba', 'Milk Tea Sauce', 'Strawberry', 'Mango',\n",
       "       'Egg Waffle', 'Matcha Egg Waffle', 'Chocolate Egg Waffle',\n",
       "       'Chocolate Chips', 'Matcha Red Bean', 'Mixed Nuts',\n",
       "       'Chocolate Wafer Rolls', 'Chocolate Syrup'],\n",
       "      dtype='object')"
      ]
     },
     "execution_count": 8,
     "metadata": {},
     "output_type": "execute_result"
    }
   ],
   "source": [
    "df_food.columns"
   ]
  },
  {
   "cell_type": "code",
   "execution_count": 9,
   "metadata": {
    "ExecuteTime": {
     "end_time": "2022-07-05T23:40:51.610387Z",
     "start_time": "2022-07-05T23:40:51.605921Z"
    }
   },
   "outputs": [
    {
     "data": {
      "text/plain": [
       "Tofu Pudding        18\n",
       "Shaved Ice          16\n",
       "Small Bites          8\n",
       "Egg Waffle           7\n",
       "Signature Series     6\n",
       "Create Your Own      5\n",
       "Name: Menu Category, dtype: int64"
      ]
     },
     "execution_count": 9,
     "metadata": {},
     "output_type": "execute_result"
    }
   ],
   "source": [
    "df_food[\"Menu Category\"].value_counts()"
   ]
  },
  {
   "cell_type": "code",
   "execution_count": 10,
   "metadata": {
    "ExecuteTime": {
     "end_time": "2022-07-05T23:40:51.955611Z",
     "start_time": "2022-07-05T23:40:51.952460Z"
    }
   },
   "outputs": [
    {
     "data": {
      "text/plain": [
       "6"
      ]
     },
     "execution_count": 10,
     "metadata": {},
     "output_type": "execute_result"
    }
   ],
   "source": [
    "len(df_food[\"Menu Category\"].unique())"
   ]
  },
  {
   "cell_type": "markdown",
   "metadata": {},
   "source": [
    "### Drink Menu Info"
   ]
  },
  {
   "cell_type": "code",
   "execution_count": 11,
   "metadata": {
    "ExecuteTime": {
     "end_time": "2022-07-05T23:40:52.713162Z",
     "start_time": "2022-07-05T23:40:52.709931Z"
    }
   },
   "outputs": [
    {
     "data": {
      "text/plain": [
       "Index(['Item ID', 'Menu Category', 'Item Name (CHN)', 'Item Name (ENG)', 'Hot',\n",
       "       'Cold', 'Kcal', 'Full Sugar', 'Half Sugar', 'No Sugar', 'Fixed Sugar',\n",
       "       'Black Tea', 'Green Tea', 'Oolong Tea', 'Jin Xuan Oolong', 'Herbal Tea',\n",
       "       'Winter Melon Tea', 'Almond Drink', 'Fresh Milk', 'Milk', 'Boba',\n",
       "       'Taro Paste', 'Black Sugar Boba', 'Grass Jelly', 'Pudding', 'Mini Q',\n",
       "       'Lychee Jelly', 'Melon Jelly', 'Mango', 'Mixed Fruit', 'Strawberry',\n",
       "       'Fluffly Creamer', 'Lemon', 'Passion Fuit', 'Orange', 'Red Bean Soup',\n",
       "       'Hot Grass Jelly', 'Top Seller', 'Peanut'],\n",
       "      dtype='object')"
      ]
     },
     "execution_count": 11,
     "metadata": {},
     "output_type": "execute_result"
    }
   ],
   "source": [
    "df_drink.columns"
   ]
  },
  {
   "cell_type": "code",
   "execution_count": 12,
   "metadata": {
    "ExecuteTime": {
     "end_time": "2022-07-05T23:40:53.009527Z",
     "start_time": "2022-07-05T23:40:53.005810Z"
    }
   },
   "outputs": [
    {
     "data": {
      "text/plain": [
       "Milk Teas            10\n",
       "Fluffy                7\n",
       "Fruit Series          7\n",
       "Winter Melon Teas     6\n",
       "Teas                  4\n",
       "Herbal Teas           4\n",
       "Fresh Milk            4\n",
       "Slush                 4\n",
       "Almond Drink          1\n",
       "Name: Menu Category, dtype: int64"
      ]
     },
     "execution_count": 12,
     "metadata": {},
     "output_type": "execute_result"
    }
   ],
   "source": [
    "df_drink[\"Menu Category\"].value_counts()"
   ]
  },
  {
   "cell_type": "code",
   "execution_count": 13,
   "metadata": {
    "ExecuteTime": {
     "end_time": "2022-07-05T23:40:53.352848Z",
     "start_time": "2022-07-05T23:40:53.349767Z"
    }
   },
   "outputs": [
    {
     "data": {
      "text/plain": [
       "9"
      ]
     },
     "execution_count": 13,
     "metadata": {},
     "output_type": "execute_result"
    }
   ],
   "source": [
    "len(df_drink[\"Menu Category\"].unique())"
   ]
  },
  {
   "cell_type": "markdown",
   "metadata": {},
   "source": [
    "## Map how many images in the category we have\n",
    "\n",
    "### Drink Menu"
   ]
  },
  {
   "cell_type": "code",
   "execution_count": 14,
   "metadata": {
    "ExecuteTime": {
     "end_time": "2022-07-05T23:40:56.114418Z",
     "start_time": "2022-07-05T23:40:56.085657Z"
    }
   },
   "outputs": [
    {
     "name": "stdout",
     "output_type": "stream",
     "text": [
      "{'Fresh Milk': 3, 'Fruit Series': 4, 'Slush': 4, 'Milk Teas': 10, 'Fluffy': 7, 'Herbal Teas': 3, 'Almond Drink': 1, 'Teas': 4, 'Winter Melon Teas': 6}\n"
     ]
    }
   ],
   "source": [
    "org_dir = ROOT_DIR + \"/cv2\"\n",
    "org_files = os.listdir(org_dir)\n",
    "\n",
    "unique_list = list()\n",
    "\n",
    "for item in org_files:\n",
    "    temp_df = df_drink.loc[(df_drink[\"Item Name (ENG)\"] == item.split(\".\")[0])]\n",
    "    # print(\"Name: {} ==> {}\".format(item, temp_df[\"Menu Category\"]))\n",
    "    if len(temp_df[\"Menu Category\"].values) > 0:\n",
    "        unique_list.append(temp_df[\"Menu Category\"].values[0])\n",
    "    # break\n",
    "\n",
    "    \n",
    "print(dict((x,unique_list.count(x)) for x in set(unique_list)))"
   ]
  },
  {
   "cell_type": "markdown",
   "metadata": {},
   "source": [
    "## Image Augmentation\n",
    "\n",
    "Some of the images are not in the same size (pixel), therefore, we need to perform image augmentation (resize and do not preserve aspect ratio) in order to have all images in the same pixel size (width and height)."
   ]
  },
  {
   "cell_type": "code",
   "execution_count": 15,
   "metadata": {
    "ExecuteTime": {
     "end_time": "2022-07-05T23:41:03.505924Z",
     "start_time": "2022-07-05T23:41:03.503626Z"
    }
   },
   "outputs": [],
   "source": [
    "# def resize_image(img, w, h):\n",
    "#     # resize while do not preserve aspect ratio\n",
    "#     return cv2.resize(img, (w, h), interpolation=cv2.INTER_AREA)\n",
    "\n",
    "# img_dir = ROOT_DIR + \"/cv2\"\n",
    "# img_files = os.listdir(img_dir)\n",
    "\n",
    "# if not os.path.exists(RESIZE_DIR):\n",
    "#     os.makedirs(RESIZE_DIR)\n",
    "\n",
    "# for img in img_files:\n",
    "#     # print(img)\n",
    "#     image = cv2.imread(img_dir + \"/\" + img)\n",
    "#     resized_img = resize_image(image, 256, 256)\n",
    "#     cv2.imwrite(RESIZE_DIR+\"/\"+str(img), resized_img)\n",
    "\n",
    "# print(\">>> All jobs done!\")"
   ]
  },
  {
   "cell_type": "code",
   "execution_count": 17,
   "metadata": {
    "ExecuteTime": {
     "end_time": "2022-07-05T23:56:04.390503Z",
     "start_time": "2022-07-05T23:56:04.297189Z"
    }
   },
   "outputs": [],
   "source": [
    "imgs_files = os.listdir(ROOT_DIR + \"/cv2\")\n",
    "\n",
    "x = list()\n",
    "\n",
    "for img in imgs_files:\n",
    "    # retrieve the img data\n",
    "    img_ = cv2.imread(RESIZE_DIR + \"/\" + img)\n",
    "    \n",
    "    # apply flatten\n",
    "    x.append(np.array(img_).flatten())\n",
    "#     x.append(np.array(img_))\n",
    "\n",
    "x = np.array(x)\n"
   ]
  },
  {
   "cell_type": "markdown",
   "metadata": {},
   "source": [
    "# Feature Engineering\n",
    "\n",
    "## SIFT"
   ]
  },
  {
   "cell_type": "code",
   "execution_count": 25,
   "metadata": {
    "ExecuteTime": {
     "end_time": "2022-07-06T00:01:58.676223Z",
     "start_time": "2022-07-06T00:01:58.672064Z"
    }
   },
   "outputs": [],
   "source": [
    "def sift_feature(img_dir, K):\n",
    "    \n",
    "    sift = cv2.SIFT_create()\n",
    "    d = list()\n",
    "    features_ = list()\n",
    "    \n",
    "    for i in range(len(img_dir)):\n",
    "        img = cv2.imread(RESIZE_DIR + \"/\" + img_dir[i])\n",
    "        keypoints_, descriptors_ = sift.detectAndCompute(img, None)\n",
    "        \n",
    "        if descriptors_ is None or len(descriptors_) == 0:\n",
    "            continue\n",
    "            \n",
    "        d.append(descriptors_)\n",
    "        # end loop\n",
    "    \n",
    "    \n",
    "    ##### BoW Histogram #####\n",
    "    # building cluster model\n",
    "    mbKmean = KMeans(n_clusters=K, init=\"k-means++\", random_state=42)\n",
    "    # n_clusters = cluster_model.n_clusters\n",
    "    des_stack = [desc for img in d for desc in img]\n",
    "    all_descriptors = np.array(des_stack)\n",
    "    mbKmean.fit(all_descriptors)\n",
    "    \n",
    "    \n",
    "    # Calculting histogram vectors\n",
    "    for dec in d:\n",
    "        words = mbKmean.predict(dec)\n",
    "        img_bow_hist = np.array([np.bincount(words, minlength=K)])\n",
    "        features_.append(img_bow_hist)\n",
    "        # end loop\n",
    "    \n",
    "    return np.array(features_)"
   ]
  },
  {
   "cell_type": "code",
   "execution_count": 32,
   "metadata": {
    "ExecuteTime": {
     "end_time": "2022-07-06T00:06:40.418421Z",
     "start_time": "2022-07-06T00:06:35.997567Z"
    }
   },
   "outputs": [],
   "source": [
    "imgs_files = os.listdir(RESIZE_DIR)\n",
    "\n",
    "X = sift_feature(imgs_files, 9)"
   ]
  },
  {
   "cell_type": "code",
   "execution_count": 33,
   "metadata": {
    "ExecuteTime": {
     "end_time": "2022-07-06T00:06:40.942753Z",
     "start_time": "2022-07-06T00:06:40.940025Z"
    }
   },
   "outputs": [
    {
     "data": {
      "text/plain": [
       "(92, 1, 9)"
      ]
     },
     "execution_count": 33,
     "metadata": {},
     "output_type": "execute_result"
    }
   ],
   "source": [
    "X.shape"
   ]
  },
  {
   "cell_type": "markdown",
   "metadata": {},
   "source": [
    "# Model"
   ]
  },
  {
   "cell_type": "markdown",
   "metadata": {},
   "source": [
    "## The elbow method"
   ]
  },
  {
   "cell_type": "code",
   "execution_count": 30,
   "metadata": {
    "ExecuteTime": {
     "end_time": "2022-07-06T00:03:06.485699Z",
     "start_time": "2022-07-06T00:03:06.481962Z"
    }
   },
   "outputs": [],
   "source": [
    "def elbow(x):\n",
    "    '''\n",
    "    PURPOSE:\n",
    "        Compute WCSS from 1 to 10 in order to find the optimal number of clusters\n",
    "    \n",
    "    INPUT:\n",
    "    x: matrix\n",
    "        matrix of input features\n",
    "    \n",
    "    OUTPUT:\n",
    "    wcss: list\n",
    "        a list of wcss val from 1 ~ 10 clusters\n",
    "    '''\n",
    "    wcss = list()\n",
    "    \n",
    "    for i in range(1, 11):\n",
    "        # intial with K-Means++ to avoid initalization trap\n",
    "        kmeans = KMeans(n_clusters=i, init='k-means++', random_state=42)\n",
    "        \n",
    "        x_stack = [desc for img in x for desc in img]\n",
    "        all_x = np.array(x_stack, dtype=np.float32)\n",
    "        all_x = all_x.reshape(-1, 1)\n",
    "        \n",
    "        # train the matrix features\n",
    "        kmeans.fit(all_x)\n",
    "        \n",
    "        # get the WCSS val\n",
    "        wcss.append(kmeans.inertia_)\n",
    "    \n",
    "    return wcss"
   ]
  },
  {
   "cell_type": "code",
   "execution_count": 34,
   "metadata": {
    "ExecuteTime": {
     "end_time": "2022-07-06T00:06:50.683642Z",
     "start_time": "2022-07-06T00:06:50.373549Z"
    }
   },
   "outputs": [
    {
     "data": {
      "image/png": "[encoded data removed]",
      "text/plain": [
       "<Figure size 432x288 with 1 Axes>"
      ]
     },
     "metadata": {
      "needs_background": "light"
     },
     "output_type": "display_data"
    }
   ],
   "source": [
    "WCSS = elbow(X)\n",
    "\n",
    "plt.plot(range(1, 11), WCSS)\n",
    "plt.title(\"The Elbow Method: Number of Cluters\")\n",
    "plt.xlabel(\"Number of clusters\")\n",
    "plt.ylabel(\"WCSS\")\n",
    "plt.show()"
   ]
  },
  {
   "cell_type": "code",
   "execution_count": 36,
   "metadata": {
    "ExecuteTime": {
     "end_time": "2022-07-06T01:05:35.266984Z",
     "start_time": "2022-07-06T01:05:35.175147Z"
    }
   },
   "outputs": [
    {
     "ename": "ValueError",
     "evalue": "Found array with dim 3. KMeans expected <= 2.",
     "output_type": "error",
     "traceback": [
      "\u001b[0;31m---------------------------------------------------------------------------\u001b[0m",
      "\u001b[0;31mValueError\u001b[0m                                Traceback (most recent call last)",
      "Input \u001b[0;32mIn [36]\u001b[0m, in \u001b[0;36m<cell line: 1>\u001b[0;34m()\u001b[0m\n\u001b[0;32m----> 1\u001b[0m kmeans \u001b[38;5;241m=\u001b[39m \u001b[43mKMeans\u001b[49m\u001b[43m(\u001b[49m\u001b[43mn_clusters\u001b[49m\u001b[38;5;241;43m=\u001b[39;49m\u001b[38;5;241;43m2\u001b[39;49m\u001b[43m,\u001b[49m\u001b[43m \u001b[49m\u001b[43minit\u001b[49m\u001b[38;5;241;43m=\u001b[39;49m\u001b[38;5;124;43m'\u001b[39;49m\u001b[38;5;124;43mk-means++\u001b[39;49m\u001b[38;5;124;43m'\u001b[39;49m\u001b[43m,\u001b[49m\u001b[43m \u001b[49m\u001b[43mrandom_state\u001b[49m\u001b[38;5;241;43m=\u001b[39;49m\u001b[38;5;241;43m42\u001b[39;49m\u001b[43m)\u001b[49m\u001b[38;5;241;43m.\u001b[39;49m\u001b[43mfit\u001b[49m\u001b[43m(\u001b[49m\u001b[43mX\u001b[49m\u001b[43m)\u001b[49m\n",
      "File \u001b[0;32m~/.local/lib/python3.10/site-packages/sklearn/cluster/_kmeans.py:1365\u001b[0m, in \u001b[0;36mKMeans.fit\u001b[0;34m(self, X, y, sample_weight)\u001b[0m\n\u001b[1;32m   1339\u001b[0m \u001b[38;5;28;01mdef\u001b[39;00m \u001b[38;5;21mfit\u001b[39m(\u001b[38;5;28mself\u001b[39m, X, y\u001b[38;5;241m=\u001b[39m\u001b[38;5;28;01mNone\u001b[39;00m, sample_weight\u001b[38;5;241m=\u001b[39m\u001b[38;5;28;01mNone\u001b[39;00m):\n\u001b[1;32m   1340\u001b[0m     \u001b[38;5;124;03m\"\"\"Compute k-means clustering.\u001b[39;00m\n\u001b[1;32m   1341\u001b[0m \n\u001b[1;32m   1342\u001b[0m \u001b[38;5;124;03m    Parameters\u001b[39;00m\n\u001b[0;32m   (...)\u001b[0m\n\u001b[1;32m   1363\u001b[0m \u001b[38;5;124;03m        Fitted estimator.\u001b[39;00m\n\u001b[1;32m   1364\u001b[0m \u001b[38;5;124;03m    \"\"\"\u001b[39;00m\n\u001b[0;32m-> 1365\u001b[0m     X \u001b[38;5;241m=\u001b[39m \u001b[38;5;28;43mself\u001b[39;49m\u001b[38;5;241;43m.\u001b[39;49m\u001b[43m_validate_data\u001b[49m\u001b[43m(\u001b[49m\n\u001b[1;32m   1366\u001b[0m \u001b[43m        \u001b[49m\u001b[43mX\u001b[49m\u001b[43m,\u001b[49m\n\u001b[1;32m   1367\u001b[0m \u001b[43m        \u001b[49m\u001b[43maccept_sparse\u001b[49m\u001b[38;5;241;43m=\u001b[39;49m\u001b[38;5;124;43m\"\u001b[39;49m\u001b[38;5;124;43mcsr\u001b[39;49m\u001b[38;5;124;43m\"\u001b[39;49m\u001b[43m,\u001b[49m\n\u001b[1;32m   1368\u001b[0m \u001b[43m        \u001b[49m\u001b[43mdtype\u001b[49m\u001b[38;5;241;43m=\u001b[39;49m\u001b[43m[\u001b[49m\u001b[43mnp\u001b[49m\u001b[38;5;241;43m.\u001b[39;49m\u001b[43mfloat64\u001b[49m\u001b[43m,\u001b[49m\u001b[43m \u001b[49m\u001b[43mnp\u001b[49m\u001b[38;5;241;43m.\u001b[39;49m\u001b[43mfloat32\u001b[49m\u001b[43m]\u001b[49m\u001b[43m,\u001b[49m\n\u001b[1;32m   1369\u001b[0m \u001b[43m        \u001b[49m\u001b[43morder\u001b[49m\u001b[38;5;241;43m=\u001b[39;49m\u001b[38;5;124;43m\"\u001b[39;49m\u001b[38;5;124;43mC\u001b[39;49m\u001b[38;5;124;43m\"\u001b[39;49m\u001b[43m,\u001b[49m\n\u001b[1;32m   1370\u001b[0m \u001b[43m        \u001b[49m\u001b[43mcopy\u001b[49m\u001b[38;5;241;43m=\u001b[39;49m\u001b[38;5;28;43mself\u001b[39;49m\u001b[38;5;241;43m.\u001b[39;49m\u001b[43mcopy_x\u001b[49m\u001b[43m,\u001b[49m\n\u001b[1;32m   1371\u001b[0m \u001b[43m        \u001b[49m\u001b[43maccept_large_sparse\u001b[49m\u001b[38;5;241;43m=\u001b[39;49m\u001b[38;5;28;43;01mFalse\u001b[39;49;00m\u001b[43m,\u001b[49m\n\u001b[1;32m   1372\u001b[0m \u001b[43m    \u001b[49m\u001b[43m)\u001b[49m\n\u001b[1;32m   1374\u001b[0m     \u001b[38;5;28mself\u001b[39m\u001b[38;5;241m.\u001b[39m_check_params(X)\n\u001b[1;32m   1375\u001b[0m     random_state \u001b[38;5;241m=\u001b[39m check_random_state(\u001b[38;5;28mself\u001b[39m\u001b[38;5;241m.\u001b[39mrandom_state)\n",
      "File \u001b[0;32m~/.local/lib/python3.10/site-packages/sklearn/base.py:577\u001b[0m, in \u001b[0;36mBaseEstimator._validate_data\u001b[0;34m(self, X, y, reset, validate_separately, **check_params)\u001b[0m\n\u001b[1;32m    575\u001b[0m     \u001b[38;5;28;01mraise\u001b[39;00m \u001b[38;5;167;01mValueError\u001b[39;00m(\u001b[38;5;124m\"\u001b[39m\u001b[38;5;124mValidation should be done on X, y or both.\u001b[39m\u001b[38;5;124m\"\u001b[39m)\n\u001b[1;32m    576\u001b[0m \u001b[38;5;28;01melif\u001b[39;00m \u001b[38;5;129;01mnot\u001b[39;00m no_val_X \u001b[38;5;129;01mand\u001b[39;00m no_val_y:\n\u001b[0;32m--> 577\u001b[0m     X \u001b[38;5;241m=\u001b[39m \u001b[43mcheck_array\u001b[49m\u001b[43m(\u001b[49m\u001b[43mX\u001b[49m\u001b[43m,\u001b[49m\u001b[43m \u001b[49m\u001b[43minput_name\u001b[49m\u001b[38;5;241;43m=\u001b[39;49m\u001b[38;5;124;43m\"\u001b[39;49m\u001b[38;5;124;43mX\u001b[39;49m\u001b[38;5;124;43m\"\u001b[39;49m\u001b[43m,\u001b[49m\u001b[43m \u001b[49m\u001b[38;5;241;43m*\u001b[39;49m\u001b[38;5;241;43m*\u001b[39;49m\u001b[43mcheck_params\u001b[49m\u001b[43m)\u001b[49m\n\u001b[1;32m    578\u001b[0m     out \u001b[38;5;241m=\u001b[39m X\n\u001b[1;32m    579\u001b[0m \u001b[38;5;28;01melif\u001b[39;00m no_val_X \u001b[38;5;129;01mand\u001b[39;00m \u001b[38;5;129;01mnot\u001b[39;00m no_val_y:\n",
      "File \u001b[0;32m~/.local/lib/python3.10/site-packages/sklearn/utils/validation.py:893\u001b[0m, in \u001b[0;36mcheck_array\u001b[0;34m(array, accept_sparse, accept_large_sparse, dtype, order, copy, force_all_finite, ensure_2d, allow_nd, ensure_min_samples, ensure_min_features, estimator, input_name)\u001b[0m\n\u001b[1;32m    887\u001b[0m     \u001b[38;5;28;01mraise\u001b[39;00m \u001b[38;5;167;01mValueError\u001b[39;00m(\n\u001b[1;32m    888\u001b[0m         \u001b[38;5;124m\"\u001b[39m\u001b[38;5;124mdtype=\u001b[39m\u001b[38;5;124m'\u001b[39m\u001b[38;5;124mnumeric\u001b[39m\u001b[38;5;124m'\u001b[39m\u001b[38;5;124m is not compatible with arrays of bytes/strings.\u001b[39m\u001b[38;5;124m\"\u001b[39m\n\u001b[1;32m    889\u001b[0m         \u001b[38;5;124m\"\u001b[39m\u001b[38;5;124mConvert your data to numeric values explicitly instead.\u001b[39m\u001b[38;5;124m\"\u001b[39m\n\u001b[1;32m    890\u001b[0m     )\n\u001b[1;32m    892\u001b[0m \u001b[38;5;28;01mif\u001b[39;00m \u001b[38;5;129;01mnot\u001b[39;00m allow_nd \u001b[38;5;129;01mand\u001b[39;00m array\u001b[38;5;241m.\u001b[39mndim \u001b[38;5;241m>\u001b[39m\u001b[38;5;241m=\u001b[39m \u001b[38;5;241m3\u001b[39m:\n\u001b[0;32m--> 893\u001b[0m     \u001b[38;5;28;01mraise\u001b[39;00m \u001b[38;5;167;01mValueError\u001b[39;00m(\n\u001b[1;32m    894\u001b[0m         \u001b[38;5;124m\"\u001b[39m\u001b[38;5;124mFound array with dim \u001b[39m\u001b[38;5;132;01m%d\u001b[39;00m\u001b[38;5;124m. \u001b[39m\u001b[38;5;132;01m%s\u001b[39;00m\u001b[38;5;124m expected <= 2.\u001b[39m\u001b[38;5;124m\"\u001b[39m\n\u001b[1;32m    895\u001b[0m         \u001b[38;5;241m%\u001b[39m (array\u001b[38;5;241m.\u001b[39mndim, estimator_name)\n\u001b[1;32m    896\u001b[0m     )\n\u001b[1;32m    898\u001b[0m \u001b[38;5;28;01mif\u001b[39;00m force_all_finite:\n\u001b[1;32m    899\u001b[0m     _assert_all_finite(\n\u001b[1;32m    900\u001b[0m         array,\n\u001b[1;32m    901\u001b[0m         input_name\u001b[38;5;241m=\u001b[39minput_name,\n\u001b[1;32m    902\u001b[0m         estimator_name\u001b[38;5;241m=\u001b[39mestimator_name,\n\u001b[1;32m    903\u001b[0m         allow_nan\u001b[38;5;241m=\u001b[39mforce_all_finite \u001b[38;5;241m==\u001b[39m \u001b[38;5;124m\"\u001b[39m\u001b[38;5;124mallow-nan\u001b[39m\u001b[38;5;124m\"\u001b[39m,\n\u001b[1;32m    904\u001b[0m     )\n",
      "\u001b[0;31mValueError\u001b[0m: Found array with dim 3. KMeans expected <= 2."
     ]
    }
   ],
   "source": [
    "kmeans = KMeans(n_clusters=2, init='k-means++', random_state=42).fit(X)"
   ]
  },
  {
   "cell_type": "code",
   "execution_count": null,
   "metadata": {},
   "outputs": [],
   "source": []
  },
  {
   "cell_type": "markdown",
   "metadata": {
    "id": "KxUa_DqvlXiX"
   },
   "source": [
    "# Feature matching"
   ]
  },
  {
   "cell_type": "code",
   "execution_count": null,
   "metadata": {
    "ExecuteTime": {
     "end_time": "2022-06-29T01:21:53.841691Z",
     "start_time": "2022-06-29T01:21:51.896271Z"
    },
    "colab": {
     "base_uri": "https://localhost:8080/",
     "height": 223
    },
    "id": "ZutI-4eDlPn1",
    "outputId": "bb34bb0f-78af-4d17-cdf3-f274ad51e0da"
   },
   "outputs": [],
   "source": [
    "# # feature matching\n",
    "\n",
    "# # instantiate a Brute-force matcher with L1 norm\n",
    "# bf = cv2.BFMatcher(cv2.NORM_L1, crossCheck=True)\n",
    "\n",
    "# # match the two descriptors\n",
    "# matches = bf.match(de1, de2)\n",
    "\n",
    "# # sort the match result based on feature vector distance\n",
    "# matches = sorted(matches, key=lambda x: x.distance)\n",
    "\n",
    "# # draw the match image (cross reference) and then display it\n",
    "# img3 = cv2.drawMatches(cv2.imread(img1),\n",
    "#                        kp1,\n",
    "#                        cv2.imread(img2),\n",
    "#                        kp2,\n",
    "#                        matches[:50],\n",
    "#                        cv2.imread(img2),\n",
    "#                        flags=2)\n",
    "# # img=mpimg.imread('stinkbug.png')\n",
    "# plt.imshow(img3), plt.show()"
   ]
  },
  {
   "cell_type": "code",
   "execution_count": null,
   "metadata": {
    "ExecuteTime": {
     "end_time": "2022-06-29T01:21:53.846301Z",
     "start_time": "2022-06-29T01:21:53.843033Z"
    },
    "colab": {
     "base_uri": "https://localhost:8080/"
    },
    "id": "JRMC0pzflzp5",
    "outputId": "e73b395c-0384-4e26-d495-465938e9a2d4"
   },
   "outputs": [],
   "source": [
    "# dir(matches[0])"
   ]
  },
  {
   "cell_type": "code",
   "execution_count": null,
   "metadata": {
    "ExecuteTime": {
     "end_time": "2022-06-29T01:21:53.850591Z",
     "start_time": "2022-06-29T01:21:53.847434Z"
    }
   },
   "outputs": [],
   "source": [
    "# def match_products(product_1, product_2):\n",
    "#     # instantiate a Brute-force matcher with L1 norm\n",
    "#     bf = cv2.BFMatcher(cv2.NORM_L1, crossCheck=True)\n",
    "\n",
    "#     # match the two descriptors\n",
    "#     matches = bf.match(retrieve_stored_descriptor(product_1), retrieve_stored_descriptor(product_2))\n",
    "\n",
    "#     # sort the match result based on feature vector distance\n",
    "#     matches = sorted(matches, key=lambda x: x.distance)\n",
    "    \n",
    "#     return matches"
   ]
  },
  {
   "cell_type": "code",
   "execution_count": null,
   "metadata": {
    "ExecuteTime": {
     "end_time": "2022-06-29T01:21:53.874277Z",
     "start_time": "2022-06-29T01:21:53.851913Z"
    },
    "colab": {
     "base_uri": "https://localhost:8080/"
    },
    "id": "3HH4K6BcmnWW",
    "outputId": "0671299f-a1a5-4d84-8917-5b33fdb878f5"
   },
   "outputs": [],
   "source": [
    "# PRODUCT_NAME_1 = \"Fluffy Green Tea\"\n",
    "# PRODUCT_NAME_2 = \"Fluffy Jin Xuan Tea\"\n",
    "\n",
    "# index = 1\n",
    "\n",
    "# print(\"Feature {} distance is {}\".format(index, match_products(PRODUCT_NAME_1, PRODUCT_NAME_2)[1].distance))"
   ]
  },
  {
   "cell_type": "code",
   "execution_count": null,
   "metadata": {
    "ExecuteTime": {
     "end_time": "2022-06-29T01:21:53.901219Z",
     "start_time": "2022-06-29T01:21:53.896882Z"
    },
    "id": "Kkcf7CtXoGkl"
   },
   "outputs": [],
   "source": [
    "# retrieve_stored_descriptor(PRODUCT_NAME_1).shape"
   ]
  },
  {
   "cell_type": "code",
   "execution_count": null,
   "metadata": {
    "ExecuteTime": {
     "end_time": "2022-06-29T01:21:54.082740Z",
     "start_time": "2022-06-29T01:21:54.079468Z"
    }
   },
   "outputs": [],
   "source": [
    "# retrieve_stored_descriptor(PRODUCT_NAME_2).shape"
   ]
  },
  {
   "cell_type": "markdown",
   "metadata": {},
   "source": [
    "A list of things we need to consider here:\n",
    "- Mean\n",
    "- Median\n",
    "\n",
    "- Distance formula (Euclidean distance)\n",
    "\n",
    "- Visualization (feature matrix)\n",
    "\n",
    "- Clustering"
   ]
  },
  {
   "cell_type": "code",
   "execution_count": null,
   "metadata": {
    "ExecuteTime": {
     "end_time": "2022-06-29T01:21:55.056742Z",
     "start_time": "2022-06-29T01:21:55.032300Z"
    }
   },
   "outputs": [],
   "source": [
    "# # attempt of using the mean of the all distances\n",
    "# from numpy import mean, median\n",
    "\n",
    "# matches_results = [item.distance for item in match_products(PRODUCT_NAME_1, PRODUCT_NAME_2)]\n",
    "\n",
    "# dist_mean = mean(matches_results)\n",
    "# dist_median = median(matches_results)\n",
    "    \n",
    "# print(\"Mean: {}\".format(dist_mean))\n",
    "# print(\"Median: {}\".format(dist_median))"
   ]
  },
  {
   "cell_type": "code",
   "execution_count": null,
   "metadata": {
    "ExecuteTime": {
     "end_time": "2022-06-29T01:21:56.306629Z",
     "start_time": "2022-06-29T01:21:56.287716Z"
    }
   },
   "outputs": [],
   "source": [
    "# temp = {\n",
    "#     \"matches\": matches_results\n",
    "# }\n",
    "# df = pd.DataFrame(temp)\n",
    "\n",
    "# df.info()"
   ]
  },
  {
   "cell_type": "code",
   "execution_count": null,
   "metadata": {
    "ExecuteTime": {
     "end_time": "2022-06-29T01:21:56.581254Z",
     "start_time": "2022-06-29T01:21:56.479034Z"
    }
   },
   "outputs": [],
   "source": [
    "# # ax = (df[\"matches\"]).plot.box()\n",
    "# ax = df.boxplot(column=[\"matches\"], vert=False)\n",
    "# ax.set_xlabel(\"Feature Match Distance\")"
   ]
  },
  {
   "cell_type": "code",
   "execution_count": null,
   "metadata": {
    "ExecuteTime": {
     "end_time": "2022-06-29T01:22:25.748147Z",
     "start_time": "2022-06-29T01:22:25.742152Z"
    }
   },
   "outputs": [],
   "source": [
    "# def comparable_ovr(target_, return_mode=-1, sort=False):\n",
    "#     '''\n",
    "#     Comparing one-vs-rest product. aka, one vs all other products on the records.\n",
    "\n",
    "#     INPUTS:\n",
    "#         target_: str\n",
    "#             target product name\n",
    "#         return_mode: int\n",
    "#             what kind of list you want to have as return.\n",
    "#             -1: just the mean\n",
    "#             0: both the mean and median (two lists)\n",
    "#             1: just the median\n",
    "#         sort: boolean\n",
    "#             sort the return result in ASC or DESC\n",
    "#             False: return in ASC\n",
    "#             True: return in DESC\n",
    "\n",
    "#     OUTPUTS:\n",
    "#         results: list\n",
    "#             The desired results from the computation based on the given return mode value.\n",
    "#             If the return mode is in the incorrect number, it will return None.\n",
    "#     '''\n",
    "\n",
    "#     ACCEPTED_RETURN_MODE = [-1, 0, 1]\n",
    "\n",
    "#     if return_mode not in ACCEPTED_RETURN_MODE:\n",
    "#         return None\n",
    "\n",
    "#     # get a full list of the products\n",
    "#     stored_descriptors = os.listdir(SAVE_DE_DIR)\n",
    "\n",
    "#     results_mean = list()\n",
    "#     results_median = list()\n",
    "\n",
    "#     # go through all products\n",
    "#     for i in range(len(stored_descriptors)):\n",
    "\n",
    "#         # if it is the product itself, simply skip it\n",
    "#         if stored_descriptors[i] == target_:\n",
    "#             pass\n",
    "\n",
    "#         # compute the match\n",
    "#         matches_results_listing = [item.distance for item in match_products(\n",
    "#             target_, stored_descriptors[i].split(\".\")[0])]\n",
    "\n",
    "#         # store the mean and median results\n",
    "#         results_mean.append(mean(matches_results_listing))\n",
    "#         results_median.append(median(matches_results_listing))\n",
    "#     # end for\n",
    "\n",
    "#     # sort the results\n",
    "#     if sort:\n",
    "#         results_mean.sort(reverse=True)\n",
    "#         results_median.sort(reverse=True)\n",
    "\n",
    "#     if return_mode == -1:\n",
    "#         return results_mean\n",
    "#     elif return_mode == 0:\n",
    "#         return results_mean, results_median\n",
    "#     else:\n",
    "#         return results_median"
   ]
  },
  {
   "cell_type": "markdown",
   "metadata": {},
   "source": [
    "<b>Testing</b>\n",
    "\n",
    "Give a product name, match it against the other products, and then plot the mean and median based on the \"comparable_ovr\" func. The less the distance is, the closer the two products look alike."
   ]
  },
  {
   "cell_type": "code",
   "execution_count": null,
   "metadata": {
    "ExecuteTime": {
     "end_time": "2022-06-29T01:22:34.768569Z",
     "start_time": "2022-06-29T01:22:27.116363Z"
    }
   },
   "outputs": [],
   "source": [
    "# test_product = \"Q Mochi\"\n",
    "\n",
    "# results_mean, results_median = comparable_ovr(test_product, return_mode=0, sort=True)\n",
    "\n",
    "# temp = {\n",
    "#     \"matches_mean\": results_mean,\n",
    "#     \"matches_median\": results_median,\n",
    "# }\n",
    "# df2 = pd.DataFrame(temp)\n",
    "\n",
    "# ax = df2.boxplot(column=[\"matches_mean\"], vert=False)\n",
    "# ax.set_title(\"Box plot for \" + test_product)\n",
    "# ax.set_xlabel(\"Feature Match Distance (mean)\")"
   ]
  },
  {
   "cell_type": "code",
   "execution_count": null,
   "metadata": {
    "ExecuteTime": {
     "end_time": "2022-06-29T01:22:34.852024Z",
     "start_time": "2022-06-29T01:22:34.769964Z"
    }
   },
   "outputs": [],
   "source": [
    "# ax = df2.boxplot(column=[\"matches_median\"], vert=False)\n",
    "# ax.set_title(\"Box plot for \" + test_product)\n",
    "# ax.set_xlabel(\"Feature Match Distance (median)\")"
   ]
  },
  {
   "cell_type": "code",
   "execution_count": null,
   "metadata": {},
   "outputs": [],
   "source": []
  },
  {
   "cell_type": "code",
   "execution_count": null,
   "metadata": {
    "ExecuteTime": {
     "end_time": "2022-06-29T01:24:18.849753Z",
     "start_time": "2022-06-29T01:24:18.846521Z"
    }
   },
   "outputs": [],
   "source": [
    "# print(dir(retrieve_stored_descriptor(test_product)))"
   ]
  },
  {
   "cell_type": "code",
   "execution_count": null,
   "metadata": {
    "ExecuteTime": {
     "end_time": "2022-06-29T01:40:08.243706Z",
     "start_time": "2022-06-29T01:40:08.238640Z"
    }
   },
   "outputs": [],
   "source": [
    "# retrieve_stored_descriptor(test_product).shape"
   ]
  },
  {
   "cell_type": "code",
   "execution_count": null,
   "metadata": {
    "ExecuteTime": {
     "end_time": "2022-06-29T01:26:20.006813Z",
     "start_time": "2022-06-29T01:26:19.999870Z"
    }
   },
   "outputs": [],
   "source": [
    "# retrieve_stored_descriptor(test_product).view()"
   ]
  },
  {
   "cell_type": "code",
   "execution_count": null,
   "metadata": {
    "ExecuteTime": {
     "end_time": "2022-06-29T01:29:25.677055Z",
     "start_time": "2022-06-29T01:29:25.653584Z"
    }
   },
   "outputs": [],
   "source": [
    "# arr = retrieve_stored_descriptor(test_product)\n",
    "# rr, cc = draw.circle_perimeter(100, 100, radius=80, shape=arr.shape)\n",
    "# arr[rr, cc] = 1\n",
    "# plt.imshow(arr)\n",
    "# plt.show()"
   ]
  },
  {
   "cell_type": "code",
   "execution_count": null,
   "metadata": {},
   "outputs": [],
   "source": []
  }
 ],
 "metadata": {
  "accelerator": "GPU",
  "colab": {
   "collapsed_sections": [],
   "name": "03__SIFT_sample.ipynb",
   "provenance": [],
   "toc_visible": true
  },
  "gpuClass": "standard",
  "kernelspec": {
   "display_name": "ml",
   "language": "python",
   "name": "ml"
  },
  "language_info": {
   "codemirror_mode": {
    "name": "ipython",
    "version": 3
   },
   "file_extension": ".py",
   "mimetype": "text/x-python",
   "name": "python",
   "nbconvert_exporter": "python",
   "pygments_lexer": "ipython3",
   "version": "3.10.5"
  },
  "toc": {
   "base_numbering": 1,
   "nav_menu": {
    "height": "255px",
    "width": "318px"
   },
   "number_sections": true,
   "sideBar": true,
   "skip_h1_title": false,
   "title_cell": "Table of Contents",
   "title_sidebar": "Contents",
   "toc_cell": true,
   "toc_position": {
    "height": "calc(100% - 180px)",
    "left": "10px",
    "top": "150px",
    "width": "265px"
   },
   "toc_section_display": true,
   "toc_window_display": true
  }
 },
 "nbformat": 4,
 "nbformat_minor": 1
}
